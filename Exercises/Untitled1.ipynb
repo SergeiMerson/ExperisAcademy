{
 "cells": [
  {
   "cell_type": "code",
   "execution_count": null,
   "metadata": {},
   "outputs": [],
   "source": [
    "def chessboard(board_size: int, board:list=None, queen_positions:list = []):\n",
    "    # If no chessboard was passed create a new one\n",
    "    if board is None:\n",
    "        board = [(x, y) for x in range(board_size) for y in range(board_size)]\n",
    "\n",
    "    # Remove all unsuitable cells:\n",
    "    for x_queen, y_queen in queen_positions:\n",
    "        board = [(x,y) for x, y in board\n",
    "                 if (x != x_queen) and (y != y_queen) and (abs(y - y_queen) != abs(x - x_queen))]\n",
    "    \n",
    "    # If no options left - return current sequence:\n",
    "    if not board:\n",
    "        return queen_positions\n",
    "\n",
    "    intermediate_solutions = []\n",
    "\n",
    "    # Iterate over acceptable cells:\n",
    "    for cell in board:\n",
    "        # get additional solutions:\n",
    "        intermediate_solutions.append(chessboard(board_size, board, queen_positions + [cell]))\n",
    "\n",
    "    # Unpack extra brackets:\n",
    "    flattened_solutions = []\n",
    "\n",
    "    for s in intermediate_solutions:\n",
    "        if isinstance(s[0], list):\n",
    "            flattened_solutions.append(sorted(s[0]))\n",
    "        else:\n",
    "            flattened_solutions.append(sorted(s))\n",
    "\n",
    "    # Remove duplicates:\n",
    "    unique_solutions = []\n",
    "\n",
    "    while flattened_solutions:\n",
    "        candidate = flattened_solutions.pop()\n",
    "        if candidate not in flattened_solutions:\n",
    "            unique_solutions.append(candidate)\n",
    "\n",
    "    # return only longest sequences:\n",
    "    longest_solutions = [s for s in unique_solutions if len(s) == max(map(len, unique_solutions))]\n",
    "\n",
    "    return longest_solutions\n",
    "\n",
    "\n",
    "if __name__ == '__main__':\n",
    "\n",
    "    from time import time\n",
    "    from pprint import pprint\n",
    "\n",
    "    start = time()\n",
    "    queen_8 = chessboard(8)\n",
    "    end = time()\n",
    "\n",
    "    print((end - start))\n",
    "    print(len(queen_8))\n",
    "    pprint(sorted([sorted(s) for s in queen_8]))"
   ]
  },
  {
   "cell_type": "code",
   "execution_count": null,
   "metadata": {},
   "outputs": [],
   "source": [
    "def count_words(text):\n",
    "    tokens = \n",
    "    "
   ]
  },
  {
   "cell_type": "code",
   "execution_count": 59,
   "metadata": {},
   "outputs": [],
   "source": [
    "def get_hash(word, vocab):\n",
    "    product = 1\n",
    "    for letter in word:\n",
    "        product *= vocab[letter]\n",
    "    \n",
    "    return product\n",
    "\n",
    "\n",
    "def get_primes(N):\n",
    "    # Prepare generator:\n",
    "    prime_generator = (num for num in range(2,int(1e10))\n",
    "                       if 0 not in (num % div for div in range(2, int(num**0.5)+1)))\n",
    "    \n",
    "    return [next(prime_generator) for _ in range(N)]\n",
    "\n",
    "\n",
    "def get_vocabulary(words):\n",
    "    \n",
    "    tokens = set()\n",
    "    \n",
    "    for w in words:\n",
    "        tokens.update(w.lower())\n",
    "    \n",
    "    primes = get_primes(len(tokens))\n",
    "    \n",
    "    vocabulary = {letter: prime for letter, prime in zip(tokens, primes)}\n",
    "    \n",
    "    return(vocabulary)\n",
    "\n",
    "\n",
    "def clean_anagrams(words):\n",
    "    \n",
    "    vocabulary = get_vocabulary(words)\n",
    "    \n",
    "    result = {get_hash(word.lower(), vocabulary): word for word in words}\n",
    "    \n",
    "    return list(result.values())"
   ]
  },
  {
   "cell_type": "code",
   "execution_count": 60,
   "metadata": {},
   "outputs": [
    {
     "data": {
      "text/plain": [
       "['PAN', 'hectares', 'era']"
      ]
     },
     "execution_count": 60,
     "metadata": {},
     "output_type": "execute_result"
    }
   ],
   "source": [
    "clean_anagrams(['nap','teachers','cheaters','PAN','ear', 'era', 'hectares'])"
   ]
  }
 ],
 "metadata": {
  "kernelspec": {
   "display_name": "Python 3",
   "language": "python",
   "name": "python3"
  },
  "language_info": {
   "codemirror_mode": {
    "name": "ipython",
    "version": 3
   },
   "file_extension": ".py",
   "mimetype": "text/x-python",
   "name": "python",
   "nbconvert_exporter": "python",
   "pygments_lexer": "ipython3",
   "version": "3.7.3"
  }
 },
 "nbformat": 4,
 "nbformat_minor": 2
}
