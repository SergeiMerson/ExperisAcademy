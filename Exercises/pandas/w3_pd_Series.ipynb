{
 "cells": [
  {
   "cell_type": "markdown",
   "source": [
    "# Pandas Data Series"
   ],
   "metadata": {
    "collapsed": false
   }
  },
  {
   "cell_type": "code",
   "execution_count": null,
   "outputs": [],
   "source": [
    "import numpy as np\n",
    "import pandas as pd\n",
    "import matplotlib.pyplot as plt"
   ],
   "metadata": {
    "collapsed": false,
    "pycharm": {
     "name": "#%%\n"
    }
   }
  },
  {
   "cell_type": "markdown",
   "source": [
    "#### 1. Write a Python program to create and display a one-dimensional array-like object containing an array of data using Pandas module.  "
   ],
   "metadata": {
    "collapsed": false
   }
  },
  {
   "cell_type": "code",
   "execution_count": null,
   "outputs": [],
   "source": [],
   "metadata": {
    "collapsed": false,
    "pycharm": {
     "name": "#%%\n"
    }
   }
  },
  {
   "cell_type": "markdown",
   "source": [
    "#### 2. Write a Python program to convert a Panda module Series to Python list and it's type.  "
   ],
   "metadata": {
    "collapsed": false
   }
  },
  {
   "cell_type": "code",
   "execution_count": null,
   "outputs": [],
   "source": [],
   "metadata": {
    "collapsed": false,
    "pycharm": {
     "name": "#%%\n"
    }
   }
  },
  {
   "cell_type": "markdown",
   "source": [
    "#### 3. Write a Python program to add, subtract, multiple and divide two Pandas Series.   \n",
    "Sample Series: [2, 4, 6, 8, 10], [1, 3, 5, 7, 9]  "
   ],
   "metadata": {
    "collapsed": false
   }
  },
  {
   "cell_type": "code",
   "execution_count": null,
   "outputs": [],
   "source": [],
   "metadata": {
    "collapsed": false,
    "pycharm": {
     "name": "#%%\n"
    }
   }
  },
  {
   "cell_type": "markdown",
   "source": [
    "#### 4. Write a Python program to get the largest integer smaller or equal to the division of the inputs.   \n",
    "Sample Series: [2, 4, 6, 8, 10], [1, 3, 5, 7, 9]  "
   ],
   "metadata": {
    "collapsed": false
   }
  },
  {
   "cell_type": "code",
   "execution_count": null,
   "outputs": [],
   "source": [],
   "metadata": {
    "collapsed": false,
    "pycharm": {
     "name": "#%%\n"
    }
   }
  },
  {
   "cell_type": "markdown",
   "source": [
    "#### 5. Write a Python program to convert a dictionary to a Pandas series.   \n",
    "Sample Series:  \n",
    "Original dictionary:  \n",
    "{'a': 100, 'b': 200, 'c': 300, 'd': 400, 'e': 800}  \n",
    "Converted series:  \n",
    "a 100  \n",
    "b 200  \n",
    "c 300  \n",
    "d 400  \n",
    "e 800  \n",
    "dtype: int64  "
   ],
   "metadata": {
    "collapsed": false
   }
  },
  {
   "cell_type": "code",
   "execution_count": null,
   "outputs": [],
   "source": [],
   "metadata": {
    "collapsed": false,
    "pycharm": {
     "name": "#%%\n"
    }
   }
  },
  {
   "cell_type": "markdown",
   "source": [
    "#### 6. Write a Python program to convert a NumPy array to a Pandas series.   \n",
    "Sample Series:  \n",
    "NumPy array:  \n",
    "[10 20 30 40 50]  \n",
    "Converted Pandas series:  \n",
    "0 10  \n",
    "1 20  \n",
    "2 30  \n",
    "3 40  \n",
    "4 50  \n",
    "dtype: int64  "
   ],
   "metadata": {
    "collapsed": false
   }
  },
  {
   "cell_type": "code",
   "execution_count": null,
   "outputs": [],
   "source": [],
   "metadata": {
    "collapsed": false,
    "pycharm": {
     "name": "#%%\n"
    }
   }
  },
  {
   "cell_type": "markdown",
   "source": [
    "#### 7. Write a Python program to change the data type of given a column or a Series.   \n",
    "Sample Series:  \n",
    "Original Data Series:  \n",
    "0 100  \n",
    "1 200  \n",
    "2 python  \n",
    "3 300.12  \n",
    "4 400  \n",
    "dtype: object  \n",
    "Change the said data type to numeric:  \n",
    "0 100.00  \n",
    "1 200.00  \n",
    "2 NaN  \n",
    "3 300.12  \n",
    "4 400.00  \n",
    "dtype: float64  "
   ],
   "metadata": {
    "collapsed": false
   }
  },
  {
   "cell_type": "code",
   "execution_count": null,
   "outputs": [],
   "source": [],
   "metadata": {
    "collapsed": false,
    "pycharm": {
     "name": "#%%\n"
    }
   }
  },
  {
   "cell_type": "markdown",
   "source": [
    "#### 8. Write a Python Pandas program to convert the first column of a DataFrame as a Series.   \n",
    "Sample Output:  \n",
    "Original DataFrame  \n",
    "col1 col2 col3  \n",
    "0 1 4 7  \n",
    "1 2 5 5  \n",
    "2 3 6 8  \n",
    "3 4 9 12  \n",
    "4 7 5 1  \n",
    "5 11 0 11  \n",
    "1st column as a Series:  \n",
    "0 1  \n",
    "1 2  \n",
    "2 3  \n",
    "3 4  \n",
    "4 7  \n",
    "5 11  \n",
    "Name: col1, dtype: int64  \n",
    "<class 'pandas.core.series.Series'>  "
   ],
   "metadata": {
    "collapsed": false
   }
  },
  {
   "cell_type": "code",
   "execution_count": null,
   "outputs": [],
   "source": [],
   "metadata": {
    "collapsed": false,
    "pycharm": {
     "name": "#%%\n"
    }
   }
  },
  {
   "cell_type": "markdown",
   "source": [
    "#### 9. Write a Pandas program to convert a given Series to an array.   \n",
    "Sample Output:  \n",
    "Original Data Series:  \n",
    "0 100  \n",
    "1 200  \n",
    "2 python  \n",
    "3 300.12  \n",
    "4 400  \n",
    "dtype: object  \n",
    "Series to an array  \n",
    "['100' '200' 'python' '300.12' '400']  "
   ],
   "metadata": {
    "collapsed": false
   }
  },
  {
   "cell_type": "code",
   "execution_count": null,
   "outputs": [],
   "source": [],
   "metadata": {
    "collapsed": false,
    "pycharm": {
     "name": "#%%\n"
    }
   }
  },
  {
   "cell_type": "markdown",
   "source": [
    "#### 10. Write a Pandas program to convert Series of lists to one Series.   \n",
    "Sample Output:  \n",
    "Original Series of list  \n",
    "0 [Red, Green, White]  \n",
    "1 [Red, Black]  \n",
    "2 [Yellow]  \n",
    "dtype: object  \n",
    "One Series  \n",
    "0 Red  \n",
    "1 Green  \n",
    "2 White  \n",
    "3 Red  \n",
    "4 Black  \n",
    "5 Yellow  \n",
    "dtype: object  "
   ],
   "metadata": {
    "collapsed": false
   }
  },
  {
   "cell_type": "code",
   "execution_count": null,
   "outputs": [],
   "source": [],
   "metadata": {
    "collapsed": false,
    "pycharm": {
     "name": "#%%\n"
    }
   }
  },
  {
   "cell_type": "markdown",
   "source": [
    "#### 11. Write a Pandas program to sort a given Series.   \n",
    "Sample Output:  \n",
    "Original Data Series: 0 100  \n",
    "1 200  \n",
    "2 python  \n",
    "3 300.12  \n",
    "4 400  \n",
    "dtype: object  \n",
    "0 100  \n",
    "1 200  \n",
    "3 300.12  \n",
    "4 400  \n",
    "2 python  \n",
    "dtype: object  "
   ],
   "metadata": {
    "collapsed": false
   }
  },
  {
   "cell_type": "code",
   "execution_count": null,
   "outputs": [],
   "source": [],
   "metadata": {
    "collapsed": false,
    "pycharm": {
     "name": "#%%\n"
    }
   }
  },
  {
   "cell_type": "markdown",
   "source": [
    "#### 12. Write a Pandas program to add some data to an existing Series.   \n",
    "Sample Output:  \n",
    "Original Data Series:  \n",
    "0 100  \n",
    "1 200  \n",
    "2 python  \n",
    "3 300.12  \n",
    "4 400  \n",
    "dtype: object  \n",
    "Data Series after adding some data:  \n",
    "0 100  \n",
    "1 200  \n",
    "2 python  \n",
    "3 300.12  \n",
    "4 400  \n",
    "0 500  \n",
    "1 php  \n",
    "dtype: object  "
   ],
   "metadata": {
    "collapsed": false
   }
  },
  {
   "cell_type": "code",
   "execution_count": null,
   "outputs": [],
   "source": [],
   "metadata": {
    "collapsed": false,
    "pycharm": {
     "name": "#%%\n"
    }
   }
  },
  {
   "cell_type": "markdown",
   "source": [
    "#### 13. Write a Pandas program to create a subset of a given series based on value and condition.   \n",
    "Sample Output:  \n",
    "Original Data Series:  \n",
    "0 0  \n",
    "1 1  \n",
    "2 2  \n",
    "3 3  \n",
    "4 4  \n",
    "5 5  \n",
    "6 6  \n",
    "7 7  \n",
    "8 8  \n",
    "9 9  \n",
    "10 10  \n",
    "dtype: int64  \n",
    "Subset of the above Data Series:  \n",
    "0 0  \n",
    "1 1  \n",
    "2 2  \n",
    "3 3  \n",
    "4 4  \n",
    "5 5  \n",
    "dtype: int64  "
   ],
   "metadata": {
    "collapsed": false
   }
  },
  {
   "cell_type": "code",
   "execution_count": null,
   "outputs": [],
   "source": [],
   "metadata": {
    "collapsed": false,
    "pycharm": {
     "name": "#%%\n"
    }
   }
  },
  {
   "cell_type": "markdown",
   "source": [
    "#### 14. Write a Pandas program to change the order of index of a given series.   \n",
    "Sample Output:  \n",
    "Original Data Series:  \n",
    "A 1  \n",
    "B 2  \n",
    "C 3  \n",
    "D 4  \n",
    "E 5  \n",
    "dtype: int64  \n",
    "Data Series after changing the order of index:  \n",
    "B 2  \n",
    "A 1  \n",
    "C 3  \n",
    "D 4  \n",
    "E 5  \n",
    "dtype: int64  "
   ],
   "metadata": {
    "collapsed": false
   }
  },
  {
   "cell_type": "code",
   "execution_count": null,
   "outputs": [],
   "source": [],
   "metadata": {
    "collapsed": false,
    "pycharm": {
     "name": "#%%\n"
    }
   }
  },
  {
   "cell_type": "markdown",
   "source": [
    "#### 15. Write a Pandas program to create the mean and standard deviation of the data of a given Series.   \n",
    "Sample Output:  \n",
    "Original Data Series:  \n",
    "0 1  \n",
    "1 2  \n",
    "2 3  \n",
    "3 4  \n",
    "4 5  \n",
    "5 6  \n",
    "6 7  \n",
    "7 8  \n",
    "8 9  \n",
    "9 5  \n",
    "10 3  \n",
    "dtype: int64  \n",
    "Mean of the said Data Series:  \n",
    "4.81818181818  \n",
    "Standard deviation of the said Data Series:  \n",
    "2.52262489555  "
   ],
   "metadata": {
    "collapsed": false
   }
  },
  {
   "cell_type": "code",
   "execution_count": null,
   "outputs": [],
   "source": [],
   "metadata": {
    "collapsed": false,
    "pycharm": {
     "name": "#%%\n"
    }
   }
  }
 ],
 "metadata": {
  "kernelspec": {
   "display_name": "Python 3",
   "language": "python",
   "name": "python3"
  },
  "language_info": {
   "codemirror_mode": {
    "name": "ipython",
    "version": 3
   },
   "file_extension": ".py",
   "mimetype": "text/x-python",
   "name": "python",
   "nbconvert_exporter": "python",
   "pygments_lexer": "ipython3",
   "version": "3.7.3"
  },
  "pycharm": {
   "stem_cell": {
    "cell_type": "raw",
    "source": [],
    "metadata": {
     "collapsed": false
    }
   }
  }
 },
 "nbformat": 4,
 "nbformat_minor": 2
}