{
 "cells": [
  {
   "cell_type": "markdown",
   "metadata": {},
   "source": [
    "# Planecrash Database\n",
    "http://www.planecrashinfo.com/database.htm"
   ]
  },
  {
   "cell_type": "markdown",
   "metadata": {},
   "source": [
    "## Get the Data"
   ]
  },
  {
   "cell_type": "code",
   "execution_count": 51,
   "metadata": {},
   "outputs": [],
   "source": [
    "project_path = r\"d:\\Projects\\ExperisAcademy\\Exercises\\pandas\\kaggle_mini_project\""
   ]
  },
  {
   "cell_type": "code",
   "execution_count": 52,
   "metadata": {},
   "outputs": [
    {
     "name": "stdout",
     "output_type": "stream",
     "text": [
      "d:\\Projects\\ExperisAcademy\\Exercises\\pandas\\kaggle_mini_project\n"
     ]
    }
   ],
   "source": [
    "%cd $project_path"
   ]
  },
  {
   "cell_type": "code",
   "execution_count": 53,
   "metadata": {},
   "outputs": [
    {
     "name": "stdout",
     "output_type": "stream",
     "text": [
      " Volume in drive D is Documents\n",
      " Volume Serial Number is 8DBE-F730\n",
      "\n",
      " Directory of d:\\Projects\\ExperisAcademy\\Exercises\\pandas\\kaggle_mini_project\n",
      "\n",
      "15.12.2019  09:16    <DIR>          .\n",
      "15.12.2019  09:16    <DIR>          ..\n",
      "15.12.2019  09:16    <DIR>          data\n",
      "               0 File(s)              0 bytes\n",
      "               3 Dir(s)  39,309,815,808 bytes free\n"
     ]
    }
   ],
   "source": [
    "!dir"
   ]
  },
  {
   "cell_type": "code",
   "execution_count": 54,
   "metadata": {},
   "outputs": [
    {
     "name": "stdout",
     "output_type": "stream",
     "text": [
      " Volume in drive D is Documents\n",
      " Volume Serial Number is 8DBE-F730\n",
      "\n",
      " Directory of d:\\Projects\\ExperisAcademy\\Exercises\\pandas\\kaggle_mini_project\\data\n",
      "\n",
      "15.12.2019  09:16    <DIR>          .\n",
      "15.12.2019  09:16    <DIR>          ..\n",
      "12.10.2019  18:34         2,229,765 plane-crash.csv\n",
      "19.09.2019  23:33       100,900,789 seattle-crime.csv\n",
      "18.10.2019  04:15         2,381,890 seattle-house-sales-prices.csv\n",
      "               3 File(s)    105,512,444 bytes\n",
      "               2 Dir(s)  39,309,815,808 bytes free\n"
     ]
    }
   ],
   "source": [
    "!dir data"
   ]
  },
  {
   "cell_type": "code",
   "execution_count": 55,
   "metadata": {},
   "outputs": [],
   "source": [
    "import pandas as pd\n",
    "import numpy as np"
   ]
  },
  {
   "cell_type": "code",
   "execution_count": 56,
   "metadata": {},
   "outputs": [],
   "source": [
    "# Define date parser to convert date records into pandas format:\n",
    "date_parser = lambda d: pd.datetime.strptime(d, '%B %d, %Y')"
   ]
  },
  {
   "cell_type": "code",
   "execution_count": 57,
   "metadata": {},
   "outputs": [
    {
     "data": {
      "text/html": [
       "<div>\n",
       "<style scoped>\n",
       "    .dataframe tbody tr th:only-of-type {\n",
       "        vertical-align: middle;\n",
       "    }\n",
       "\n",
       "    .dataframe tbody tr th {\n",
       "        vertical-align: top;\n",
       "    }\n",
       "\n",
       "    .dataframe thead th {\n",
       "        text-align: right;\n",
       "    }\n",
       "</style>\n",
       "<table border=\"1\" class=\"dataframe\">\n",
       "  <thead>\n",
       "    <tr style=\"text-align: right;\">\n",
       "      <th></th>\n",
       "      <th>date</th>\n",
       "      <th>time</th>\n",
       "      <th>location</th>\n",
       "      <th>operator</th>\n",
       "      <th>flight_no</th>\n",
       "      <th>route</th>\n",
       "      <th>ac_type</th>\n",
       "      <th>registration</th>\n",
       "      <th>cn_ln</th>\n",
       "      <th>aboard</th>\n",
       "      <th>fatalities</th>\n",
       "      <th>ground</th>\n",
       "      <th>summary</th>\n",
       "    </tr>\n",
       "  </thead>\n",
       "  <tbody>\n",
       "    <tr>\n",
       "      <th>0</th>\n",
       "      <td>1908-09-17</td>\n",
       "      <td>17:18</td>\n",
       "      <td>Fort Myer, Virginia</td>\n",
       "      <td>Military - U.S. Army</td>\n",
       "      <td>NaN</td>\n",
       "      <td>Demonstration</td>\n",
       "      <td>Wright Flyer III</td>\n",
       "      <td>NaN</td>\n",
       "      <td>1</td>\n",
       "      <td>2   (passengers:1  crew:1)</td>\n",
       "      <td>1   (passengers:1  crew:0)</td>\n",
       "      <td>0.0</td>\n",
       "      <td>During a demonstration flight, a U.S. Army fly...</td>\n",
       "    </tr>\n",
       "    <tr>\n",
       "      <th>1</th>\n",
       "      <td>1909-09-07</td>\n",
       "      <td>NaN</td>\n",
       "      <td>Juvisy-sur-Orge, France</td>\n",
       "      <td>NaN</td>\n",
       "      <td>NaN</td>\n",
       "      <td>Air show</td>\n",
       "      <td>Wright Byplane</td>\n",
       "      <td>SC1</td>\n",
       "      <td>NaN</td>\n",
       "      <td>1   (passengers:0  crew:1)</td>\n",
       "      <td>1   (passengers:0  crew:0)</td>\n",
       "      <td>0.0</td>\n",
       "      <td>Eugene Lefebvre was the first pilot to ever be...</td>\n",
       "    </tr>\n",
       "    <tr>\n",
       "      <th>2</th>\n",
       "      <td>1912-07-12</td>\n",
       "      <td>06:30</td>\n",
       "      <td>Atlantic City, New Jersey</td>\n",
       "      <td>Military - U.S. Navy</td>\n",
       "      <td>NaN</td>\n",
       "      <td>Test flight</td>\n",
       "      <td>Dirigible</td>\n",
       "      <td>NaN</td>\n",
       "      <td>NaN</td>\n",
       "      <td>5   (passengers:0  crew:5)</td>\n",
       "      <td>5   (passengers:0  crew:5)</td>\n",
       "      <td>0.0</td>\n",
       "      <td>First U.S. dirigible Akron exploded just offsh...</td>\n",
       "    </tr>\n",
       "  </tbody>\n",
       "</table>\n",
       "</div>"
      ],
      "text/plain": [
       "        date   time                   location              operator  \\\n",
       "0 1908-09-17  17:18        Fort Myer, Virginia  Military - U.S. Army   \n",
       "1 1909-09-07    NaN    Juvisy-sur-Orge, France                   NaN   \n",
       "2 1912-07-12  06:30  Atlantic City, New Jersey  Military - U.S. Navy   \n",
       "\n",
       "  flight_no          route           ac_type registration cn_ln  \\\n",
       "0       NaN  Demonstration  Wright Flyer III          NaN     1   \n",
       "1       NaN       Air show    Wright Byplane          SC1   NaN   \n",
       "2       NaN    Test flight         Dirigible          NaN   NaN   \n",
       "\n",
       "                       aboard                  fatalities  ground  \\\n",
       "0  2   (passengers:1  crew:1)  1   (passengers:1  crew:0)     0.0   \n",
       "1  1   (passengers:0  crew:1)  1   (passengers:0  crew:0)     0.0   \n",
       "2  5   (passengers:0  crew:5)  5   (passengers:0  crew:5)     0.0   \n",
       "\n",
       "                                             summary  \n",
       "0  During a demonstration flight, a U.S. Army fly...  \n",
       "1  Eugene Lefebvre was the first pilot to ever be...  \n",
       "2  First U.S. dirigible Akron exploded just offsh...  "
      ]
     },
     "execution_count": 57,
     "metadata": {},
     "output_type": "execute_result"
    }
   ],
   "source": [
    "# Read the file and show first 3 records:\n",
    "raw_df = pd.read_csv('data\\plane-crash.csv', delimiter=',', na_values='?', parse_dates=['date'], date_parser=date_parser)\n",
    "raw_df.head(3)"
   ]
  },
  {
   "cell_type": "code",
   "execution_count": 58,
   "metadata": {},
   "outputs": [
    {
     "data": {
      "text/html": [
       "<div>\n",
       "<style scoped>\n",
       "    .dataframe tbody tr th:only-of-type {\n",
       "        vertical-align: middle;\n",
       "    }\n",
       "\n",
       "    .dataframe tbody tr th {\n",
       "        vertical-align: top;\n",
       "    }\n",
       "\n",
       "    .dataframe thead th {\n",
       "        text-align: right;\n",
       "    }\n",
       "</style>\n",
       "<table border=\"1\" class=\"dataframe\">\n",
       "  <thead>\n",
       "    <tr style=\"text-align: right;\">\n",
       "      <th></th>\n",
       "      <th>date</th>\n",
       "      <th>time</th>\n",
       "      <th>location</th>\n",
       "      <th>operator</th>\n",
       "      <th>flight_no</th>\n",
       "      <th>route</th>\n",
       "      <th>ac_type</th>\n",
       "      <th>registration</th>\n",
       "      <th>cn_ln</th>\n",
       "      <th>aboard</th>\n",
       "      <th>fatalities</th>\n",
       "      <th>ground</th>\n",
       "      <th>summary</th>\n",
       "    </tr>\n",
       "  </thead>\n",
       "  <tbody>\n",
       "    <tr>\n",
       "      <th>5780</th>\n",
       "      <td>2018-09-28</td>\n",
       "      <td>1010</td>\n",
       "      <td>Chuuk, Micronesia</td>\n",
       "      <td>Air Niugini</td>\n",
       "      <td>NaN</td>\n",
       "      <td>Pohnpei - Chuuk</td>\n",
       "      <td>Boeing 737-8BK</td>\n",
       "      <td>P2-PXE</td>\n",
       "      <td>33024/1688</td>\n",
       "      <td>47   (passengers:35  crew:12)</td>\n",
       "      <td>1   (passengers:1  crew:0)</td>\n",
       "      <td>0.0</td>\n",
       "      <td>The aircraft was approaching for a landing at ...</td>\n",
       "    </tr>\n",
       "    <tr>\n",
       "      <th>5781</th>\n",
       "      <td>2018-10-29</td>\n",
       "      <td>0631</td>\n",
       "      <td>Off Jakarta, Indonesia</td>\n",
       "      <td>Lion Air</td>\n",
       "      <td>610</td>\n",
       "      <td>Jakarta - Pangkal Pinang</td>\n",
       "      <td>Boeing 737-MAX 8</td>\n",
       "      <td>PK-LQP</td>\n",
       "      <td>43000/7058</td>\n",
       "      <td>189   (passengers:181  crew:8)</td>\n",
       "      <td>189   (passengers:181  crew:8)</td>\n",
       "      <td>0.0</td>\n",
       "      <td>The airliner crashed into the Jakarta Sea, 13 ...</td>\n",
       "    </tr>\n",
       "    <tr>\n",
       "      <th>5782</th>\n",
       "      <td>2018-11-06</td>\n",
       "      <td>0253</td>\n",
       "      <td>Georgetown, Guyana</td>\n",
       "      <td>Fly Jamaica Airways</td>\n",
       "      <td>NaN</td>\n",
       "      <td>Georgetown - Toronto</td>\n",
       "      <td>Boeing 757-N23</td>\n",
       "      <td>N524AT</td>\n",
       "      <td>30233/895</td>\n",
       "      <td>128   (passengers:120  crew:8)</td>\n",
       "      <td>1   (passengers:1  crew:0)</td>\n",
       "      <td>0.0</td>\n",
       "      <td>After taking off and reaching FL200, the crew ...</td>\n",
       "    </tr>\n",
       "  </tbody>\n",
       "</table>\n",
       "</div>"
      ],
      "text/plain": [
       "           date  time                location             operator flight_no  \\\n",
       "5780 2018-09-28  1010       Chuuk, Micronesia          Air Niugini       NaN   \n",
       "5781 2018-10-29  0631  Off Jakarta, Indonesia             Lion Air       610   \n",
       "5782 2018-11-06  0253      Georgetown, Guyana  Fly Jamaica Airways       NaN   \n",
       "\n",
       "                         route           ac_type registration       cn_ln  \\\n",
       "5780           Pohnpei - Chuuk    Boeing 737-8BK       P2-PXE  33024/1688   \n",
       "5781  Jakarta - Pangkal Pinang  Boeing 737-MAX 8       PK-LQP  43000/7058   \n",
       "5782      Georgetown - Toronto    Boeing 757-N23       N524AT   30233/895   \n",
       "\n",
       "                              aboard                      fatalities  ground  \\\n",
       "5780   47   (passengers:35  crew:12)      1   (passengers:1  crew:0)     0.0   \n",
       "5781  189   (passengers:181  crew:8)  189   (passengers:181  crew:8)     0.0   \n",
       "5782  128   (passengers:120  crew:8)      1   (passengers:1  crew:0)     0.0   \n",
       "\n",
       "                                                summary  \n",
       "5780  The aircraft was approaching for a landing at ...  \n",
       "5781  The airliner crashed into the Jakarta Sea, 13 ...  \n",
       "5782  After taking off and reaching FL200, the crew ...  "
      ]
     },
     "execution_count": 58,
     "metadata": {},
     "output_type": "execute_result"
    }
   ],
   "source": [
    "# Show last 3 records:\n",
    "raw_df.tail(3)"
   ]
  },
  {
   "cell_type": "code",
   "execution_count": 59,
   "metadata": {},
   "outputs": [
    {
     "data": {
      "text/plain": [
       "(5783, 13)"
      ]
     },
     "execution_count": 59,
     "metadata": {},
     "output_type": "execute_result"
    }
   ],
   "source": [
    "raw_df.shape"
   ]
  },
  {
   "cell_type": "code",
   "execution_count": 60,
   "metadata": {},
   "outputs": [
    {
     "name": "stdout",
     "output_type": "stream",
     "text": [
      "<class 'pandas.core.frame.DataFrame'>\n",
      "RangeIndex: 5783 entries, 0 to 5782\n",
      "Data columns (total 13 columns):\n",
      "date            5783 non-null datetime64[ns]\n",
      "time            3675 non-null object\n",
      "location        5777 non-null object\n",
      "operator        5762 non-null object\n",
      "flight_no       1347 non-null object\n",
      "route           4289 non-null object\n",
      "ac_type         5759 non-null object\n",
      "registration    5431 non-null object\n",
      "cn_ln           4576 non-null object\n",
      "aboard          5783 non-null object\n",
      "fatalities      5783 non-null object\n",
      "ground          5731 non-null float64\n",
      "summary         5552 non-null object\n",
      "dtypes: datetime64[ns](1), float64(1), object(11)\n",
      "memory usage: 587.4+ KB\n"
     ]
    }
   ],
   "source": [
    "# Show general information about the dataframe:\n",
    "raw_df.info()"
   ]
  },
  {
   "cell_type": "code",
   "execution_count": 61,
   "metadata": {},
   "outputs": [
    {
     "data": {
      "text/html": [
       "<div>\n",
       "<style scoped>\n",
       "    .dataframe tbody tr th:only-of-type {\n",
       "        vertical-align: middle;\n",
       "    }\n",
       "\n",
       "    .dataframe tbody tr th {\n",
       "        vertical-align: top;\n",
       "    }\n",
       "\n",
       "    .dataframe thead th {\n",
       "        text-align: right;\n",
       "    }\n",
       "</style>\n",
       "<table border=\"1\" class=\"dataframe\">\n",
       "  <thead>\n",
       "    <tr style=\"text-align: right;\">\n",
       "      <th></th>\n",
       "      <th>date</th>\n",
       "      <th>time</th>\n",
       "      <th>location</th>\n",
       "      <th>operator</th>\n",
       "      <th>route</th>\n",
       "      <th>ac_type</th>\n",
       "      <th>aboard</th>\n",
       "      <th>fatalities</th>\n",
       "      <th>ground</th>\n",
       "      <th>summary</th>\n",
       "    </tr>\n",
       "  </thead>\n",
       "  <tbody>\n",
       "    <tr>\n",
       "      <th>0</th>\n",
       "      <td>1908-09-17</td>\n",
       "      <td>17:18</td>\n",
       "      <td>Fort Myer, Virginia</td>\n",
       "      <td>Military - U.S. Army</td>\n",
       "      <td>Demonstration</td>\n",
       "      <td>Wright Flyer III</td>\n",
       "      <td>2   (passengers:1  crew:1)</td>\n",
       "      <td>1   (passengers:1  crew:0)</td>\n",
       "      <td>0.0</td>\n",
       "      <td>During a demonstration flight, a U.S. Army fly...</td>\n",
       "    </tr>\n",
       "    <tr>\n",
       "      <th>1</th>\n",
       "      <td>1909-09-07</td>\n",
       "      <td>NaN</td>\n",
       "      <td>Juvisy-sur-Orge, France</td>\n",
       "      <td>NaN</td>\n",
       "      <td>Air show</td>\n",
       "      <td>Wright Byplane</td>\n",
       "      <td>1   (passengers:0  crew:1)</td>\n",
       "      <td>1   (passengers:0  crew:0)</td>\n",
       "      <td>0.0</td>\n",
       "      <td>Eugene Lefebvre was the first pilot to ever be...</td>\n",
       "    </tr>\n",
       "    <tr>\n",
       "      <th>2</th>\n",
       "      <td>1912-07-12</td>\n",
       "      <td>06:30</td>\n",
       "      <td>Atlantic City, New Jersey</td>\n",
       "      <td>Military - U.S. Navy</td>\n",
       "      <td>Test flight</td>\n",
       "      <td>Dirigible</td>\n",
       "      <td>5   (passengers:0  crew:5)</td>\n",
       "      <td>5   (passengers:0  crew:5)</td>\n",
       "      <td>0.0</td>\n",
       "      <td>First U.S. dirigible Akron exploded just offsh...</td>\n",
       "    </tr>\n",
       "  </tbody>\n",
       "</table>\n",
       "</div>"
      ],
      "text/plain": [
       "        date   time                   location              operator  \\\n",
       "0 1908-09-17  17:18        Fort Myer, Virginia  Military - U.S. Army   \n",
       "1 1909-09-07    NaN    Juvisy-sur-Orge, France                   NaN   \n",
       "2 1912-07-12  06:30  Atlantic City, New Jersey  Military - U.S. Navy   \n",
       "\n",
       "           route           ac_type                      aboard  \\\n",
       "0  Demonstration  Wright Flyer III  2   (passengers:1  crew:1)   \n",
       "1       Air show    Wright Byplane  1   (passengers:0  crew:1)   \n",
       "2    Test flight         Dirigible  5   (passengers:0  crew:5)   \n",
       "\n",
       "                   fatalities  ground  \\\n",
       "0  1   (passengers:1  crew:0)     0.0   \n",
       "1  1   (passengers:0  crew:0)     0.0   \n",
       "2  5   (passengers:0  crew:5)     0.0   \n",
       "\n",
       "                                             summary  \n",
       "0  During a demonstration flight, a U.S. Army fly...  \n",
       "1  Eugene Lefebvre was the first pilot to ever be...  \n",
       "2  First U.S. dirigible Akron exploded just offsh...  "
      ]
     },
     "execution_count": 61,
     "metadata": {},
     "output_type": "execute_result"
    }
   ],
   "source": [
    "# Make a copy of the dataframe for proccessing (the raw dataframe isn't large, make the full copy)\n",
    "df = raw_df.copy()\n",
    "\n",
    "# Drop unimportant features:\n",
    "df.drop(columns=['registration','cn_ln', 'flight_no'], inplace=True)\n",
    "df.head(3)"
   ]
  },
  {
   "cell_type": "markdown",
   "metadata": {},
   "source": [
    "## Parse time info"
   ]
  },
  {
   "cell_type": "code",
   "execution_count": 62,
   "metadata": {},
   "outputs": [],
   "source": [
    "import datetime as dt\n",
    "import re"
   ]
  },
  {
   "cell_type": "code",
   "execution_count": 63,
   "metadata": {},
   "outputs": [
    {
     "data": {
      "text/plain": [
       "0         17:18\n",
       "1           NaN\n",
       "2         06:30\n",
       "3           NaN\n",
       "4       c 18:30\n",
       "5       c 10:30\n",
       "6       c 01:00\n",
       "7       c 15:20\n",
       "8           NaN\n",
       "9       c 01:00\n",
       "10      c 23:45\n",
       "11          NaN\n",
       "12      c 23:45\n",
       "13          NaN\n",
       "14          NaN\n",
       "15      c 05:15\n",
       "16      c 08:45\n",
       "17          NaN\n",
       "18      c 07:00\n",
       "19      c 07:45\n",
       "20      c 21:30\n",
       "21          NaN\n",
       "22      c 10:00\n",
       "23          NaN\n",
       "24          NaN\n",
       "25          NaN\n",
       "26          NaN\n",
       "27          NaN\n",
       "28          NaN\n",
       "29          NaN\n",
       "         ...   \n",
       "5753       1120\n",
       "5754       0815\n",
       "5755       0653\n",
       "5756       1530\n",
       "5757       1402\n",
       "5758       1335\n",
       "5759       1015\n",
       "5760       1600\n",
       "5761       0830\n",
       "5762       0800\n",
       "5763       1815\n",
       "5764       1216\n",
       "5765        NaN\n",
       "5766       1731\n",
       "5767       1431\n",
       "5768       0926\n",
       "5769       1451\n",
       "5770       1908\n",
       "5771      14:15\n",
       "5772       1120\n",
       "5773       0800\n",
       "5774       1004\n",
       "5775       1130\n",
       "5776       1208\n",
       "5777       1700\n",
       "5778       0744\n",
       "5779       1655\n",
       "5780       1010\n",
       "5781       0631\n",
       "5782       0253\n",
       "Name: time, Length: 5783, dtype: object"
      ]
     },
     "execution_count": 63,
     "metadata": {},
     "output_type": "execute_result"
    }
   ],
   "source": [
    "df.time"
   ]
  },
  {
   "cell_type": "code",
   "execution_count": 64,
   "metadata": {},
   "outputs": [],
   "source": [
    "def parse_time(t):\n",
    "    try:\n",
    "        result = re.search(pattern=r\"(\\d{2}):?(\\d{2})\", string=t).groups()\n",
    "        return dt.time(int(result[0]), int(result[1]))\n",
    "    except (AttributeError, TypeError):\n",
    "        return np.nan"
   ]
  },
  {
   "cell_type": "code",
   "execution_count": 65,
   "metadata": {},
   "outputs": [
    {
     "data": {
      "text/html": [
       "<div>\n",
       "<style scoped>\n",
       "    .dataframe tbody tr th:only-of-type {\n",
       "        vertical-align: middle;\n",
       "    }\n",
       "\n",
       "    .dataframe tbody tr th {\n",
       "        vertical-align: top;\n",
       "    }\n",
       "\n",
       "    .dataframe thead th {\n",
       "        text-align: right;\n",
       "    }\n",
       "</style>\n",
       "<table border=\"1\" class=\"dataframe\">\n",
       "  <thead>\n",
       "    <tr style=\"text-align: right;\">\n",
       "      <th></th>\n",
       "      <th>date</th>\n",
       "      <th>time</th>\n",
       "      <th>location</th>\n",
       "      <th>operator</th>\n",
       "      <th>route</th>\n",
       "      <th>ac_type</th>\n",
       "      <th>aboard</th>\n",
       "      <th>fatalities</th>\n",
       "      <th>ground</th>\n",
       "      <th>summary</th>\n",
       "    </tr>\n",
       "  </thead>\n",
       "  <tbody>\n",
       "    <tr>\n",
       "      <th>0</th>\n",
       "      <td>1908-09-17</td>\n",
       "      <td>17:18:00</td>\n",
       "      <td>Fort Myer, Virginia</td>\n",
       "      <td>Military - U.S. Army</td>\n",
       "      <td>Demonstration</td>\n",
       "      <td>Wright Flyer III</td>\n",
       "      <td>2   (passengers:1  crew:1)</td>\n",
       "      <td>1   (passengers:1  crew:0)</td>\n",
       "      <td>0.0</td>\n",
       "      <td>During a demonstration flight, a U.S. Army fly...</td>\n",
       "    </tr>\n",
       "    <tr>\n",
       "      <th>1</th>\n",
       "      <td>1909-09-07</td>\n",
       "      <td>NaN</td>\n",
       "      <td>Juvisy-sur-Orge, France</td>\n",
       "      <td>NaN</td>\n",
       "      <td>Air show</td>\n",
       "      <td>Wright Byplane</td>\n",
       "      <td>1   (passengers:0  crew:1)</td>\n",
       "      <td>1   (passengers:0  crew:0)</td>\n",
       "      <td>0.0</td>\n",
       "      <td>Eugene Lefebvre was the first pilot to ever be...</td>\n",
       "    </tr>\n",
       "    <tr>\n",
       "      <th>2</th>\n",
       "      <td>1912-07-12</td>\n",
       "      <td>06:30:00</td>\n",
       "      <td>Atlantic City, New Jersey</td>\n",
       "      <td>Military - U.S. Navy</td>\n",
       "      <td>Test flight</td>\n",
       "      <td>Dirigible</td>\n",
       "      <td>5   (passengers:0  crew:5)</td>\n",
       "      <td>5   (passengers:0  crew:5)</td>\n",
       "      <td>0.0</td>\n",
       "      <td>First U.S. dirigible Akron exploded just offsh...</td>\n",
       "    </tr>\n",
       "  </tbody>\n",
       "</table>\n",
       "</div>"
      ],
      "text/plain": [
       "        date      time                   location              operator  \\\n",
       "0 1908-09-17  17:18:00        Fort Myer, Virginia  Military - U.S. Army   \n",
       "1 1909-09-07       NaN    Juvisy-sur-Orge, France                   NaN   \n",
       "2 1912-07-12  06:30:00  Atlantic City, New Jersey  Military - U.S. Navy   \n",
       "\n",
       "           route           ac_type                      aboard  \\\n",
       "0  Demonstration  Wright Flyer III  2   (passengers:1  crew:1)   \n",
       "1       Air show    Wright Byplane  1   (passengers:0  crew:1)   \n",
       "2    Test flight         Dirigible  5   (passengers:0  crew:5)   \n",
       "\n",
       "                   fatalities  ground  \\\n",
       "0  1   (passengers:1  crew:0)     0.0   \n",
       "1  1   (passengers:0  crew:0)     0.0   \n",
       "2  5   (passengers:0  crew:5)     0.0   \n",
       "\n",
       "                                             summary  \n",
       "0  During a demonstration flight, a U.S. Army fly...  \n",
       "1  Eugene Lefebvre was the first pilot to ever be...  \n",
       "2  First U.S. dirigible Akron exploded just offsh...  "
      ]
     },
     "execution_count": 65,
     "metadata": {},
     "output_type": "execute_result"
    }
   ],
   "source": [
    "df['time'] = raw_df.time.apply(parse_time)\n",
    "df.head(3)"
   ]
  },
  {
   "cell_type": "markdown",
   "metadata": {},
   "source": [
    "## Parse Route info"
   ]
  },
  {
   "cell_type": "code",
   "execution_count": 66,
   "metadata": {},
   "outputs": [
    {
     "name": "stdout",
     "output_type": "stream",
     "text": [
      "Total number of records:\t5,783\n",
      "Records with 'Route' info:\t4,289\n"
     ]
    }
   ],
   "source": [
    "print(f\"Total number of records:\\t{df.shape[0]:,.0f}\")\n",
    "print(f\"Records with 'Route' info:\\t{df.route.notna().sum():,.0f}\")"
   ]
  },
  {
   "cell_type": "code",
   "execution_count": 67,
   "metadata": {},
   "outputs": [],
   "source": [
    "pattern = r\"(?P<from>[\\w\\s]+)\\s?[-–]+s?(?P<to>[\\w\\s]+)\""
   ]
  },
  {
   "cell_type": "code",
   "execution_count": 68,
   "metadata": {},
   "outputs": [
    {
     "data": {
      "text/html": [
       "<div>\n",
       "<style scoped>\n",
       "    .dataframe tbody tr th:only-of-type {\n",
       "        vertical-align: middle;\n",
       "    }\n",
       "\n",
       "    .dataframe tbody tr th {\n",
       "        vertical-align: top;\n",
       "    }\n",
       "\n",
       "    .dataframe thead th {\n",
       "        text-align: right;\n",
       "    }\n",
       "</style>\n",
       "<table border=\"1\" class=\"dataframe\">\n",
       "  <thead>\n",
       "    <tr style=\"text-align: right;\">\n",
       "      <th></th>\n",
       "      <th>date</th>\n",
       "      <th>time</th>\n",
       "      <th>location</th>\n",
       "      <th>operator</th>\n",
       "      <th>route</th>\n",
       "      <th>ac_type</th>\n",
       "      <th>aboard</th>\n",
       "      <th>fatalities</th>\n",
       "      <th>ground</th>\n",
       "      <th>summary</th>\n",
       "      <th>from</th>\n",
       "      <th>to</th>\n",
       "    </tr>\n",
       "  </thead>\n",
       "  <tbody>\n",
       "    <tr>\n",
       "      <th>5780</th>\n",
       "      <td>2018-09-28</td>\n",
       "      <td>10:10:00</td>\n",
       "      <td>Chuuk, Micronesia</td>\n",
       "      <td>Air Niugini</td>\n",
       "      <td>Pohnpei - Chuuk</td>\n",
       "      <td>Boeing 737-8BK</td>\n",
       "      <td>47   (passengers:35  crew:12)</td>\n",
       "      <td>1   (passengers:1  crew:0)</td>\n",
       "      <td>0.0</td>\n",
       "      <td>The aircraft was approaching for a landing at ...</td>\n",
       "      <td>Pohnpei</td>\n",
       "      <td>Chuuk</td>\n",
       "    </tr>\n",
       "    <tr>\n",
       "      <th>5781</th>\n",
       "      <td>2018-10-29</td>\n",
       "      <td>06:31:00</td>\n",
       "      <td>Off Jakarta, Indonesia</td>\n",
       "      <td>Lion Air</td>\n",
       "      <td>Jakarta - Pangkal Pinang</td>\n",
       "      <td>Boeing 737-MAX 8</td>\n",
       "      <td>189   (passengers:181  crew:8)</td>\n",
       "      <td>189   (passengers:181  crew:8)</td>\n",
       "      <td>0.0</td>\n",
       "      <td>The airliner crashed into the Jakarta Sea, 13 ...</td>\n",
       "      <td>Jakarta</td>\n",
       "      <td>Pangkal Pinang</td>\n",
       "    </tr>\n",
       "    <tr>\n",
       "      <th>5782</th>\n",
       "      <td>2018-11-06</td>\n",
       "      <td>02:53:00</td>\n",
       "      <td>Georgetown, Guyana</td>\n",
       "      <td>Fly Jamaica Airways</td>\n",
       "      <td>Georgetown - Toronto</td>\n",
       "      <td>Boeing 757-N23</td>\n",
       "      <td>128   (passengers:120  crew:8)</td>\n",
       "      <td>1   (passengers:1  crew:0)</td>\n",
       "      <td>0.0</td>\n",
       "      <td>After taking off and reaching FL200, the crew ...</td>\n",
       "      <td>Georgetown</td>\n",
       "      <td>Toronto</td>\n",
       "    </tr>\n",
       "  </tbody>\n",
       "</table>\n",
       "</div>"
      ],
      "text/plain": [
       "           date      time                location             operator  \\\n",
       "5780 2018-09-28  10:10:00       Chuuk, Micronesia          Air Niugini   \n",
       "5781 2018-10-29  06:31:00  Off Jakarta, Indonesia             Lion Air   \n",
       "5782 2018-11-06  02:53:00      Georgetown, Guyana  Fly Jamaica Airways   \n",
       "\n",
       "                         route           ac_type  \\\n",
       "5780           Pohnpei - Chuuk    Boeing 737-8BK   \n",
       "5781  Jakarta - Pangkal Pinang  Boeing 737-MAX 8   \n",
       "5782      Georgetown - Toronto    Boeing 757-N23   \n",
       "\n",
       "                              aboard                      fatalities  ground  \\\n",
       "5780   47   (passengers:35  crew:12)      1   (passengers:1  crew:0)     0.0   \n",
       "5781  189   (passengers:181  crew:8)  189   (passengers:181  crew:8)     0.0   \n",
       "5782  128   (passengers:120  crew:8)      1   (passengers:1  crew:0)     0.0   \n",
       "\n",
       "                                                summary         from  \\\n",
       "5780  The aircraft was approaching for a landing at ...     Pohnpei    \n",
       "5781  The airliner crashed into the Jakarta Sea, 13 ...     Jakarta    \n",
       "5782  After taking off and reaching FL200, the crew ...  Georgetown    \n",
       "\n",
       "                   to  \n",
       "5780            Chuuk  \n",
       "5781   Pangkal Pinang  \n",
       "5782          Toronto  "
      ]
     },
     "execution_count": 68,
     "metadata": {},
     "output_type": "execute_result"
    }
   ],
   "source": [
    "df[['from','to']] = raw_df.route.str.extract(pattern, expand=True)\n",
    "df.tail(3)"
   ]
  },
  {
   "cell_type": "code",
   "execution_count": 69,
   "metadata": {},
   "outputs": [
    {
     "data": {
      "text/plain": [
       "3966"
      ]
     },
     "execution_count": 69,
     "metadata": {},
     "output_type": "execute_result"
    }
   ],
   "source": [
    "# \"pd.Series.str.extract\" method doesn't strip leading and ending spaces:\n",
    "df.to.str.startswith(' ').sum()"
   ]
  },
  {
   "cell_type": "code",
   "execution_count": 70,
   "metadata": {},
   "outputs": [],
   "source": [
    "# Strip each column:\n",
    "df.loc[:, 'from'] = df['from'].str.strip()\n",
    "df.loc[:, 'to'] = df['to'].str.strip()"
   ]
  },
  {
   "cell_type": "code",
   "execution_count": 71,
   "metadata": {},
   "outputs": [
    {
     "name": "stdout",
     "output_type": "stream",
     "text": [
      "Accindents with 'From' info:\t4,029\n",
      "Accindents with 'To' info:\t4,029\n"
     ]
    }
   ],
   "source": [
    "print(f\"Accindents with 'From' info:\\t{df['from'].notna().sum():,.0f}\")\n",
    "print(f\"Accindents with 'To' info:\\t{df['to'].notna().sum():,.0f}\")"
   ]
  },
  {
   "cell_type": "code",
   "execution_count": 72,
   "metadata": {},
   "outputs": [
    {
     "data": {
      "text/plain": [
       "Training           95\n",
       "Sightseeing        42\n",
       "Test flight        20\n",
       "Test                7\n",
       "Otis AFB            3\n",
       "Skydiving           3\n",
       "Demonstration       3\n",
       "Parachuting         3\n",
       "Positioning         3\n",
       "Training flight     2\n",
       "Name: route, dtype: int64"
      ]
     },
     "execution_count": 72,
     "metadata": {},
     "output_type": "execute_result"
    }
   ],
   "source": [
    "df.route[df.to.isna()].value_counts().head(10)"
   ]
  },
  {
   "cell_type": "markdown",
   "metadata": {},
   "source": [
    "There are 260 records that weren't parsed, but most of them don't contain any valueable info, so now we can drop this feature"
   ]
  },
  {
   "cell_type": "code",
   "execution_count": 73,
   "metadata": {},
   "outputs": [
    {
     "data": {
      "text/html": [
       "<div>\n",
       "<style scoped>\n",
       "    .dataframe tbody tr th:only-of-type {\n",
       "        vertical-align: middle;\n",
       "    }\n",
       "\n",
       "    .dataframe tbody tr th {\n",
       "        vertical-align: top;\n",
       "    }\n",
       "\n",
       "    .dataframe thead th {\n",
       "        text-align: right;\n",
       "    }\n",
       "</style>\n",
       "<table border=\"1\" class=\"dataframe\">\n",
       "  <thead>\n",
       "    <tr style=\"text-align: right;\">\n",
       "      <th></th>\n",
       "      <th>date</th>\n",
       "      <th>time</th>\n",
       "      <th>location</th>\n",
       "      <th>operator</th>\n",
       "      <th>ac_type</th>\n",
       "      <th>aboard</th>\n",
       "      <th>fatalities</th>\n",
       "      <th>ground</th>\n",
       "      <th>summary</th>\n",
       "      <th>from</th>\n",
       "      <th>to</th>\n",
       "    </tr>\n",
       "  </thead>\n",
       "  <tbody>\n",
       "    <tr>\n",
       "      <th>5780</th>\n",
       "      <td>2018-09-28</td>\n",
       "      <td>10:10:00</td>\n",
       "      <td>Chuuk, Micronesia</td>\n",
       "      <td>Air Niugini</td>\n",
       "      <td>Boeing 737-8BK</td>\n",
       "      <td>47   (passengers:35  crew:12)</td>\n",
       "      <td>1   (passengers:1  crew:0)</td>\n",
       "      <td>0.0</td>\n",
       "      <td>The aircraft was approaching for a landing at ...</td>\n",
       "      <td>Pohnpei</td>\n",
       "      <td>Chuuk</td>\n",
       "    </tr>\n",
       "    <tr>\n",
       "      <th>5781</th>\n",
       "      <td>2018-10-29</td>\n",
       "      <td>06:31:00</td>\n",
       "      <td>Off Jakarta, Indonesia</td>\n",
       "      <td>Lion Air</td>\n",
       "      <td>Boeing 737-MAX 8</td>\n",
       "      <td>189   (passengers:181  crew:8)</td>\n",
       "      <td>189   (passengers:181  crew:8)</td>\n",
       "      <td>0.0</td>\n",
       "      <td>The airliner crashed into the Jakarta Sea, 13 ...</td>\n",
       "      <td>Jakarta</td>\n",
       "      <td>Pangkal Pinang</td>\n",
       "    </tr>\n",
       "    <tr>\n",
       "      <th>5782</th>\n",
       "      <td>2018-11-06</td>\n",
       "      <td>02:53:00</td>\n",
       "      <td>Georgetown, Guyana</td>\n",
       "      <td>Fly Jamaica Airways</td>\n",
       "      <td>Boeing 757-N23</td>\n",
       "      <td>128   (passengers:120  crew:8)</td>\n",
       "      <td>1   (passengers:1  crew:0)</td>\n",
       "      <td>0.0</td>\n",
       "      <td>After taking off and reaching FL200, the crew ...</td>\n",
       "      <td>Georgetown</td>\n",
       "      <td>Toronto</td>\n",
       "    </tr>\n",
       "  </tbody>\n",
       "</table>\n",
       "</div>"
      ],
      "text/plain": [
       "           date      time                location             operator  \\\n",
       "5780 2018-09-28  10:10:00       Chuuk, Micronesia          Air Niugini   \n",
       "5781 2018-10-29  06:31:00  Off Jakarta, Indonesia             Lion Air   \n",
       "5782 2018-11-06  02:53:00      Georgetown, Guyana  Fly Jamaica Airways   \n",
       "\n",
       "               ac_type                          aboard  \\\n",
       "5780    Boeing 737-8BK   47   (passengers:35  crew:12)   \n",
       "5781  Boeing 737-MAX 8  189   (passengers:181  crew:8)   \n",
       "5782    Boeing 757-N23  128   (passengers:120  crew:8)   \n",
       "\n",
       "                          fatalities  ground  \\\n",
       "5780      1   (passengers:1  crew:0)     0.0   \n",
       "5781  189   (passengers:181  crew:8)     0.0   \n",
       "5782      1   (passengers:1  crew:0)     0.0   \n",
       "\n",
       "                                                summary        from  \\\n",
       "5780  The aircraft was approaching for a landing at ...     Pohnpei   \n",
       "5781  The airliner crashed into the Jakarta Sea, 13 ...     Jakarta   \n",
       "5782  After taking off and reaching FL200, the crew ...  Georgetown   \n",
       "\n",
       "                  to  \n",
       "5780           Chuuk  \n",
       "5781  Pangkal Pinang  \n",
       "5782         Toronto  "
      ]
     },
     "execution_count": 73,
     "metadata": {},
     "output_type": "execute_result"
    }
   ],
   "source": [
    "df.drop(columns=['route'], inplace=True)\n",
    "df.tail(3)"
   ]
  },
  {
   "cell_type": "markdown",
   "metadata": {},
   "source": [
    "## Extract info about people aboard and victims"
   ]
  },
  {
   "cell_type": "code",
   "execution_count": 74,
   "metadata": {},
   "outputs": [],
   "source": [
    "pattern = r\"(?:passengers):(?P<passengers>\\d+)\\s*(?:crew):(?P<crew>\\d+)\""
   ]
  },
  {
   "cell_type": "code",
   "execution_count": 75,
   "metadata": {},
   "outputs": [
    {
     "data": {
      "text/html": [
       "<div>\n",
       "<style scoped>\n",
       "    .dataframe tbody tr th:only-of-type {\n",
       "        vertical-align: middle;\n",
       "    }\n",
       "\n",
       "    .dataframe tbody tr th {\n",
       "        vertical-align: top;\n",
       "    }\n",
       "\n",
       "    .dataframe thead th {\n",
       "        text-align: right;\n",
       "    }\n",
       "</style>\n",
       "<table border=\"1\" class=\"dataframe\">\n",
       "  <thead>\n",
       "    <tr style=\"text-align: right;\">\n",
       "      <th></th>\n",
       "      <th>date</th>\n",
       "      <th>time</th>\n",
       "      <th>location</th>\n",
       "      <th>operator</th>\n",
       "      <th>ac_type</th>\n",
       "      <th>aboard</th>\n",
       "      <th>fatalities</th>\n",
       "      <th>fatalities_g</th>\n",
       "      <th>summary</th>\n",
       "      <th>from</th>\n",
       "      <th>to</th>\n",
       "      <th>fatalities_p</th>\n",
       "      <th>fatalities_c</th>\n",
       "      <th>aboard_p</th>\n",
       "      <th>aboard_c</th>\n",
       "    </tr>\n",
       "  </thead>\n",
       "  <tbody>\n",
       "    <tr>\n",
       "      <th>0</th>\n",
       "      <td>1908-09-17</td>\n",
       "      <td>17:18:00</td>\n",
       "      <td>Fort Myer, Virginia</td>\n",
       "      <td>Military - U.S. Army</td>\n",
       "      <td>Wright Flyer III</td>\n",
       "      <td>2   (passengers:1  crew:1)</td>\n",
       "      <td>1   (passengers:1  crew:0)</td>\n",
       "      <td>0.0</td>\n",
       "      <td>During a demonstration flight, a U.S. Army fly...</td>\n",
       "      <td>NaN</td>\n",
       "      <td>NaN</td>\n",
       "      <td>1</td>\n",
       "      <td>0</td>\n",
       "      <td>1</td>\n",
       "      <td>1</td>\n",
       "    </tr>\n",
       "    <tr>\n",
       "      <th>1</th>\n",
       "      <td>1909-09-07</td>\n",
       "      <td>NaN</td>\n",
       "      <td>Juvisy-sur-Orge, France</td>\n",
       "      <td>NaN</td>\n",
       "      <td>Wright Byplane</td>\n",
       "      <td>1   (passengers:0  crew:1)</td>\n",
       "      <td>1   (passengers:0  crew:0)</td>\n",
       "      <td>0.0</td>\n",
       "      <td>Eugene Lefebvre was the first pilot to ever be...</td>\n",
       "      <td>NaN</td>\n",
       "      <td>NaN</td>\n",
       "      <td>0</td>\n",
       "      <td>0</td>\n",
       "      <td>0</td>\n",
       "      <td>1</td>\n",
       "    </tr>\n",
       "    <tr>\n",
       "      <th>2</th>\n",
       "      <td>1912-07-12</td>\n",
       "      <td>06:30:00</td>\n",
       "      <td>Atlantic City, New Jersey</td>\n",
       "      <td>Military - U.S. Navy</td>\n",
       "      <td>Dirigible</td>\n",
       "      <td>5   (passengers:0  crew:5)</td>\n",
       "      <td>5   (passengers:0  crew:5)</td>\n",
       "      <td>0.0</td>\n",
       "      <td>First U.S. dirigible Akron exploded just offsh...</td>\n",
       "      <td>NaN</td>\n",
       "      <td>NaN</td>\n",
       "      <td>0</td>\n",
       "      <td>5</td>\n",
       "      <td>0</td>\n",
       "      <td>5</td>\n",
       "    </tr>\n",
       "  </tbody>\n",
       "</table>\n",
       "</div>"
      ],
      "text/plain": [
       "        date      time                   location              operator  \\\n",
       "0 1908-09-17  17:18:00        Fort Myer, Virginia  Military - U.S. Army   \n",
       "1 1909-09-07       NaN    Juvisy-sur-Orge, France                   NaN   \n",
       "2 1912-07-12  06:30:00  Atlantic City, New Jersey  Military - U.S. Navy   \n",
       "\n",
       "            ac_type                      aboard                  fatalities  \\\n",
       "0  Wright Flyer III  2   (passengers:1  crew:1)  1   (passengers:1  crew:0)   \n",
       "1    Wright Byplane  1   (passengers:0  crew:1)  1   (passengers:0  crew:0)   \n",
       "2         Dirigible  5   (passengers:0  crew:5)  5   (passengers:0  crew:5)   \n",
       "\n",
       "   fatalities_g                                            summary from   to  \\\n",
       "0           0.0  During a demonstration flight, a U.S. Army fly...  NaN  NaN   \n",
       "1           0.0  Eugene Lefebvre was the first pilot to ever be...  NaN  NaN   \n",
       "2           0.0  First U.S. dirigible Akron exploded just offsh...  NaN  NaN   \n",
       "\n",
       "  fatalities_p fatalities_c aboard_p aboard_c  \n",
       "0            1            0        1        1  \n",
       "1            0            0        0        1  \n",
       "2            0            5        0        5  "
      ]
     },
     "execution_count": 75,
     "metadata": {},
     "output_type": "execute_result"
    }
   ],
   "source": [
    "# Extract data about people aboard and fatalities:\n",
    "df[['fatalities_p', 'fatalities_c']] = df.fatalities.str.extract(pat = pattern)\n",
    "df[['aboard_p', 'aboard_c']] = df.aboard.str.extract(pat = pattern)\n",
    "\n",
    "# Rename 'ground' column to make it more clear:\n",
    "df.rename(columns={'ground':'fatalities_g'}, inplace=True)\n",
    "df.head(3)"
   ]
  },
  {
   "cell_type": "code",
   "execution_count": 76,
   "metadata": {},
   "outputs": [
    {
     "data": {
      "text/html": [
       "<div>\n",
       "<style scoped>\n",
       "    .dataframe tbody tr th:only-of-type {\n",
       "        vertical-align: middle;\n",
       "    }\n",
       "\n",
       "    .dataframe tbody tr th {\n",
       "        vertical-align: top;\n",
       "    }\n",
       "\n",
       "    .dataframe thead th {\n",
       "        text-align: right;\n",
       "    }\n",
       "</style>\n",
       "<table border=\"1\" class=\"dataframe\">\n",
       "  <thead>\n",
       "    <tr style=\"text-align: right;\">\n",
       "      <th></th>\n",
       "      <th>date</th>\n",
       "      <th>time</th>\n",
       "      <th>from</th>\n",
       "      <th>to</th>\n",
       "      <th>crash_location</th>\n",
       "      <th>operator</th>\n",
       "      <th>ac_type</th>\n",
       "      <th>aboard</th>\n",
       "      <th>fatalities</th>\n",
       "      <th>summary</th>\n",
       "      <th>aboard_c</th>\n",
       "      <th>aboard_p</th>\n",
       "      <th>fatalities_c</th>\n",
       "      <th>fatalities_p</th>\n",
       "      <th>fatalities_g</th>\n",
       "    </tr>\n",
       "  </thead>\n",
       "  <tbody>\n",
       "    <tr>\n",
       "      <th>5780</th>\n",
       "      <td>2018-09-28</td>\n",
       "      <td>10:10:00</td>\n",
       "      <td>Pohnpei</td>\n",
       "      <td>Chuuk</td>\n",
       "      <td>Chuuk, Micronesia</td>\n",
       "      <td>Air Niugini</td>\n",
       "      <td>Boeing 737-8BK</td>\n",
       "      <td>47   (passengers:35  crew:12)</td>\n",
       "      <td>1   (passengers:1  crew:0)</td>\n",
       "      <td>The aircraft was approaching for a landing at ...</td>\n",
       "      <td>12</td>\n",
       "      <td>35</td>\n",
       "      <td>0</td>\n",
       "      <td>1</td>\n",
       "      <td>0.0</td>\n",
       "    </tr>\n",
       "    <tr>\n",
       "      <th>5781</th>\n",
       "      <td>2018-10-29</td>\n",
       "      <td>06:31:00</td>\n",
       "      <td>Jakarta</td>\n",
       "      <td>Pangkal Pinang</td>\n",
       "      <td>Off Jakarta, Indonesia</td>\n",
       "      <td>Lion Air</td>\n",
       "      <td>Boeing 737-MAX 8</td>\n",
       "      <td>189   (passengers:181  crew:8)</td>\n",
       "      <td>189   (passengers:181  crew:8)</td>\n",
       "      <td>The airliner crashed into the Jakarta Sea, 13 ...</td>\n",
       "      <td>8</td>\n",
       "      <td>181</td>\n",
       "      <td>8</td>\n",
       "      <td>181</td>\n",
       "      <td>0.0</td>\n",
       "    </tr>\n",
       "    <tr>\n",
       "      <th>5782</th>\n",
       "      <td>2018-11-06</td>\n",
       "      <td>02:53:00</td>\n",
       "      <td>Georgetown</td>\n",
       "      <td>Toronto</td>\n",
       "      <td>Georgetown, Guyana</td>\n",
       "      <td>Fly Jamaica Airways</td>\n",
       "      <td>Boeing 757-N23</td>\n",
       "      <td>128   (passengers:120  crew:8)</td>\n",
       "      <td>1   (passengers:1  crew:0)</td>\n",
       "      <td>After taking off and reaching FL200, the crew ...</td>\n",
       "      <td>8</td>\n",
       "      <td>120</td>\n",
       "      <td>0</td>\n",
       "      <td>1</td>\n",
       "      <td>0.0</td>\n",
       "    </tr>\n",
       "  </tbody>\n",
       "</table>\n",
       "</div>"
      ],
      "text/plain": [
       "           date      time        from              to          crash_location  \\\n",
       "5780 2018-09-28  10:10:00     Pohnpei           Chuuk       Chuuk, Micronesia   \n",
       "5781 2018-10-29  06:31:00     Jakarta  Pangkal Pinang  Off Jakarta, Indonesia   \n",
       "5782 2018-11-06  02:53:00  Georgetown         Toronto      Georgetown, Guyana   \n",
       "\n",
       "                 operator           ac_type                          aboard  \\\n",
       "5780          Air Niugini    Boeing 737-8BK   47   (passengers:35  crew:12)   \n",
       "5781             Lion Air  Boeing 737-MAX 8  189   (passengers:181  crew:8)   \n",
       "5782  Fly Jamaica Airways    Boeing 757-N23  128   (passengers:120  crew:8)   \n",
       "\n",
       "                          fatalities  \\\n",
       "5780      1   (passengers:1  crew:0)   \n",
       "5781  189   (passengers:181  crew:8)   \n",
       "5782      1   (passengers:1  crew:0)   \n",
       "\n",
       "                                                summary aboard_c aboard_p  \\\n",
       "5780  The aircraft was approaching for a landing at ...       12       35   \n",
       "5781  The airliner crashed into the Jakarta Sea, 13 ...        8      181   \n",
       "5782  After taking off and reaching FL200, the crew ...        8      120   \n",
       "\n",
       "     fatalities_c fatalities_p  fatalities_g  \n",
       "5780            0            1           0.0  \n",
       "5781            8          181           0.0  \n",
       "5782            0            1           0.0  "
      ]
     },
     "execution_count": 76,
     "metadata": {},
     "output_type": "execute_result"
    }
   ],
   "source": [
    "# Reorder columns:\n",
    "df.rename(columns={'location': 'crash_location'}, inplace=True)\n",
    "df = df[['date','time','from','to','crash_location','operator','ac_type','aboard','fatalities','summary',\n",
    "         'aboard_c','aboard_p','fatalities_c','fatalities_p','fatalities_g']]\n",
    "\n",
    "df.tail(3)"
   ]
  },
  {
   "cell_type": "code",
   "execution_count": 77,
   "metadata": {},
   "outputs": [
    {
     "name": "stdout",
     "output_type": "stream",
     "text": [
      "[(0, 'date'), (1, 'time'), (2, 'from'), (3, 'to'), (4, 'crash_location'), (5, 'operator'), (6, 'ac_type'), (7, 'aboard'), (8, 'fatalities'), (9, 'summary'), (10, 'aboard_c'), (11, 'aboard_p'), (12, 'fatalities_c'), (13, 'fatalities_p'), (14, 'fatalities_g')]\n"
     ]
    }
   ],
   "source": [
    "print(list(enumerate(df.columns)))"
   ]
  },
  {
   "cell_type": "code",
   "execution_count": 78,
   "metadata": {},
   "outputs": [
    {
     "data": {
      "text/html": [
       "<div>\n",
       "<style scoped>\n",
       "    .dataframe tbody tr th:only-of-type {\n",
       "        vertical-align: middle;\n",
       "    }\n",
       "\n",
       "    .dataframe tbody tr th {\n",
       "        vertical-align: top;\n",
       "    }\n",
       "\n",
       "    .dataframe thead th {\n",
       "        text-align: right;\n",
       "    }\n",
       "</style>\n",
       "<table border=\"1\" class=\"dataframe\">\n",
       "  <thead>\n",
       "    <tr style=\"text-align: right;\">\n",
       "      <th></th>\n",
       "      <th>date</th>\n",
       "      <th>time</th>\n",
       "      <th>from</th>\n",
       "      <th>to</th>\n",
       "      <th>crash_location</th>\n",
       "      <th>operator</th>\n",
       "      <th>ac_type</th>\n",
       "      <th>aboard</th>\n",
       "      <th>fatalities</th>\n",
       "      <th>summary</th>\n",
       "      <th>aboard_c</th>\n",
       "      <th>aboard_p</th>\n",
       "      <th>fatalities_c</th>\n",
       "      <th>fatalities_p</th>\n",
       "      <th>fatalities_g</th>\n",
       "    </tr>\n",
       "  </thead>\n",
       "  <tbody>\n",
       "    <tr>\n",
       "      <th>5780</th>\n",
       "      <td>2018-09-28</td>\n",
       "      <td>10:10:00</td>\n",
       "      <td>Pohnpei</td>\n",
       "      <td>Chuuk</td>\n",
       "      <td>Chuuk, Micronesia</td>\n",
       "      <td>Air Niugini</td>\n",
       "      <td>Boeing 737-8BK</td>\n",
       "      <td>47   (passengers:35  crew:12)</td>\n",
       "      <td>1   (passengers:1  crew:0)</td>\n",
       "      <td>The aircraft was approaching for a landing at ...</td>\n",
       "      <td>12.0</td>\n",
       "      <td>35.0</td>\n",
       "      <td>0.0</td>\n",
       "      <td>1.0</td>\n",
       "      <td>0.0</td>\n",
       "    </tr>\n",
       "    <tr>\n",
       "      <th>5781</th>\n",
       "      <td>2018-10-29</td>\n",
       "      <td>06:31:00</td>\n",
       "      <td>Jakarta</td>\n",
       "      <td>Pangkal Pinang</td>\n",
       "      <td>Off Jakarta, Indonesia</td>\n",
       "      <td>Lion Air</td>\n",
       "      <td>Boeing 737-MAX 8</td>\n",
       "      <td>189   (passengers:181  crew:8)</td>\n",
       "      <td>189   (passengers:181  crew:8)</td>\n",
       "      <td>The airliner crashed into the Jakarta Sea, 13 ...</td>\n",
       "      <td>8.0</td>\n",
       "      <td>181.0</td>\n",
       "      <td>8.0</td>\n",
       "      <td>181.0</td>\n",
       "      <td>0.0</td>\n",
       "    </tr>\n",
       "    <tr>\n",
       "      <th>5782</th>\n",
       "      <td>2018-11-06</td>\n",
       "      <td>02:53:00</td>\n",
       "      <td>Georgetown</td>\n",
       "      <td>Toronto</td>\n",
       "      <td>Georgetown, Guyana</td>\n",
       "      <td>Fly Jamaica Airways</td>\n",
       "      <td>Boeing 757-N23</td>\n",
       "      <td>128   (passengers:120  crew:8)</td>\n",
       "      <td>1   (passengers:1  crew:0)</td>\n",
       "      <td>After taking off and reaching FL200, the crew ...</td>\n",
       "      <td>8.0</td>\n",
       "      <td>120.0</td>\n",
       "      <td>0.0</td>\n",
       "      <td>1.0</td>\n",
       "      <td>0.0</td>\n",
       "    </tr>\n",
       "  </tbody>\n",
       "</table>\n",
       "</div>"
      ],
      "text/plain": [
       "           date      time        from              to          crash_location  \\\n",
       "5780 2018-09-28  10:10:00     Pohnpei           Chuuk       Chuuk, Micronesia   \n",
       "5781 2018-10-29  06:31:00     Jakarta  Pangkal Pinang  Off Jakarta, Indonesia   \n",
       "5782 2018-11-06  02:53:00  Georgetown         Toronto      Georgetown, Guyana   \n",
       "\n",
       "                 operator           ac_type                          aboard  \\\n",
       "5780          Air Niugini    Boeing 737-8BK   47   (passengers:35  crew:12)   \n",
       "5781             Lion Air  Boeing 737-MAX 8  189   (passengers:181  crew:8)   \n",
       "5782  Fly Jamaica Airways    Boeing 757-N23  128   (passengers:120  crew:8)   \n",
       "\n",
       "                          fatalities  \\\n",
       "5780      1   (passengers:1  crew:0)   \n",
       "5781  189   (passengers:181  crew:8)   \n",
       "5782      1   (passengers:1  crew:0)   \n",
       "\n",
       "                                                summary  aboard_c  aboard_p  \\\n",
       "5780  The aircraft was approaching for a landing at ...      12.0      35.0   \n",
       "5781  The airliner crashed into the Jakarta Sea, 13 ...       8.0     181.0   \n",
       "5782  After taking off and reaching FL200, the crew ...       8.0     120.0   \n",
       "\n",
       "      fatalities_c  fatalities_p  fatalities_g  \n",
       "5780           0.0           1.0           0.0  \n",
       "5781           8.0         181.0           0.0  \n",
       "5782           0.0           1.0           0.0  "
      ]
     },
     "execution_count": 78,
     "metadata": {},
     "output_type": "execute_result"
    }
   ],
   "source": [
    "# Convert numerical features to float format:\n",
    "df.iloc[:, 10:] = df.iloc[:, 10:].astype('float')\n",
    "df.tail(3)"
   ]
  },
  {
   "cell_type": "markdown",
   "metadata": {},
   "source": [
    "## Feature engineering"
   ]
  },
  {
   "cell_type": "code",
   "execution_count": 79,
   "metadata": {},
   "outputs": [
    {
     "data": {
      "text/html": [
       "<div>\n",
       "<style scoped>\n",
       "    .dataframe tbody tr th:only-of-type {\n",
       "        vertical-align: middle;\n",
       "    }\n",
       "\n",
       "    .dataframe tbody tr th {\n",
       "        vertical-align: top;\n",
       "    }\n",
       "\n",
       "    .dataframe thead th {\n",
       "        text-align: right;\n",
       "    }\n",
       "</style>\n",
       "<table border=\"1\" class=\"dataframe\">\n",
       "  <thead>\n",
       "    <tr style=\"text-align: right;\">\n",
       "      <th></th>\n",
       "      <th>date</th>\n",
       "      <th>time</th>\n",
       "      <th>from</th>\n",
       "      <th>to</th>\n",
       "      <th>crash_location</th>\n",
       "      <th>operator</th>\n",
       "      <th>ac_type</th>\n",
       "      <th>aboard</th>\n",
       "      <th>fatalities</th>\n",
       "      <th>summary</th>\n",
       "      <th>aboard_c</th>\n",
       "      <th>aboard_p</th>\n",
       "      <th>fatalities_c</th>\n",
       "      <th>fatalities_p</th>\n",
       "      <th>fatalities_g</th>\n",
       "    </tr>\n",
       "  </thead>\n",
       "  <tbody>\n",
       "  </tbody>\n",
       "</table>\n",
       "</div>"
      ],
      "text/plain": [
       "Empty DataFrame\n",
       "Columns: [date, time, from, to, crash_location, operator, ac_type, aboard, fatalities, summary, aboard_c, aboard_p, fatalities_c, fatalities_p, fatalities_g]\n",
       "Index: []"
      ]
     },
     "execution_count": 79,
     "metadata": {},
     "output_type": "execute_result"
    }
   ],
   "source": [
    "# Check that there is no records where passangeres fatalities are higher than number of passangers aboard:\n",
    "df[df.aboard_p < df.fatalities_p]"
   ]
  },
  {
   "cell_type": "code",
   "execution_count": 80,
   "metadata": {},
   "outputs": [
    {
     "data": {
      "text/html": [
       "<div>\n",
       "<style scoped>\n",
       "    .dataframe tbody tr th:only-of-type {\n",
       "        vertical-align: middle;\n",
       "    }\n",
       "\n",
       "    .dataframe tbody tr th {\n",
       "        vertical-align: top;\n",
       "    }\n",
       "\n",
       "    .dataframe thead th {\n",
       "        text-align: right;\n",
       "    }\n",
       "</style>\n",
       "<table border=\"1\" class=\"dataframe\">\n",
       "  <thead>\n",
       "    <tr style=\"text-align: right;\">\n",
       "      <th></th>\n",
       "      <th>date</th>\n",
       "      <th>time</th>\n",
       "      <th>from</th>\n",
       "      <th>to</th>\n",
       "      <th>crash_location</th>\n",
       "      <th>operator</th>\n",
       "      <th>ac_type</th>\n",
       "      <th>aboard</th>\n",
       "      <th>fatalities</th>\n",
       "      <th>summary</th>\n",
       "      <th>aboard_c</th>\n",
       "      <th>aboard_p</th>\n",
       "      <th>fatalities_c</th>\n",
       "      <th>fatalities_p</th>\n",
       "      <th>fatalities_g</th>\n",
       "    </tr>\n",
       "  </thead>\n",
       "  <tbody>\n",
       "    <tr>\n",
       "      <th>5716</th>\n",
       "      <td>2015-09-05</td>\n",
       "      <td>19:08:00</td>\n",
       "      <td>Ouagadougou</td>\n",
       "      <td>Dakar</td>\n",
       "      <td>Off Dakar, Near Dioubel, Senegal</td>\n",
       "      <td>Senegalair</td>\n",
       "      <td>Hawker Siddeley HS-125</td>\n",
       "      <td>7   (passengers:5  crew:2)</td>\n",
       "      <td>7   (passengers:2  crew:5)</td>\n",
       "      <td>The air ambulance went missing while on a medi...</td>\n",
       "      <td>2.0</td>\n",
       "      <td>5.0</td>\n",
       "      <td>5.0</td>\n",
       "      <td>2.0</td>\n",
       "      <td>0.0</td>\n",
       "    </tr>\n",
       "  </tbody>\n",
       "</table>\n",
       "</div>"
      ],
      "text/plain": [
       "           date      time         from     to  \\\n",
       "5716 2015-09-05  19:08:00  Ouagadougou  Dakar   \n",
       "\n",
       "                        crash_location    operator                 ac_type  \\\n",
       "5716  Off Dakar, Near Dioubel, Senegal  Senegalair  Hawker Siddeley HS-125   \n",
       "\n",
       "                          aboard                  fatalities  \\\n",
       "5716  7   (passengers:5  crew:2)  7   (passengers:2  crew:5)   \n",
       "\n",
       "                                                summary  aboard_c  aboard_p  \\\n",
       "5716  The air ambulance went missing while on a medi...       2.0       5.0   \n",
       "\n",
       "      fatalities_c  fatalities_p  fatalities_g  \n",
       "5716           5.0           2.0           0.0  "
      ]
     },
     "execution_count": 80,
     "metadata": {},
     "output_type": "execute_result"
    }
   ],
   "source": [
    "# Check that there is no records where crew fatalities are higher than the crew aboard:\n",
    "df[df.aboard_c < df.fatalities_c]"
   ]
  },
  {
   "cell_type": "code",
   "execution_count": 81,
   "metadata": {},
   "outputs": [
    {
     "data": {
      "text/html": [
       "<div>\n",
       "<style scoped>\n",
       "    .dataframe tbody tr th:only-of-type {\n",
       "        vertical-align: middle;\n",
       "    }\n",
       "\n",
       "    .dataframe tbody tr th {\n",
       "        vertical-align: top;\n",
       "    }\n",
       "\n",
       "    .dataframe thead th {\n",
       "        text-align: right;\n",
       "    }\n",
       "</style>\n",
       "<table border=\"1\" class=\"dataframe\">\n",
       "  <thead>\n",
       "    <tr style=\"text-align: right;\">\n",
       "      <th></th>\n",
       "      <th>date</th>\n",
       "      <th>time</th>\n",
       "      <th>from</th>\n",
       "      <th>to</th>\n",
       "      <th>crash_location</th>\n",
       "      <th>operator</th>\n",
       "      <th>ac_type</th>\n",
       "      <th>aboard</th>\n",
       "      <th>fatalities</th>\n",
       "      <th>summary</th>\n",
       "      <th>aboard_c</th>\n",
       "      <th>aboard_p</th>\n",
       "      <th>fatalities_c</th>\n",
       "      <th>fatalities_p</th>\n",
       "      <th>fatalities_g</th>\n",
       "    </tr>\n",
       "  </thead>\n",
       "  <tbody>\n",
       "  </tbody>\n",
       "</table>\n",
       "</div>"
      ],
      "text/plain": [
       "Empty DataFrame\n",
       "Columns: [date, time, from, to, crash_location, operator, ac_type, aboard, fatalities, summary, aboard_c, aboard_p, fatalities_c, fatalities_p, fatalities_g]\n",
       "Index: []"
      ]
     },
     "execution_count": 81,
     "metadata": {},
     "output_type": "execute_result"
    }
   ],
   "source": [
    "# Swap the values:\n",
    "df.loc[5716, ['fatalities_c', 'fatalities_p']] = df.loc[5716, ['fatalities_p', 'fatalities_c']].values\n",
    "\n",
    "# Check results:\n",
    "df[df.aboard_c < df.fatalities_c]"
   ]
  },
  {
   "cell_type": "code",
   "execution_count": 82,
   "metadata": {},
   "outputs": [
    {
     "data": {
      "text/html": [
       "<div>\n",
       "<style scoped>\n",
       "    .dataframe tbody tr th:only-of-type {\n",
       "        vertical-align: middle;\n",
       "    }\n",
       "\n",
       "    .dataframe tbody tr th {\n",
       "        vertical-align: top;\n",
       "    }\n",
       "\n",
       "    .dataframe thead th {\n",
       "        text-align: right;\n",
       "    }\n",
       "</style>\n",
       "<table border=\"1\" class=\"dataframe\">\n",
       "  <thead>\n",
       "    <tr style=\"text-align: right;\">\n",
       "      <th></th>\n",
       "      <th>date</th>\n",
       "      <th>time</th>\n",
       "      <th>from</th>\n",
       "      <th>to</th>\n",
       "      <th>crash_location</th>\n",
       "      <th>operator</th>\n",
       "      <th>ac_type</th>\n",
       "      <th>aboard</th>\n",
       "      <th>fatalities</th>\n",
       "      <th>summary</th>\n",
       "      <th>aboard_c</th>\n",
       "      <th>aboard_p</th>\n",
       "      <th>fatalities_c</th>\n",
       "      <th>fatalities_p</th>\n",
       "      <th>fatalities_g</th>\n",
       "      <th>deathrate_p</th>\n",
       "      <th>deathrate_c</th>\n",
       "    </tr>\n",
       "  </thead>\n",
       "  <tbody>\n",
       "    <tr>\n",
       "      <th>5780</th>\n",
       "      <td>2018-09-28</td>\n",
       "      <td>10:10:00</td>\n",
       "      <td>Pohnpei</td>\n",
       "      <td>Chuuk</td>\n",
       "      <td>Chuuk, Micronesia</td>\n",
       "      <td>Air Niugini</td>\n",
       "      <td>Boeing 737-8BK</td>\n",
       "      <td>47   (passengers:35  crew:12)</td>\n",
       "      <td>1   (passengers:1  crew:0)</td>\n",
       "      <td>The aircraft was approaching for a landing at ...</td>\n",
       "      <td>12.0</td>\n",
       "      <td>35.0</td>\n",
       "      <td>0.0</td>\n",
       "      <td>1.0</td>\n",
       "      <td>0.0</td>\n",
       "      <td>0.028571</td>\n",
       "      <td>0.0</td>\n",
       "    </tr>\n",
       "    <tr>\n",
       "      <th>5781</th>\n",
       "      <td>2018-10-29</td>\n",
       "      <td>06:31:00</td>\n",
       "      <td>Jakarta</td>\n",
       "      <td>Pangkal Pinang</td>\n",
       "      <td>Off Jakarta, Indonesia</td>\n",
       "      <td>Lion Air</td>\n",
       "      <td>Boeing 737-MAX 8</td>\n",
       "      <td>189   (passengers:181  crew:8)</td>\n",
       "      <td>189   (passengers:181  crew:8)</td>\n",
       "      <td>The airliner crashed into the Jakarta Sea, 13 ...</td>\n",
       "      <td>8.0</td>\n",
       "      <td>181.0</td>\n",
       "      <td>8.0</td>\n",
       "      <td>181.0</td>\n",
       "      <td>0.0</td>\n",
       "      <td>1.000000</td>\n",
       "      <td>1.0</td>\n",
       "    </tr>\n",
       "    <tr>\n",
       "      <th>5782</th>\n",
       "      <td>2018-11-06</td>\n",
       "      <td>02:53:00</td>\n",
       "      <td>Georgetown</td>\n",
       "      <td>Toronto</td>\n",
       "      <td>Georgetown, Guyana</td>\n",
       "      <td>Fly Jamaica Airways</td>\n",
       "      <td>Boeing 757-N23</td>\n",
       "      <td>128   (passengers:120  crew:8)</td>\n",
       "      <td>1   (passengers:1  crew:0)</td>\n",
       "      <td>After taking off and reaching FL200, the crew ...</td>\n",
       "      <td>8.0</td>\n",
       "      <td>120.0</td>\n",
       "      <td>0.0</td>\n",
       "      <td>1.0</td>\n",
       "      <td>0.0</td>\n",
       "      <td>0.008333</td>\n",
       "      <td>0.0</td>\n",
       "    </tr>\n",
       "  </tbody>\n",
       "</table>\n",
       "</div>"
      ],
      "text/plain": [
       "           date      time        from              to          crash_location  \\\n",
       "5780 2018-09-28  10:10:00     Pohnpei           Chuuk       Chuuk, Micronesia   \n",
       "5781 2018-10-29  06:31:00     Jakarta  Pangkal Pinang  Off Jakarta, Indonesia   \n",
       "5782 2018-11-06  02:53:00  Georgetown         Toronto      Georgetown, Guyana   \n",
       "\n",
       "                 operator           ac_type                          aboard  \\\n",
       "5780          Air Niugini    Boeing 737-8BK   47   (passengers:35  crew:12)   \n",
       "5781             Lion Air  Boeing 737-MAX 8  189   (passengers:181  crew:8)   \n",
       "5782  Fly Jamaica Airways    Boeing 757-N23  128   (passengers:120  crew:8)   \n",
       "\n",
       "                          fatalities  \\\n",
       "5780      1   (passengers:1  crew:0)   \n",
       "5781  189   (passengers:181  crew:8)   \n",
       "5782      1   (passengers:1  crew:0)   \n",
       "\n",
       "                                                summary  aboard_c  aboard_p  \\\n",
       "5780  The aircraft was approaching for a landing at ...      12.0      35.0   \n",
       "5781  The airliner crashed into the Jakarta Sea, 13 ...       8.0     181.0   \n",
       "5782  After taking off and reaching FL200, the crew ...       8.0     120.0   \n",
       "\n",
       "      fatalities_c  fatalities_p  fatalities_g  deathrate_p  deathrate_c  \n",
       "5780           0.0           1.0           0.0     0.028571          0.0  \n",
       "5781           8.0         181.0           0.0     1.000000          1.0  \n",
       "5782           0.0           1.0           0.0     0.008333          0.0  "
      ]
     },
     "execution_count": 82,
     "metadata": {},
     "output_type": "execute_result"
    }
   ],
   "source": [
    "# # Add total fatalities (with and without fatalities on the ground):\n",
    "# df['fatalities_t'] = df['fatalities_c'] + df['fatalities_p']\n",
    "# df['fatalities_t'] = df['fatalities_c'] + df['fatalities_p']+ df['fatalities_g']\n",
    "\n",
    "# Add death rates:\n",
    "df['deathrate_p'] = df.fatalities_p / df.aboard_p\n",
    "df['deathrate_c'] = df.fatalities_c / df.aboard_c\n",
    "\n",
    "# Show results:\n",
    "df.tail(3)"
   ]
  },
  {
   "cell_type": "code",
   "execution_count": 83,
   "metadata": {},
   "outputs": [
    {
     "name": "stdout",
     "output_type": "stream",
     "text": [
      "<class 'pandas.core.frame.DataFrame'>\n",
      "RangeIndex: 5783 entries, 0 to 5782\n",
      "Data columns (total 17 columns):\n",
      "date              5783 non-null datetime64[ns]\n",
      "time              3650 non-null object\n",
      "from              4029 non-null object\n",
      "to                4029 non-null object\n",
      "crash_location    5777 non-null object\n",
      "operator          5762 non-null object\n",
      "ac_type           5759 non-null object\n",
      "aboard            5783 non-null object\n",
      "fatalities        5783 non-null object\n",
      "summary           5552 non-null object\n",
      "aboard_c          5239 non-null float64\n",
      "aboard_p          5239 non-null float64\n",
      "fatalities_c      5222 non-null float64\n",
      "fatalities_p      5222 non-null float64\n",
      "fatalities_g      5731 non-null float64\n",
      "deathrate_p       4235 non-null float64\n",
      "deathrate_c       5209 non-null float64\n",
      "dtypes: datetime64[ns](1), float64(7), object(9)\n",
      "memory usage: 768.1+ KB\n",
      "None \n",
      "\n"
     ]
    },
    {
     "data": {
      "text/html": [
       "<div>\n",
       "<style scoped>\n",
       "    .dataframe tbody tr th:only-of-type {\n",
       "        vertical-align: middle;\n",
       "    }\n",
       "\n",
       "    .dataframe tbody tr th {\n",
       "        vertical-align: top;\n",
       "    }\n",
       "\n",
       "    .dataframe thead th {\n",
       "        text-align: right;\n",
       "    }\n",
       "</style>\n",
       "<table border=\"1\" class=\"dataframe\">\n",
       "  <thead>\n",
       "    <tr style=\"text-align: right;\">\n",
       "      <th></th>\n",
       "      <th>count</th>\n",
       "      <th>mean</th>\n",
       "      <th>std</th>\n",
       "      <th>min</th>\n",
       "      <th>25%</th>\n",
       "      <th>50%</th>\n",
       "      <th>75%</th>\n",
       "      <th>max</th>\n",
       "    </tr>\n",
       "  </thead>\n",
       "  <tbody>\n",
       "    <tr>\n",
       "      <th>aboard_c</th>\n",
       "      <td>5239.0</td>\n",
       "      <td>4.137240</td>\n",
       "      <td>3.463559</td>\n",
       "      <td>0.0</td>\n",
       "      <td>2.000000</td>\n",
       "      <td>3.0</td>\n",
       "      <td>5.0</td>\n",
       "      <td>61.0</td>\n",
       "    </tr>\n",
       "    <tr>\n",
       "      <th>aboard_p</th>\n",
       "      <td>5239.0</td>\n",
       "      <td>23.959725</td>\n",
       "      <td>42.256541</td>\n",
       "      <td>0.0</td>\n",
       "      <td>2.000000</td>\n",
       "      <td>9.0</td>\n",
       "      <td>26.0</td>\n",
       "      <td>614.0</td>\n",
       "    </tr>\n",
       "    <tr>\n",
       "      <th>fatalities_c</th>\n",
       "      <td>5222.0</td>\n",
       "      <td>3.346610</td>\n",
       "      <td>3.126848</td>\n",
       "      <td>0.0</td>\n",
       "      <td>1.000000</td>\n",
       "      <td>3.0</td>\n",
       "      <td>4.0</td>\n",
       "      <td>46.0</td>\n",
       "    </tr>\n",
       "    <tr>\n",
       "      <th>fatalities_p</th>\n",
       "      <td>5222.0</td>\n",
       "      <td>16.952509</td>\n",
       "      <td>32.629663</td>\n",
       "      <td>0.0</td>\n",
       "      <td>1.000000</td>\n",
       "      <td>5.0</td>\n",
       "      <td>18.0</td>\n",
       "      <td>560.0</td>\n",
       "    </tr>\n",
       "    <tr>\n",
       "      <th>fatalities_g</th>\n",
       "      <td>5731.0</td>\n",
       "      <td>1.526610</td>\n",
       "      <td>51.666765</td>\n",
       "      <td>0.0</td>\n",
       "      <td>0.000000</td>\n",
       "      <td>0.0</td>\n",
       "      <td>0.0</td>\n",
       "      <td>2750.0</td>\n",
       "    </tr>\n",
       "    <tr>\n",
       "      <th>deathrate_p</th>\n",
       "      <td>4235.0</td>\n",
       "      <td>0.804676</td>\n",
       "      <td>0.332262</td>\n",
       "      <td>0.0</td>\n",
       "      <td>0.727273</td>\n",
       "      <td>1.0</td>\n",
       "      <td>1.0</td>\n",
       "      <td>1.0</td>\n",
       "    </tr>\n",
       "    <tr>\n",
       "      <th>deathrate_c</th>\n",
       "      <td>5209.0</td>\n",
       "      <td>0.848400</td>\n",
       "      <td>0.311399</td>\n",
       "      <td>0.0</td>\n",
       "      <td>1.000000</td>\n",
       "      <td>1.0</td>\n",
       "      <td>1.0</td>\n",
       "      <td>1.0</td>\n",
       "    </tr>\n",
       "  </tbody>\n",
       "</table>\n",
       "</div>"
      ],
      "text/plain": [
       "               count       mean        std  min       25%  50%   75%     max\n",
       "aboard_c      5239.0   4.137240   3.463559  0.0  2.000000  3.0   5.0    61.0\n",
       "aboard_p      5239.0  23.959725  42.256541  0.0  2.000000  9.0  26.0   614.0\n",
       "fatalities_c  5222.0   3.346610   3.126848  0.0  1.000000  3.0   4.0    46.0\n",
       "fatalities_p  5222.0  16.952509  32.629663  0.0  1.000000  5.0  18.0   560.0\n",
       "fatalities_g  5731.0   1.526610  51.666765  0.0  0.000000  0.0   0.0  2750.0\n",
       "deathrate_p   4235.0   0.804676   0.332262  0.0  0.727273  1.0   1.0     1.0\n",
       "deathrate_c   5209.0   0.848400   0.311399  0.0  1.000000  1.0   1.0     1.0"
      ]
     },
     "execution_count": 83,
     "metadata": {},
     "output_type": "execute_result"
    }
   ],
   "source": [
    "# Print general info and base statistics:\n",
    "print(df.info(), '\\n')\n",
    "df.describe().T"
   ]
  },
  {
   "cell_type": "markdown",
   "metadata": {},
   "source": [
    "# EDA"
   ]
  },
  {
   "cell_type": "code",
   "execution_count": 84,
   "metadata": {},
   "outputs": [],
   "source": [
    "import matplotlib.pyplot as plt"
   ]
  },
  {
   "cell_type": "code",
   "execution_count": 85,
   "metadata": {},
   "outputs": [],
   "source": [
    "def without_nan(data):\n",
    "    indexes = data.notna()\n",
    "    if len(indexes.shape) == 1:\n",
    "        return data[indexes]\n",
    "    else:\n",
    "        return data[indexes.all(axis=1)]"
   ]
  },
  {
   "cell_type": "code",
   "execution_count": 103,
   "metadata": {},
   "outputs": [],
   "source": [
    "def plot_hboxplot(data, labels='', log=True, xscale=(0.001, 1.1), precision=3):\n",
    "    data = without_nan(data).T\n",
    "\n",
    "    plt.figure(figsize=(16,6))\n",
    "    plt.boxplot(data, vert=False, labels=labels)\n",
    "    if log:\n",
    "        plt.xscale('log')\n",
    "        x_ticks = np.logspace(np.floor(np.log10(xscale[0])), np.ceil(np.log10(xscale[1])),21)\n",
    "        plt.xticks(ticks=x_ticks, labels=x_ticks.round(precision))\n",
    "    \n",
    "    plt.xlim(xscale)\n",
    "    plt.xticks(rotation=30)\n",
    "    plt.yticks(rotation=90, va='center')\n",
    "    plt.show()"
   ]
  },
  {
   "cell_type": "markdown",
   "metadata": {},
   "source": [
    "#### How many people died in aircrashes?"
   ]
  },
  {
   "cell_type": "code",
   "execution_count": 98,
   "metadata": {},
   "outputs": [
    {
     "data": {
      "text/plain": [
       "fatalities_c    17476.0\n",
       "fatalities_p    88526.0\n",
       "fatalities_g     8749.0\n",
       "dtype: float64"
      ]
     },
     "execution_count": 98,
     "metadata": {},
     "output_type": "execute_result"
    }
   ],
   "source": [
    "df.iloc[:,12:-2].sum()"
   ]
  },
  {
   "cell_type": "code",
   "execution_count": 102,
   "metadata": {},
   "outputs": [
    {
     "data": {
      "image/png": "[encoded data removed]",
      "text/plain": [
       "<Figure size 1152x1152 with 7 Axes>"
      ]
     },
     "metadata": {
      "needs_background": "light"
     },
     "output_type": "display_data"
    }
   ],
   "source": [
    "df.iloc[:,10:].plot(kind='kde', subplots=True, sharex=False, figsize=(16,16))\n",
    "plt.show()"
   ]
  },
  {
   "cell_type": "markdown",
   "metadata": {},
   "source": [
    "#### Plot the deathrate distribution"
   ]
  },
  {
   "cell_type": "code",
   "execution_count": 87,
   "metadata": {},
   "outputs": [
    {
     "data": {
      "image/png": "[encoded data removed]",
      "text/plain": [
       "<Figure size 1152x432 with 1 Axes>"
      ]
     },
     "metadata": {
      "needs_background": "light"
     },
     "output_type": "display_data"
    }
   ],
   "source": [
    "plot_hboxplot(df[['deathrate_p', 'deathrate_c']], labels=['passangers','crew'])"
   ]
  },
  {
   "cell_type": "markdown",
   "metadata": {},
   "source": [
    "#### Plot fatalities distributions"
   ]
  },
  {
   "cell_type": "code",
   "execution_count": 88,
   "metadata": {},
   "outputs": [
    {
     "data": {
      "image/png": "[encoded data removed]",
      "text/plain": [
       "<Figure size 1152x432 with 1 Axes>"
      ]
     },
     "metadata": {
      "needs_background": "light"
     },
     "output_type": "display_data"
    }
   ],
   "source": [
    "plot_hboxplot(df[['fatalities_p', 'fatalities_c']], labels=['passangers','crew'], log=False, xscale=(0, 350))"
   ]
  },
  {
   "cell_type": "markdown",
   "metadata": {},
   "source": [
    "#### What is the maximum total fatalities count?"
   ]
  },
  {
   "cell_type": "code",
   "execution_count": null,
   "metadata": {},
   "outputs": [],
   "source": [
    "total_fatalities = (df.fatalities_c + df.fatalities_p + df.fatalities_g)\n",
    "df.loc[total_fatalities.idxmax(),]"
   ]
  },
  {
   "cell_type": "code",
   "execution_count": 93,
   "metadata": {},
   "outputs": [
    {
     "data": {
      "text/plain": [
       "'The aircraft was hijacked shortly after it left Logan International Airport in Boston. The hijackers took control of the aircraft and deliberately crashed it into the north tower of the World Trade Center between the 94th and 99th floors at approximately 450 mph.  After 102 minutes, the building collapsed. It was one of four planes that were hijacked the same day.'"
      ]
     },
     "execution_count": 93,
     "metadata": {},
     "output_type": "execute_result"
    }
   ],
   "source": [
    "df.loc[total_fatalities.idxmax(), 'summary']"
   ]
  },
  {
   "cell_type": "markdown",
   "metadata": {},
   "source": [
    "#### What is the maximum total fatalities count without ground losses?"
   ]
  },
  {
   "cell_type": "code",
   "execution_count": 94,
   "metadata": {},
   "outputs": [
    {
     "data": {
      "text/plain": [
       "date                                            1977-03-27 00:00:00\n",
       "time                                                       17:07:00\n",
       "from                                                       Tenerife\n",
       "to                                                       Las Palmas\n",
       "crash_location                             Tenerife, Canary Islands\n",
       "operator                           Pan American World Airways / KLM\n",
       "ac_type                        Boeing B-747-121 / Boeing B-747-206B\n",
       "aboard                              644   (passengers:614  crew:30)\n",
       "fatalities                          583   (passengers:560  crew:23)\n",
       "summary           Both aircraft were diverted to Tenerife becaus...\n",
       "aboard_c                                                         30\n",
       "aboard_p                                                        614\n",
       "fatalities_c                                                     23\n",
       "fatalities_p                                                    560\n",
       "fatalities_g                                                      0\n",
       "deathrate_p                                                0.912052\n",
       "deathrate_c                                                0.766667\n",
       "Name: 3164, dtype: object"
      ]
     },
     "execution_count": 94,
     "metadata": {},
     "output_type": "execute_result"
    }
   ],
   "source": [
    "df.loc[(df.fatalities_c + df.fatalities_p).idxmax(),]"
   ]
  },
  {
   "cell_type": "code",
   "execution_count": 95,
   "metadata": {},
   "outputs": [
    {
     "data": {
      "text/plain": [
       "'Both aircraft were diverted to Tenerife because of a bombing at Las Palmas Airport. After an extended delay,  both planes were instructed to back track up the runway. The KLM plane reached its takeoff point while the Pan Am plane was still on the runway. The Pan Am plane continued up the runway missing the taxiway turnout. There was heavy fog on the runway. The KLM plane began its takeoff roll without permission with the Pan Am plane still on the runway. The controller and Pan Am pilot each radioed a warning to the KLM plane, but were not heard because the simultaneous transmissions interfered with each other.The KLM plane hit the Pan Am plane just as it was taking off. Both planes burst into flames.  KLM 234 + 14 crew,  Pan Am 326 + 9 crew killed. All aboard the KLM plane were killed. The KLM captain was their safety officer and for some months had  been training other pilots using a simulator, where getting takeoff permission was not simulated. The Pan Am aircraft was named Clipper Victor. The KLM aircraft was named Rhine River. Despite all the circumstances the KLM plane was blamed for taking off without permission by the NTSB.'"
      ]
     },
     "execution_count": 95,
     "metadata": {},
     "output_type": "execute_result"
    }
   ],
   "source": [
    "df.loc[(df.fatalities_c + df.fatalities_p).idxmax(), 'summary']"
   ]
  },
  {
   "cell_type": "markdown",
   "metadata": {},
   "source": [
    "#### What operators have killed most people?"
   ]
  },
  {
   "cell_type": "code",
   "execution_count": 43,
   "metadata": {},
   "outputs": [
    {
     "data": {
      "text/html": [
       "<div>\n",
       "<style scoped>\n",
       "    .dataframe tbody tr th:only-of-type {\n",
       "        vertical-align: middle;\n",
       "    }\n",
       "\n",
       "    .dataframe tbody tr th {\n",
       "        vertical-align: top;\n",
       "    }\n",
       "\n",
       "    .dataframe thead th {\n",
       "        text-align: right;\n",
       "    }\n",
       "</style>\n",
       "<table border=\"1\" class=\"dataframe\">\n",
       "  <thead>\n",
       "    <tr style=\"text-align: right;\">\n",
       "      <th></th>\n",
       "      <th>incidents</th>\n",
       "      <th>total_fatalities</th>\n",
       "    </tr>\n",
       "    <tr>\n",
       "      <th>operator</th>\n",
       "      <th></th>\n",
       "      <th></th>\n",
       "    </tr>\n",
       "  </thead>\n",
       "  <tbody>\n",
       "    <tr>\n",
       "      <th>Aeroflot</th>\n",
       "      <td>260.0</td>\n",
       "      <td>8459.0</td>\n",
       "    </tr>\n",
       "    <tr>\n",
       "      <th>American Airlines</th>\n",
       "      <td>37.0</td>\n",
       "      <td>4311.0</td>\n",
       "    </tr>\n",
       "    <tr>\n",
       "      <th>United Air Lines</th>\n",
       "      <td>44.0</td>\n",
       "      <td>3768.0</td>\n",
       "    </tr>\n",
       "    <tr>\n",
       "      <th>Military - U.S. Air Force</th>\n",
       "      <td>177.0</td>\n",
       "      <td>3341.0</td>\n",
       "    </tr>\n",
       "    <tr>\n",
       "      <th>Air France</th>\n",
       "      <td>72.0</td>\n",
       "      <td>1696.0</td>\n",
       "    </tr>\n",
       "    <tr>\n",
       "      <th>Pan American World Airways</th>\n",
       "      <td>41.0</td>\n",
       "      <td>1281.0</td>\n",
       "    </tr>\n",
       "    <tr>\n",
       "      <th>Military - U.S. Army Air Forces</th>\n",
       "      <td>43.0</td>\n",
       "      <td>1066.0</td>\n",
       "    </tr>\n",
       "    <tr>\n",
       "      <th>AVIANCA</th>\n",
       "      <td>24.0</td>\n",
       "      <td>944.0</td>\n",
       "    </tr>\n",
       "    <tr>\n",
       "      <th>Turkish Airlines (THY)</th>\n",
       "      <td>14.0</td>\n",
       "      <td>891.0</td>\n",
       "    </tr>\n",
       "    <tr>\n",
       "      <th>Indian Airlines</th>\n",
       "      <td>34.0</td>\n",
       "      <td>868.0</td>\n",
       "    </tr>\n",
       "  </tbody>\n",
       "</table>\n",
       "</div>"
      ],
      "text/plain": [
       "                                 incidents  total_fatalities\n",
       "operator                                                    \n",
       "Aeroflot                             260.0            8459.0\n",
       "American Airlines                     37.0            4311.0\n",
       "United Air Lines                      44.0            3768.0\n",
       "Military - U.S. Air Force            177.0            3341.0\n",
       "Air France                            72.0            1696.0\n",
       "Pan American World Airways            41.0            1281.0\n",
       "Military - U.S. Army Air Forces       43.0            1066.0\n",
       "AVIANCA                               24.0             944.0\n",
       "Turkish Airlines (THY)                14.0             891.0\n",
       "Indian Airlines                       34.0             868.0"
      ]
     },
     "execution_count": 43,
     "metadata": {},
     "output_type": "execute_result"
    }
   ],
   "source": [
    "top_operators_by_fatalities = df.groupby('operator')['fatalities_t'].agg([len, sum])\n",
    "top_operators_by_fatalities.rename(columns={'len': 'incidents', 'sum': 'total_fatalities'}, inplace=True)\n",
    "top_operators_by_fatalities.nlargest(10, columns='total_fatalities')"
   ]
  },
  {
   "cell_type": "markdown",
   "metadata": {},
   "source": [
    "Explore **Aeroflot** incidents:"
   ]
  },
  {
   "cell_type": "code",
   "execution_count": 44,
   "metadata": {},
   "outputs": [
    {
     "data": {
      "text/plain": [
       "date               0\n",
       "time              72\n",
       "from              49\n",
       "to                49\n",
       "crash_location     0\n",
       "operator           0\n",
       "ac_type            2\n",
       "aboard             0\n",
       "fatalities         0\n",
       "summary            4\n",
       "aboard_c          21\n",
       "aboard_p          21\n",
       "fatalities_c      22\n",
       "fatalities_p      22\n",
       "fatalities_g       5\n",
       "fatalities_t      25\n",
       "deathrate_p       38\n",
       "deathrate_c       22\n",
       "dtype: int64"
      ]
     },
     "execution_count": 44,
     "metadata": {},
     "output_type": "execute_result"
    }
   ],
   "source": [
    "aeroflot = df[df.operator == 'Aeroflot']\n",
    "aeroflot.isna().sum(axis=0)"
   ]
  },
  {
   "cell_type": "code",
   "execution_count": 45,
   "metadata": {},
   "outputs": [
    {
     "name": "stderr",
     "output_type": "stream",
     "text": [
      "C:\\ProgramData\\Anaconda3\\lib\\site-packages\\pandas\\plotting\\_converter.py:129: FutureWarning: Using an implicitly registered datetime converter for a matplotlib plotting method. The converter was registered by pandas on import. Future versions of pandas will require you to explicitly register matplotlib converters.\n",
      "\n",
      "To register the converters:\n",
      "\t>>> from pandas.plotting import register_matplotlib_converters\n",
      "\t>>> register_matplotlib_converters()\n",
      "  warnings.warn(msg, FutureWarning)\n"
     ]
    },
    {
     "data": {
      "text/plain": [
       "(708205.0, 734536.5147213363)"
      ]
     },
     "execution_count": 45,
     "metadata": {},
     "output_type": "execute_result"
    },
    {
     "data": {
      "image/png": "[encoded data removed]",
      "text/plain": [
       "<Figure size 1152x432 with 1 Axes>"
      ]
     },
     "metadata": {
      "needs_background": "light"
     },
     "output_type": "display_data"
    }
   ],
   "source": [
    "plt.figure(figsize=(16,6))\n",
    "data = df[df.operator == 'Aeroflot'].resample(rule='M', on='date').sum()\n",
    "plt.scatter(x=data.index, y=data.fatalities_t, marker='+', s=data.fatalities_t, color='firebrick')\n",
    "plt.grid()\n",
    "plt.ylim(0,)\n",
    "plt.xlim(pd.datetime(1940,1,1))"
   ]
  },
  {
   "cell_type": "code",
   "execution_count": 46,
   "metadata": {},
   "outputs": [
    {
     "data": {
      "text/html": [
       "<div>\n",
       "<style scoped>\n",
       "    .dataframe tbody tr th:only-of-type {\n",
       "        vertical-align: middle;\n",
       "    }\n",
       "\n",
       "    .dataframe tbody tr th {\n",
       "        vertical-align: top;\n",
       "    }\n",
       "\n",
       "    .dataframe thead th {\n",
       "        text-align: right;\n",
       "    }\n",
       "</style>\n",
       "<table border=\"1\" class=\"dataframe\">\n",
       "  <thead>\n",
       "    <tr style=\"text-align: right;\">\n",
       "      <th></th>\n",
       "      <th>incidents</th>\n",
       "      <th>total_fatalities</th>\n",
       "    </tr>\n",
       "    <tr>\n",
       "      <th>operator</th>\n",
       "      <th></th>\n",
       "      <th></th>\n",
       "    </tr>\n",
       "  </thead>\n",
       "  <tbody>\n",
       "    <tr>\n",
       "      <th>American Airlines</th>\n",
       "      <td>6.0</td>\n",
       "      <td>3468.0</td>\n",
       "    </tr>\n",
       "    <tr>\n",
       "      <th>United Air Lines</th>\n",
       "      <td>3.0</td>\n",
       "      <td>2860.0</td>\n",
       "    </tr>\n",
       "    <tr>\n",
       "      <th>China Airlines (Taiwan)</th>\n",
       "      <td>4.0</td>\n",
       "      <td>695.0</td>\n",
       "    </tr>\n",
       "    <tr>\n",
       "      <th>Malaysia Airlines</th>\n",
       "      <td>3.0</td>\n",
       "      <td>571.0</td>\n",
       "    </tr>\n",
       "    <tr>\n",
       "      <th>Military - Russian Air Force</th>\n",
       "      <td>11.0</td>\n",
       "      <td>470.0</td>\n",
       "    </tr>\n",
       "    <tr>\n",
       "      <th>Air France</th>\n",
       "      <td>5.0</td>\n",
       "      <td>397.0</td>\n",
       "    </tr>\n",
       "    <tr>\n",
       "      <th>Saudi Arabian Airlines / Kazakhstan Airlines</th>\n",
       "      <td>1.0</td>\n",
       "      <td>349.0</td>\n",
       "    </tr>\n",
       "    <tr>\n",
       "      <th>TAM (Brazil)</th>\n",
       "      <td>4.0</td>\n",
       "      <td>299.0</td>\n",
       "    </tr>\n",
       "    <tr>\n",
       "      <th>EgyptAir</th>\n",
       "      <td>3.0</td>\n",
       "      <td>297.0</td>\n",
       "    </tr>\n",
       "    <tr>\n",
       "      <th>Kenya Airways</th>\n",
       "      <td>2.0</td>\n",
       "      <td>283.0</td>\n",
       "    </tr>\n",
       "  </tbody>\n",
       "</table>\n",
       "</div>"
      ],
      "text/plain": [
       "                                              incidents  total_fatalities\n",
       "operator                                                                 \n",
       "American Airlines                                   6.0            3468.0\n",
       "United Air Lines                                    3.0            2860.0\n",
       "China Airlines (Taiwan)                             4.0             695.0\n",
       "Malaysia Airlines                                   3.0             571.0\n",
       "Military - Russian Air Force                       11.0             470.0\n",
       "Air France                                          5.0             397.0\n",
       "Saudi Arabian Airlines / Kazakhstan Airlines        1.0             349.0\n",
       "TAM (Brazil)                                        4.0             299.0\n",
       "EgyptAir                                            3.0             297.0\n",
       "Kenya Airways                                       2.0             283.0"
      ]
     },
     "execution_count": 46,
     "metadata": {},
     "output_type": "execute_result"
    }
   ],
   "source": [
    "top_operators_by_fatalities_after_1992 = df[df.date > pd.datetime(1992,1,1)].groupby('operator')['fatalities_t'].agg([len, sum])\n",
    "top_operators_by_fatalities_after_1992.rename(columns={'len': 'incidents', 'sum': 'total_fatalities'}, inplace=True)\n",
    "top_operators_by_fatalities_after_1992.nlargest(10, columns='total_fatalities')"
   ]
  },
  {
   "cell_type": "markdown",
   "metadata": {},
   "source": [
    "Select first 4 operators and build the same graph that we built for Aeroflot"
   ]
  },
  {
   "cell_type": "code",
   "execution_count": 47,
   "metadata": {},
   "outputs": [],
   "source": [
    "operators = top_operators_by_fatalities_after_1992.nlargest(4, columns='total_fatalities').index.tolist()"
   ]
  },
  {
   "cell_type": "code",
   "execution_count": 50,
   "metadata": {},
   "outputs": [
    {
     "data": {
      "text/plain": [
       "(727198.0, 737208.5671608567)"
      ]
     },
     "execution_count": 50,
     "metadata": {},
     "output_type": "execute_result"
    },
    {
     "data": {
      "image/png": "[encoded data removed]",
      "text/plain": [
       "<Figure size 1152x432 with 1 Axes>"
      ]
     },
     "metadata": {
      "needs_background": "light"
     },
     "output_type": "display_data"
    }
   ],
   "source": [
    "plt.figure(figsize=(16,6))\n",
    "colors = ['blue','firebrick', 'darkgreen','black']\n",
    "for i in range(4):\n",
    "    data = df[df.operator == operators[i]].resample(rule='M', on='date').sum()\n",
    "    plt.scatter(x=data.index, y=data.fatalities_t, marker='+', s=data.fatalities_t, color=colors[i], label=operators[i])\n",
    "plt.grid()\n",
    "plt.legend()\n",
    "plt.ylim(0,)\n",
    "\n",
    "plt.xlim(pd.datetime(1992,1,1))"
   ]
  },
  {
   "cell_type": "code",
   "execution_count": 47,
   "metadata": {},
   "outputs": [],
   "source": [
    "temp = without_nan(df[['date','fatalities_p', 'fatalities_c']])"
   ]
  },
  {
   "cell_type": "code",
   "execution_count": 42,
   "metadata": {},
   "outputs": [
    {
     "data": {
      "text/plain": [
       "<matplotlib.axes._subplots.AxesSubplot at 0x2153e9ad688>"
      ]
     },
     "execution_count": 42,
     "metadata": {},
     "output_type": "execute_result"
    },
    {
     "data": {
      "image/png": "[encoded data removed]",
      "text/plain": [
       "<Figure size 432x288 with 1 Axes>"
      ]
     },
     "metadata": {
      "needs_background": "light"
     },
     "output_type": "display_data"
    }
   ],
   "source": [
    "temp.groupby('date').sum().plot()"
   ]
  },
  {
   "cell_type": "code",
   "execution_count": null,
   "metadata": {},
   "outputs": [],
   "source": []
  },
  {
   "cell_type": "code",
   "execution_count": null,
   "metadata": {},
   "outputs": [],
   "source": []
  },
  {
   "cell_type": "code",
   "execution_count": null,
   "metadata": {},
   "outputs": [],
   "source": []
  },
  {
   "cell_type": "code",
   "execution_count": null,
   "metadata": {},
   "outputs": [],
   "source": []
  },
  {
   "cell_type": "code",
   "execution_count": null,
   "metadata": {},
   "outputs": [],
   "source": []
  },
  {
   "cell_type": "code",
   "execution_count": null,
   "metadata": {},
   "outputs": [],
   "source": []
  },
  {
   "cell_type": "code",
   "execution_count": null,
   "metadata": {},
   "outputs": [],
   "source": []
  },
  {
   "cell_type": "code",
   "execution_count": null,
   "metadata": {},
   "outputs": [],
   "source": []
  },
  {
   "cell_type": "code",
   "execution_count": null,
   "metadata": {},
   "outputs": [],
   "source": []
  },
  {
   "cell_type": "code",
   "execution_count": null,
   "metadata": {},
   "outputs": [],
   "source": []
  },
  {
   "cell_type": "code",
   "execution_count": null,
   "metadata": {},
   "outputs": [],
   "source": []
  },
  {
   "cell_type": "code",
   "execution_count": null,
   "metadata": {},
   "outputs": [],
   "source": []
  },
  {
   "cell_type": "code",
   "execution_count": null,
   "metadata": {},
   "outputs": [],
   "source": []
  },
  {
   "cell_type": "code",
   "execution_count": null,
   "metadata": {},
   "outputs": [],
   "source": []
  },
  {
   "cell_type": "code",
   "execution_count": null,
   "metadata": {},
   "outputs": [],
   "source": []
  },
  {
   "cell_type": "code",
   "execution_count": null,
   "metadata": {},
   "outputs": [],
   "source": []
  },
  {
   "cell_type": "code",
   "execution_count": null,
   "metadata": {},
   "outputs": [],
   "source": []
  }
 ],
 "metadata": {
  "file_extension": ".py",
  "kernelspec": {
   "display_name": "Python 3",
   "language": "python",
   "name": "python3"
  },
  "language_info": {
   "codemirror_mode": {
    "name": "ipython",
    "version": 3
   },
   "file_extension": ".py",
   "mimetype": "text/x-python",
   "name": "python",
   "nbconvert_exporter": "python",
   "pygments_lexer": "ipython3",
   "version": "3.7.3"
  },
  "mimetype": "text/x-python",
  "name": "python",
  "npconvert_exporter": "python",
  "pygments_lexer": "ipython3",
  "version": 3
 },
 "nbformat": 4,
 "nbformat_minor": 4
}
