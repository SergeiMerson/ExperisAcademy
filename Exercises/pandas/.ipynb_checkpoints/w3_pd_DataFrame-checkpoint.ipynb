{
 "cells": [
  {
   "cell_type": "markdown",
   "metadata": {},
   "source": [
    "# Python Pandas DataFrame: Exercises"
   ]
  },
  {
   "cell_type": "code",
   "execution_count": 1,
   "metadata": {},
   "outputs": [],
   "source": [
    "import pandas as pd\n",
    "import numpy as np\n",
    "import matplotlib.pyplot as plt"
   ]
  },
  {
   "cell_type": "markdown",
   "metadata": {},
   "source": [
    "#### 1. Write a Pandas program to get the powers of an array values element-wise.   \n",
    "Note: First array elements raised to powers from second array  \n",
    "Sample data: {'X':[78,85,96,80,86], 'Y':[84,94,89,83,86],'Z':[86,97,96,72,83]}  \n",
    "Expected Output:  \n",
    "X Y Z  \n",
    "0 78 84 86  \n",
    "1 85 94 97  \n",
    "2 96 89 96  \n",
    "3 80 83 72  \n",
    "4 86 86 83  "
   ]
  },
  {
   "cell_type": "code",
   "execution_count": null,
   "metadata": {
    "pycharm": {
     "name": "#%%\n"
    }
   },
   "outputs": [],
   "source": []
  },
  {
   "cell_type": "markdown",
   "metadata": {},
   "source": [
    "#### 2. Write a Pandas program to create and display a DataFrame from a specified dictionary data which has the index labels.   \n",
    "Sample Python dictionary data and list labels:  \n",
    "exam_data = {'name': ['Anastasia', 'Dima', 'Katherine', 'James', 'Emily', 'Michael', 'Matthew', 'Laura', 'Kevin', 'Jonas'],  \n",
    "'score': [12.5, 9, 16.5, np.nan, 9, 20, 14.5, np.nan, 8, 19],  \n",
    "'attempts': [1, 3, 2, 3, 2, 3, 1, 1, 2, 1],  \n",
    "'qualify': ['yes', 'no', 'yes', 'no', 'no', 'yes', 'yes', 'no', 'no', 'yes']}  \n",
    "labels = ['a', 'b', 'c', 'd', 'e', 'f', 'g', 'h', 'i', 'j']  \n",
    "Expected Output:  \n",
    "attempts name qualify score  \n",
    "a 1 Anastasia yes 12.5  \n",
    "b 3 Dima no 9.0  \n",
    ".... i 2 Kevin no 8.0  \n",
    "j 1 Jonas yes 19.0  "
   ]
  },
  {
   "cell_type": "code",
   "execution_count": null,
   "metadata": {
    "pycharm": {
     "name": "#%%\n"
    }
   },
   "outputs": [],
   "source": []
  },
  {
   "cell_type": "markdown",
   "metadata": {},
   "source": [
    "#### 3. Write a Pandas program to display a summary of the basic information about a specified DataFrame and its data.   \n",
    "Sample Python dictionary data and list labels:  \n",
    "exam_data = {'name': ['Anastasia', 'Dima', 'Katherine', 'James', 'Emily', 'Michael', 'Matthew', 'Laura', 'Kevin', 'Jonas'],  \n",
    "'score': [12.5, 9, 16.5, np.nan, 9, 20, 14.5, np.nan, 8, 19],  \n",
    "'attempts': [1, 3, 2, 3, 2, 3, 1, 1, 2, 1],  \n",
    "'qualify': ['yes', 'no', 'yes', 'no', 'no', 'yes', 'yes', 'no', 'no', 'yes']}  \n",
    "labels = ['a', 'b', 'c', 'd', 'e', 'f', 'g', 'h', 'i', 'j']  \n",
    "Expected Output:  \n",
    "Summary of the basic information about this DataFrame and its data:  \n",
    "<class 'pandas.core.frame.DataFrame'>  \n",
    "Index: 10 entries, a to j  \n",
    "Data columns (total 4 columns):  \n",
    ".... dtypes: float64(1), int64(1), object(2)  \n",
    "memory usage: 400.0+ bytes  \n",
    "None  "
   ]
  },
  {
   "cell_type": "code",
   "execution_count": null,
   "metadata": {
    "pycharm": {
     "name": "#%%\n"
    }
   },
   "outputs": [],
   "source": []
  },
  {
   "cell_type": "markdown",
   "metadata": {},
   "source": [
    "#### 4. Write a Pandas program to get the first 3 rows of a given DataFrame.   \n",
    "Sample Python dictionary data and list labels:  \n",
    "exam_data = {'name': ['Anastasia', 'Dima', 'Katherine', 'James', 'Emily', 'Michael', 'Matthew', 'Laura', 'Kevin', 'Jonas'],  \n",
    "'score': [12.5, 9, 16.5, np.nan, 9, 20, 14.5, np.nan, 8, 19],  \n",
    "'attempts': [1, 3, 2, 3, 2, 3, 1, 1, 2, 1],  \n",
    "'qualify': ['yes', 'no', 'yes', 'no', 'no', 'yes', 'yes', 'no', 'no', 'yes']}  \n",
    "labels = ['a', 'b', 'c', 'd', 'e', 'f', 'g', 'h', 'i', 'j']  \n",
    "Expected Output:  \n",
    "First three rows of the data frame:  \n",
    "attempts name qualify score  \n",
    "a 1 Anastasia yes 12.5  \n",
    "b 3 Dima no 9.0  \n",
    "c 2 Katherine yes 16.5  "
   ]
  },
  {
   "cell_type": "code",
   "execution_count": null,
   "metadata": {
    "pycharm": {
     "name": "#%%\n"
    }
   },
   "outputs": [],
   "source": []
  },
  {
   "cell_type": "markdown",
   "metadata": {},
   "source": [
    "#### 5. Write a Pandas program to select the 'name' and 'score' columns from the following DataFrame.   \n",
    "Sample Python dictionary data and list labels:  \n",
    "exam_data = {'name': ['Anastasia', 'Dima', 'Katherine', 'James', 'Emily', 'Michael', 'Matthew', 'Laura', 'Kevin', 'Jonas'],  \n",
    "'score': [12.5, 9, 16.5, np.nan, 9, 20, 14.5, np.nan, 8, 19],  \n",
    "'attempts': [1, 3, 2, 3, 2, 3, 1, 1, 2, 1],  \n",
    "'qualify': ['yes', 'no', 'yes', 'no', 'no', 'yes', 'yes', 'no', 'no', 'yes']}  \n",
    "labels = ['a', 'b', 'c', 'd', 'e', 'f', 'g', 'h', 'i', 'j']  \n",
    "Expected Output:  \n",
    "Select specific columns:  \n",
    "name score  \n",
    "a Anastasia 12.5  \n",
    "b Dima 9.0  \n",
    "c Katherine 16.5  \n",
    "... h Laura NaN  \n",
    "i Kevin 8.0  \n",
    "j Jonas 19.0  "
   ]
  },
  {
   "cell_type": "code",
   "execution_count": null,
   "metadata": {
    "pycharm": {
     "name": "#%%\n"
    }
   },
   "outputs": [],
   "source": []
  },
  {
   "cell_type": "markdown",
   "metadata": {},
   "source": [
    "#### 6. Write a Pandas program to select the specified columns and rows from a given data frame.   \n",
    "Sample Python dictionary data and list labels:  \n",
    "Select 'name' and 'score' columns in rows 1, 3, 5, 6 from the following data frame.  \n",
    "exam_data = {'name': ['Anastasia', 'Dima', 'Katherine', 'James', 'Emily', 'Michael', 'Matthew', 'Laura', 'Kevin', 'Jonas'],  \n",
    "'score': [12.5, 9, 16.5, np.nan, 9, 20, 14.5, np.nan, 8, 19],  \n",
    "'attempts': [1, 3, 2, 3, 2, 3, 1, 1, 2, 1],  \n",
    "'qualify': ['yes', 'no', 'yes', 'no', 'no', 'yes', 'yes', 'no', 'no', 'yes']}  \n",
    "labels = ['a', 'b', 'c', 'd', 'e', 'f', 'g', 'h', 'i', 'j']  \n",
    "Expected Output:  \n",
    "Select specific columns and rows:  \n",
    "name score  \n",
    "b Dima 9.0  \n",
    "d James NaN  \n",
    "f Michael 20.0  \n",
    "g Matthew 14.5  "
   ]
  },
  {
   "cell_type": "code",
   "execution_count": null,
   "metadata": {
    "pycharm": {
     "name": "#%%\n"
    }
   },
   "outputs": [],
   "source": []
  },
  {
   "cell_type": "markdown",
   "metadata": {},
   "source": [
    "#### 7. Write a Pandas program to select the rows where the number of attempts in the examination is greater than 2.   \n",
    "Sample Python dictionary data and list labels:  \n",
    "exam_data = {'name': ['Anastasia', 'Dima', 'Katherine', 'James', 'Emily', 'Michael', 'Matthew', 'Laura', 'Kevin', 'Jonas'],  \n",
    "'score': [12.5, 9, 16.5, np.nan, 9, 20, 14.5, np.nan, 8, 19],  \n",
    "'attempts': [1, 3, 2, 3, 2, 3, 1, 1, 2, 1],  \n",
    "'qualify': ['yes', 'no', 'yes', 'no', 'no', 'yes', 'yes', 'no', 'no', 'yes']}  \n",
    "labels = ['a', 'b', 'c', 'd', 'e', 'f', 'g', 'h', 'i', 'j']  \n",
    "Expected Output:  \n",
    "Number of attempts in the examination is greater than 2:  \n",
    "name score attempts qualify  \n",
    "b Dima 9.0 3 no  \n",
    "d James NaN 3 no  \n",
    "f Michael 20.0 3 yes  "
   ]
  },
  {
   "cell_type": "code",
   "execution_count": null,
   "metadata": {
    "pycharm": {
     "name": "#%%\n"
    }
   },
   "outputs": [],
   "source": []
  },
  {
   "cell_type": "markdown",
   "metadata": {},
   "source": [
    "#### 8. Write a Pandas program to count the number of rows and columns of a DataFrame.   \n",
    "Sample Python dictionary data and list labels:  \n",
    "exam_data = {'name': ['Anastasia', 'Dima', 'Katherine', 'James', 'Emily', 'Michael', 'Matthew', 'Laura', 'Kevin', 'Jonas'],  \n",
    "'score': [12.5, 9, 16.5, np.nan, 9, 20, 14.5, np.nan, 8, 19],  \n",
    "'attempts': [1, 3, 2, 3, 2, 3, 1, 1, 2, 1],  \n",
    "'qualify': ['yes', 'no', 'yes', 'no', 'no', 'yes', 'yes', 'no', 'no', 'yes']}  \n",
    "labels = ['a', 'b', 'c', 'd', 'e', 'f', 'g', 'h', 'i', 'j']  \n",
    "Expected Output:  \n",
    "Number of Rows: 10  \n",
    "Number of Columns: 4  "
   ]
  },
  {
   "cell_type": "code",
   "execution_count": null,
   "metadata": {
    "pycharm": {
     "name": "#%%\n"
    }
   },
   "outputs": [],
   "source": []
  },
  {
   "cell_type": "markdown",
   "metadata": {},
   "source": [
    "#### 9. Write a Pandas program to select the rows where the score is missing, i.e. is NaN.   \n",
    "Sample Python dictionary data and list labels:  \n",
    "exam_data = {'name': ['Anastasia', 'Dima', 'Katherine', 'James', 'Emily', 'Michael', 'Matthew', 'Laura', 'Kevin', 'Jonas'],  \n",
    "'score': [12.5, 9, 16.5, np.nan, 9, 20, 14.5, np.nan, 8, 19],  \n",
    "'attempts': [1, 3, 2, 3, 2, 3, 1, 1, 2, 1],  \n",
    "'qualify': ['yes', 'no', 'yes', 'no', 'no', 'yes', 'yes', 'no', 'no', 'yes']}  \n",
    "labels = ['a', 'b', 'c', 'd', 'e', 'f', 'g', labels = ['a', 'b', 'c', 'd', 'e', 'f', 'g', 'h', 'i', 'j']  \n",
    "Expected Output:  \n",
    "Rows where score is missing:  \n",
    "attempts name qualify score  \n",
    "d 3 James no NaN  \n",
    "h 1 Laura no NaN  "
   ]
  },
  {
   "cell_type": "code",
   "execution_count": null,
   "metadata": {
    "pycharm": {
     "name": "#%%\n"
    }
   },
   "outputs": [],
   "source": []
  },
  {
   "cell_type": "markdown",
   "metadata": {},
   "source": [
    "#### 10. Write a Pandas program to select the rows the score is between 15 and 20 (inclusive).   \n",
    "Sample Python dictionary data and list labels:  \n",
    "exam_data = {'name': ['Anastasia', 'Dima', 'Katherine', 'James', 'Emily', 'Michael', 'Matthew', 'Laura', 'Kevin', 'Jonas'],  \n",
    "'score': [12.5, 9, 16.5, np.nan, 9, 20, 14.5, np.nan, 8, 19],  \n",
    "'attempts': [1, 3, 2, 3, 2, 3, 1, 1, 2, 1],  \n",
    "'qualify': ['yes', 'no', 'yes', 'no', 'no', 'yes', 'yes', 'no', 'no', 'yes']}  \n",
    "labels = ['a', 'b', 'c', 'd', 'e', 'f', 'g', labels = ['a', 'b', 'c', 'd', 'e', 'f', 'g', 'h', 'i', 'j']  \n",
    "Expected Output:  \n",
    "Rows where score between 15 and 20 (inclusive):  \n",
    "attempts name qualify score  \n",
    "c 2 Katherine yes 16.5  \n",
    "f 3 Michael yes 20.0  \n",
    "j 1 Jonas yes 19.0  "
   ]
  },
  {
   "cell_type": "code",
   "execution_count": null,
   "metadata": {
    "pycharm": {
     "name": "#%%\n"
    }
   },
   "outputs": [],
   "source": []
  },
  {
   "cell_type": "markdown",
   "metadata": {},
   "source": [
    "#### 11. Write a Pandas program to select the rows where number of attempts in the examination is less than 2 and score greater than 15.   \n",
    "Sample Python dictionary data and list labels:  \n",
    "exam_data = {'name': ['Anastasia', 'Dima', 'Katherine', 'James', 'Emily', 'Michael', 'Matthew', 'Laura', 'Kevin', 'Jonas'],  \n",
    "'score': [12.5, 9, 16.5, np.nan, 9, 20, 14.5, np.nan, 8, 19],  \n",
    "'attempts': [1, 3, 2, 3, 2, 3, 1, 1, 2, 1],  \n",
    "'qualify': ['yes', 'no', 'yes', 'no', 'no', 'yes', 'yes', 'no', 'no', 'yes']}  \n",
    "labels = ['a', 'b', 'c', 'd', 'e', 'f', 'g', labels = ['a', 'b', 'c', 'd', 'e', 'f', 'g', 'h', 'i', 'j']  \n",
    "Expected Output:  \n",
    "Rows where score between 15 and 20 (inclusive):  \n",
    "attempts name qualify score  \n",
    "c 2 Katherine yes 16.5  \n",
    "j 1 Jonas yes 19.0  "
   ]
  },
  {
   "cell_type": "code",
   "execution_count": null,
   "metadata": {
    "pycharm": {
     "name": "#%%\n"
    }
   },
   "outputs": [],
   "source": []
  },
  {
   "cell_type": "markdown",
   "metadata": {},
   "source": [
    "#### 12. Write a Pandas program to change the score in row 'd' to 11.5.   \n",
    "Sample Python dictionary data and list labels:  \n",
    "exam_data = {'name': ['Anastasia', 'Dima', 'Katherine', 'James', 'Emily', 'Michael', 'Matthew', 'Laura', 'Kevin', 'Jonas'],  \n",
    "'score': [12.5, 9, 16.5, np.nan, 9, 20, 14.5, np.nan, 8, 19],  \n",
    "'attempts': [1, 3, 2, 3, 2, 3, 1, 1, 2, 1],  \n",
    "'qualify': ['yes', 'no', 'yes', 'no', 'no', 'yes', 'yes', 'no', 'no', 'yes']}  \n",
    "labels = ['a', 'b', 'c', 'd', 'e', 'f', 'g', 'h', 'i', 'j']  \n",
    "Expected Output:  \n",
    "Change the score in row 'd' to 11.5:  \n",
    "attempts name qualify score  \n",
    "a 1 Anastasia yes 12.5  \n",
    "b 3 Dima no 9.0  \n",
    "c 2 Katherine yes 16.5  \n",
    "...  \n",
    "i 2 Kevin no 8.0  \n",
    "j 1 Jonas yes 19.0  "
   ]
  },
  {
   "cell_type": "code",
   "execution_count": null,
   "metadata": {
    "pycharm": {
     "name": "#%%\n"
    }
   },
   "outputs": [],
   "source": []
  },
  {
   "cell_type": "markdown",
   "metadata": {},
   "source": [
    "#### 13. Write a Pandas program to calculate the sum of the examination attempts by the students.   \n",
    "Sample Python dictionary data and list labels:  \n",
    "exam_data = {'name': ['Anastasia', 'Dima', 'Katherine', 'James', 'Emily', 'Michael', 'Matthew', 'Laura', 'Kevin', 'Jonas'],  \n",
    "'score': [12.5, 9, 16.5, np.nan, 9, 20, 14.5, np.nan, 8, 19],  \n",
    "'attempts': [1, 3, 2, 3, 2, 3, 1, 1, 2, 1],  \n",
    "'qualify': ['yes', 'no', 'yes', 'no', 'no', 'yes', 'yes', 'no', 'no', 'yes']}  \n",
    "labels = ['a', 'b', 'c', 'd', 'e', 'f', 'g', 'h', 'i', 'j']  \n",
    "Expected Output:  \n",
    "Sum of the examination attempts by the students:  \n",
    "19  "
   ]
  },
  {
   "cell_type": "code",
   "execution_count": null,
   "metadata": {
    "pycharm": {
     "name": "#%%\n"
    }
   },
   "outputs": [],
   "source": []
  },
  {
   "cell_type": "markdown",
   "metadata": {},
   "source": [
    "#### 14. Write a Pandas program to calculate the mean score for each different student in DataFrame.   \n",
    "Sample Python dictionary data and list labels:  \n",
    "exam_data = {'name': ['Anastasia', 'Dima', 'Katherine', 'James', 'Emily', 'Michael', 'Matthew', 'Laura', 'Kevin', 'Jonas'],  \n",
    "'score': [12.5, 9, 16.5, np.nan, 9, 20, 14.5, np.nan, 8, 19],  \n",
    "'attempts': [1, 3, 2, 3, 2, 3, 1, 1, 2, 1],  \n",
    "'qualify': ['yes', 'no', 'yes', 'no', 'no', 'yes', 'yes', 'no', 'no', 'yes']}  \n",
    "labels = ['a', 'b', 'c', 'd', 'e', 'f', 'g', 'h', 'i', 'j']  \n",
    "Expected Output:  \n",
    "Mean score for each different student in data frame:  \n",
    "13.5625  "
   ]
  },
  {
   "cell_type": "code",
   "execution_count": null,
   "metadata": {
    "pycharm": {
     "name": "#%%\n"
    }
   },
   "outputs": [],
   "source": []
  },
  {
   "cell_type": "markdown",
   "metadata": {},
   "source": [
    "#### 15. Write a Pandas program to append a new row 'k' to data frame with given values for each column. Now delete the new row and return the original DataFrame.   \n",
    "Sample Python dictionary data and list labels:  \n",
    "exam_data = {'name': ['Anastasia', 'Dima', 'Katherine', 'James', 'Emily', 'Michael', 'Matthew', 'Laura', 'Kevin', 'Jonas'],  \n",
    "'score': [12.5, 9, 16.5, np.nan, 9, 20, 14.5, np.nan, 8, 19],  \n",
    "'attempts': [1, 3, 2, 3, 2, 3, 1, 1, 2, 1],  \n",
    "'qualify': ['yes', 'no', 'yes', 'no', 'no', 'yes', 'yes', 'no', 'no', 'yes']}  \n",
    "labels = ['a', 'b', 'c', 'd', 'e', 'f', 'g', 'h', 'i', 'j']  \n",
    "Values for each column will be:  \n",
    "name : \"Suresh\", score: 15.5, attempts: 1, qualify: \"yes\", label: \"k\"  \n",
    "Expected Output:  \n",
    "Append a new row:  \n",
    "Print all records after insert a new record:  \n",
    "attempts name qualify score  \n",
    "a 1 Anastasia yes 12.5  \n",
    "b 3 Dima no 9.0  \n",
    "......  \n",
    "j 1 Jonas yes 19.0  \n",
    "k 1 Suresh yes 15.5  \n",
    "Delete the new row and display the original rows:  \n",
    "attempts name qualify score  \n",
    "a 1 Anastasia yes 12.5  \n",
    "b 3 Dima no 9.0  \n",
    "........  \n",
    "i 2 Kevin no 8.0  \n",
    "j 1 Jonas yes 19.0  "
   ]
  },
  {
   "cell_type": "code",
   "execution_count": null,
   "metadata": {
    "pycharm": {
     "name": "#%%\n"
    }
   },
   "outputs": [],
   "source": []
  },
  {
   "cell_type": "markdown",
   "metadata": {},
   "source": [
    "#### 16. Write a Pandas program to sort the DataFrame first by 'name' in descending order, then by 'score' in ascending order.   \n",
    "Sample Python dictionary data and list labels:  \n",
    "exam_data = {'name': ['Anastasia', 'Dima', 'Katherine', 'James', 'Emily', 'Michael', 'Matthew', 'Laura', 'Kevin', 'Jonas'],  \n",
    "'score': [12.5, 9, 16.5, np.nan, 9, 20, 14.5, np.nan, 8, 19],  \n",
    "'attempts': [1, 3, 2, 3, 2, 3, 1, 1, 2, 1],  \n",
    "'qualify': ['yes', 'no', 'yes', 'no', 'no', 'yes', 'yes', 'no', 'no', 'yes']}  \n",
    "labels = ['a', 'b', 'c', 'd', 'e', 'f', 'g', 'h', 'i', 'j']  \n",
    "Values for each column will be:  \n",
    "name : \"Suresh\", score: 15.5, attempts: 1, qualify: \"yes\", label: \"k\"  \n",
    "Expected Output:  \n",
    "Sort the data frame first by 'name' in descending order, then by 'score' in ascending order:  \n",
    "attempts name qualify score  \n",
    "a 1 Anastasia yes 12.5  \n",
    "b 3 Dima no 9.0  \n",
    ".....  \n",
    "i 2 Kevin no 8.0  \n",
    "j 1 Jonas yes 19.0  "
   ]
  },
  {
   "cell_type": "code",
   "execution_count": null,
   "metadata": {
    "pycharm": {
     "name": "#%%\n"
    }
   },
   "outputs": [],
   "source": []
  },
  {
   "cell_type": "markdown",
   "metadata": {},
   "source": [
    "#### 17. Write a Pandas program to replace the 'qualify' column contains the values 'yes' and 'no' with True and False.   \n",
    "Sample Python dictionary data and list labels:  \n",
    "exam_data = {'name': ['Anastasia', 'Dima', 'Katherine', 'James', 'Emily', 'Michael', 'Matthew', 'Laura', 'Kevin', 'Jonas'],  \n",
    "'score': [12.5, 9, 16.5, np.nan, 9, 20, 14.5, np.nan, 8, 19],  \n",
    "'attempts': [1, 3, 2, 3, 2, 3, 1, 1, 2, 1],  \n",
    "'qualify': ['yes', 'no', 'yes', 'no', 'no', 'yes', 'yes', 'no', 'no', 'yes']}  \n",
    "labels = ['a', 'b', 'c', 'd', 'e', 'f', 'g', 'h', 'i', 'j']  \n",
    "Expected Output:  \n",
    "Replace the 'qualify' column contains the values 'yes' and 'no' with T  \n",
    "rue and False:  \n",
    "attempts name qualify score  \n",
    "a 1 Anastasia True 12.5  \n",
    "b 3 Dima False 9.0  \n",
    "......  \n",
    "i 2 Kevin False 8.0  \n",
    "j 1 Jonas True 19.0  "
   ]
  },
  {
   "cell_type": "code",
   "execution_count": null,
   "metadata": {
    "pycharm": {
     "name": "#%%\n"
    }
   },
   "outputs": [],
   "source": []
  },
  {
   "cell_type": "markdown",
   "metadata": {},
   "source": [
    "#### 18. Write a Pandas program to change the name 'James' to 'Suresh' in name column of the DataFrame.   \n",
    "Sample Python dictionary data and list labels:  \n",
    "exam_data = {'name': ['Anastasia', 'Dima', 'Katherine', 'James', 'Emily', 'Michael', 'Matthew', 'Laura', 'Kevin', 'Jonas'],  \n",
    "'score': [12.5, 9, 16.5, np.nan, 9, 20, 14.5, np.nan, 8, 19],  \n",
    "'attempts': [1, 3, 2, 3, 2, 3, 1, 1, 2, 1],  \n",
    "'qualify': ['yes', 'no', 'yes', 'no', 'no', 'yes', 'yes', 'no', 'no', 'yes']}  \n",
    "labels = ['a', 'b', 'c', 'd', 'e', 'f', 'g', 'h', 'i', 'j']  \n",
    "Expected Output:  \n",
    "Change the name 'James' to \\?Suresh\\?:  \n",
    "attempts name qualify score  \n",
    "a 1 Anastasia yes 12.5  \n",
    "b 3 Dima no 9.0  \n",
    ".......  \n",
    "i 2 Kevin no 8.0  \n",
    "j 1 Jonas yes 19.0  "
   ]
  },
  {
   "cell_type": "code",
   "execution_count": null,
   "metadata": {
    "pycharm": {
     "name": "#%%\n"
    }
   },
   "outputs": [],
   "source": []
  },
  {
   "cell_type": "markdown",
   "metadata": {},
   "source": [
    "#### 19. Write a Pandas program to delete the 'attempts' column from the DataFrame.   \n",
    "Sample Python dictionary data and list labels:  \n",
    "exam_data = {'name': ['Anastasia', 'Dima', 'Katherine', 'James', 'Emily', 'Michael', 'Matthew', 'Laura', 'Kevin', 'Jonas'],  \n",
    "'score': [12.5, 9, 16.5, np.nan, 9, 20, 14.5, np.nan, 8, 19],  \n",
    "'attempts': [1, 3, 2, 3, 2, 3, 1, 1, 2, 1],  \n",
    "'qualify': ['yes', 'no', 'yes', 'no', 'no', 'yes', 'yes', 'no', 'no', 'yes']}  \n",
    "labels = ['a', 'b', 'c', 'd', 'e', 'f', 'g', 'h', 'i', 'j']  \n",
    "Expected Output:  \n",
    "Delete the 'attempts' column from the data frame:  \n",
    "name qualify score  \n",
    "a Anastasia yes 12.5  \n",
    "b Dima no 9.0  \n",
    ".....  \n",
    "i Kevin no 8.0  \n",
    "j Jonas yes 19.0  "
   ]
  },
  {
   "cell_type": "code",
   "execution_count": null,
   "metadata": {
    "pycharm": {
     "name": "#%%\n"
    }
   },
   "outputs": [],
   "source": []
  },
  {
   "cell_type": "markdown",
   "metadata": {},
   "source": [
    "#### 20. Write a Pandas program to insert a new column in existing DataFrame.   \n",
    "Sample Python dictionary data and list labels:  \n",
    "exam_data = {'name': ['Anastasia', 'Dima', 'Katherine', 'James', 'Emily', 'Michael', 'Matthew', 'Laura', 'Kevin', 'Jonas'],  \n",
    "'score': [12.5, 9, 16.5, np.nan, 9, 20, 14.5, np.nan, 8, 19],  \n",
    "'attempts': [1, 3, 2, 3, 2, 3, 1, 1, 2, 1],  \n",
    "'qualify': ['yes', 'no', 'yes', 'no', 'no', 'yes', 'yes', 'no', 'no', 'yes']}  \n",
    "labels = ['a', 'b', 'c', 'd', 'e', 'f', 'g', 'h', 'i', 'j']  \n",
    "Expected Output:  \n",
    "New DataFrame after inserting the 'color' column  \n",
    "attempts name qualify score color  \n",
    "a 1 Anastasia yes 12.5 Red  \n",
    "b 3 Dima no 9.0 Blue  \n",
    ".......  \n",
    "i 2 Kevin no 8.0 Green  \n",
    "j 1 Jonas yes 19.0 Red  "
   ]
  },
  {
   "cell_type": "code",
   "execution_count": null,
   "metadata": {
    "pycharm": {
     "name": "#%%\n"
    }
   },
   "outputs": [],
   "source": []
  },
  {
   "cell_type": "markdown",
   "metadata": {},
   "source": [
    "#### 21. Write a Pandas program to iterate over rows in a DataFrame.   \n",
    "Sample Python dictionary data and list labels:  \n",
    "exam_data = [{'name':'Anastasia', 'score':12.5}, {'name':'Dima','score':9}, {'name':'Katherine','score':16.5}]  \n",
    "Expected Output:  \n",
    "Anastasia 12.5  \n",
    "Dima 9.0  \n",
    "Katherine 16.5  "
   ]
  },
  {
   "cell_type": "code",
   "execution_count": null,
   "metadata": {
    "pycharm": {
     "name": "#%%\n"
    }
   },
   "outputs": [],
   "source": []
  },
  {
   "cell_type": "markdown",
   "metadata": {},
   "source": [
    "#### 22. Write a Pandas program to get list from DataFrame column headers.   \n",
    "Sample Python dictionary data and list labels:  \n",
    "exam_data = {'name': ['Anastasia', 'Dima', 'Katherine', 'James', 'Emily', 'Michael', 'Matthew', 'Laura', 'Kevin', 'Jonas'],  \n",
    "'score': [12.5, 9, 16.5, np.nan, 9, 20, 14.5, np.nan, 8, 19],  \n",
    "'attempts': [1, 3, 2, 3, 2, 3, 1, 1, 2, 1],  \n",
    "'qualify': ['yes', 'no', 'yes', 'no', 'no', 'yes', 'yes', 'no', 'no', 'yes']}  \n",
    "labels = ['a', 'b', 'c', 'd', 'e', 'f', 'g', 'h', 'i', 'j']  \n",
    "Expected Output:  \n",
    "['attempts', 'name', 'qualify', 'score']  "
   ]
  },
  {
   "cell_type": "code",
   "execution_count": null,
   "metadata": {
    "pycharm": {
     "name": "#%%\n"
    }
   },
   "outputs": [],
   "source": []
  },
  {
   "cell_type": "markdown",
   "metadata": {},
   "source": [
    "#### 23. Write a Pandas program to rename columns of a given DataFrame   \n",
    "Sample data:  \n",
    "Original DataFrame  \n",
    "col1 col2 col3  \n",
    "0 1 4 7  \n",
    "1 2 5 8  \n",
    "2 3 6 9  \n",
    "New DataFrame after renaming columns:  \n",
    "Column1 Column2 Column3  \n",
    "0 1 4 7  \n",
    "1 2 5 8  \n",
    "2 3 6 9  "
   ]
  },
  {
   "cell_type": "code",
   "execution_count": null,
   "metadata": {
    "pycharm": {
     "name": "#%%\n"
    }
   },
   "outputs": [],
   "source": []
  },
  {
   "cell_type": "markdown",
   "metadata": {},
   "source": [
    "#### 24. Write a Pandas program to select rows from a given DataFrame based on values in some columns.   \n",
    "Sample data:  \n",
    "Original DataFrame  \n",
    "col1 col2 col3  \n",
    "0 1 4 7  \n",
    "1 4 5 8  \n",
    "2 3 6 9  \n",
    "3 4 7 0  \n",
    "4 5 8 1  \n",
    "Rows for colum1 value == 4  \n",
    "col1 col2 col3  \n",
    "1 4 5 8  \n",
    "3 4 7 0  "
   ]
  },
  {
   "cell_type": "code",
   "execution_count": null,
   "metadata": {
    "pycharm": {
     "name": "#%%\n"
    }
   },
   "outputs": [],
   "source": []
  },
  {
   "cell_type": "markdown",
   "metadata": {},
   "source": [
    "#### 25. Write a Pandas program to change the order of a DataFrame columns.   \n",
    "Sample data:  \n",
    "Original DataFrame  \n",
    "col1 col2 col3  \n",
    "0 1 4 7  \n",
    "1 4 5 8  \n",
    "2 3 6 9  \n",
    "3 4 7 0  \n",
    "4 5 8 1  \n",
    "After altering col1 and col3  \n",
    "col3 col2 col1  \n",
    "0 7 4 1  \n",
    "1 8 5 4  \n",
    "2 9 6 3  \n",
    "3 0 7 4  \n",
    "4 1 8 5  "
   ]
  },
  {
   "cell_type": "code",
   "execution_count": null,
   "metadata": {
    "pycharm": {
     "name": "#%%\n"
    }
   },
   "outputs": [],
   "source": []
  },
  {
   "cell_type": "markdown",
   "metadata": {},
   "source": [
    "#### 26. Write a Pandas program to add one row in an existing DataFrame.   \n",
    "Sample data:  \n",
    "Original DataFrame  \n",
    "col1 col2 col3  \n",
    "0 1 4 7  \n",
    "1 4 5 8  \n",
    "2 3 6 9  \n",
    "3 4 7 0  \n",
    "4 5 8 1  \n",
    "After add one row:  \n",
    "col1 col2 col3  \n",
    "0 1 4 7  \n",
    "1 4 5 8  \n",
    "2 3 6 9  \n",
    "3 4 7 0  \n",
    "4 5 8 1  \n",
    "5 10 11 12  "
   ]
  },
  {
   "cell_type": "code",
   "execution_count": null,
   "metadata": {
    "pycharm": {
     "name": "#%%\n"
    }
   },
   "outputs": [],
   "source": []
  },
  {
   "cell_type": "markdown",
   "metadata": {},
   "source": [
    "#### 27. Write a Pandas program to write a DataFrame to CSV file using tab separator.   \n",
    "Sample data:  \n",
    "Original DataFrame  \n",
    "col1 col2 col3  \n",
    "0 1 4 7  \n",
    "1 4 5 8  \n",
    "2 3 6 9  \n",
    "3 4 7 0  \n",
    "4 5 8 1  \n",
    "Data from new_file.csv file:  \n",
    "col1\\tcol2\\tcol3  \n",
    "0 1\\t4\\t7  \n",
    "1 4\\t5\\t8  \n",
    "2 3\\t6\\t9  \n",
    "3 4\\t7\\t0  \n",
    "4 5\\t8\\t1  "
   ]
  },
  {
   "cell_type": "code",
   "execution_count": null,
   "metadata": {
    "pycharm": {
     "name": "#%%\n"
    }
   },
   "outputs": [],
   "source": []
  },
  {
   "cell_type": "markdown",
   "metadata": {},
   "source": [
    "#### 28. Write a Pandas program to count city wise number of people from a given of data set (city, name of the person).   \n",
    "Sample data:  \n",
    "city Number of people  \n",
    "0 California 4  \n",
    "1 Georgia 2  \n",
    "2 Los Angeles 4  "
   ]
  },
  {
   "cell_type": "code",
   "execution_count": null,
   "metadata": {
    "pycharm": {
     "name": "#%%\n"
    }
   },
   "outputs": [],
   "source": []
  },
  {
   "cell_type": "markdown",
   "metadata": {},
   "source": [
    "#### 29. Write a Pandas program to delete DataFrame row(s) based on given column value.   \n",
    "Sample data:  \n",
    "Original DataFrame  \n",
    "col1 col2 col3  \n",
    "0 1 4 7  \n",
    "1 4 5 8  \n",
    "2 3 6 9  \n",
    "3 4 7 0  \n",
    "4 5 8 1  \n",
    "New DataFrame  \n",
    "col1 col2 col3  \n",
    "0 1 4 7  \n",
    "2 3 6 9  \n",
    "3 4 7 0  \n",
    "4 5 8 1  "
   ]
  },
  {
   "cell_type": "code",
   "execution_count": null,
   "metadata": {
    "pycharm": {
     "name": "#%%\n"
    }
   },
   "outputs": [],
   "source": []
  },
  {
   "cell_type": "markdown",
   "metadata": {},
   "source": [
    "#### 30. Write a Pandas program to widen output display to see more columns.   \n",
    "Sample data:  \n",
    "Original DataFrame  \n",
    "col1 col2 col3  \n",
    "0 1 4 7  \n",
    "1 4 5 8  \n",
    "2 3 6 9  \n",
    "3 4 7 0  \n",
    "4 5 8 1  "
   ]
  },
  {
   "cell_type": "code",
   "execution_count": null,
   "metadata": {
    "pycharm": {
     "name": "#%%\n"
    }
   },
   "outputs": [],
   "source": []
  },
  {
   "cell_type": "markdown",
   "metadata": {},
   "source": [
    "#### 31. Write a Pandas program to select a row of series/dataframe by given integer index.   \n",
    "Sample data:  \n",
    "Original DataFrame  \n",
    "col1 col2 col3  \n",
    "0 1 4 7  \n",
    "1 4 5 8  \n",
    "2 3 6 9  \n",
    "3 4 7 0  \n",
    "4 5 8 1  \n",
    "Index-2: Details  \n",
    "col1 col2 col3  \n",
    "2 3 6 9  "
   ]
  },
  {
   "cell_type": "code",
   "execution_count": null,
   "metadata": {
    "pycharm": {
     "name": "#%%\n"
    }
   },
   "outputs": [],
   "source": []
  },
  {
   "cell_type": "markdown",
   "metadata": {},
   "source": [
    "#### 32. Write a Pandas program to replace all the NaN values with Zero's in a column of a dataframe.   \n",
    "Sample data:  \n",
    "Original DataFrame  \n",
    "attempts name qualify score  \n",
    "0 1 Anastasia yes 12.5  \n",
    "1 3 Dima no 9.0  \n",
    "2 2 Katherine yes 16.5  \n",
    "3 3 James no NaN  \n",
    "4 2 Emily no 9.0  \n",
    "5 3 Michael yes 20.0  \n",
    "6 1 Matthew yes 14.5  \n",
    "7 1 Laura no NaN  \n",
    "8 2 Kevin no 8.0  \n",
    "9 1 Jonas yes 19.0  \n",
    "New DataFrame replacing all NaN with 0:  \n",
    "attempts name qualify score  \n",
    "0 1 Anastasia yes 12.5  \n",
    "1 3 Dima no 9.0  \n",
    "2 2 Katherine yes 16.5  \n",
    "3 3 James no 0.0  \n",
    "4 2 Emily no 9.0  \n",
    "5 3 Michael yes 20.0  \n",
    "6 1 Matthew yes 14.5  \n",
    "7 1 Laura no 0.0  \n",
    "8 2 Kevin no 8.0  \n",
    "9 1 Jonas yes 19.0  "
   ]
  },
  {
   "cell_type": "code",
   "execution_count": null,
   "metadata": {
    "pycharm": {
     "name": "#%%\n"
    }
   },
   "outputs": [],
   "source": []
  },
  {
   "cell_type": "markdown",
   "metadata": {},
   "source": [
    "#### 33. Write a Pandas program to convert index in a column of the given dataframe.   \n",
    "Sample data:  \n",
    "Original DataFrame  \n",
    "attempts name qualify score  \n",
    "0 1 Anastasia yes 12.5  \n",
    "1 3 Dima no 9.0  \n",
    "2 2 Katherine yes 16.5  \n",
    "3 3 James no NaN  \n",
    "4 2 Emily no 9.0  \n",
    "5 3 Michael yes 20.0  \n",
    "6 1 Matthew yes 14.5  \n",
    "7 1 Laura no NaN  \n",
    "8 2 Kevin no 8.0  \n",
    "9 1 Jonas yes 19.0  \n",
    "After converting index in a column:  \n",
    "index attempts name qualify score  \n",
    "0 0 1 Anastasia yes 12.5  \n",
    "1 1 3 Dima no 9.0  \n",
    "2 2 2 Katherine yes 16.5  \n",
    "3 3 3 James no NaN  \n",
    "4 4 2 Emily no 9.0  \n",
    "5 5 3 Michael yes 20.0  \n",
    "6 6 1 Matthew yes 14.5  \n",
    "7 7 1 Laura no NaN  \n",
    "8 8 2 Kevin no 8.0  \n",
    "9 9 1 Jonas yes 19.0  \n",
    "Hiding index:  \n",
    "index attempts name qualify score  \n",
    "0 1 Anastasia yes 12.5  \n",
    "1 3 Dima no 9.0  \n",
    "2 2 Katherine yes 16.5  \n",
    "3 3 James no NaN  \n",
    "4 2 Emily no 9.0  \n",
    "5 3 Michael yes 20.0  \n",
    "6 1 Matthew yes 14.5  \n",
    "7 1 Laura no NaN  \n",
    "8 2 Kevin no 8.0  \n",
    "9 1 Jonas yes 19.0  "
   ]
  },
  {
   "cell_type": "code",
   "execution_count": null,
   "metadata": {
    "pycharm": {
     "name": "#%%\n"
    }
   },
   "outputs": [],
   "source": []
  },
  {
   "cell_type": "markdown",
   "metadata": {},
   "source": [
    "#### 34. Write a Pandas program to set a given value for particular cell in  DataFrame using index value.   \n",
    "Sample data:  \n",
    "Original DataFrame  \n",
    "attempts name qualify score  \n",
    "0 1 Anastasia yes 12.5  \n",
    "1 3 Dima no 9.0  \n",
    "2 2 Katherine yes 16.5  \n",
    "3 3 James no NaN  \n",
    "4 2 Emily no 9.0  \n",
    "5 3 Michael yes 20.0  \n",
    "6 1 Matthew yes 14.5  \n",
    "7 1 Laura no NaN  \n",
    "8 2 Kevin no 8.0  \n",
    "9 1 Jonas yes 19.0  \n",
    "Set a given value for particular cell in the DataFrame  \n",
    "attempts name qualify score  \n",
    "0 1 Anastasia yes 12.5  \n",
    "1 3 Dima no 9.0  \n",
    "2 2 Katherine yes 16.5  \n",
    "3 3 James no NaN  \n",
    "4 2 Emily no 9.0  \n",
    "5 3 Michael yes 20.0  \n",
    "6 1 Matthew yes 14.5  \n",
    "7 1 Laura no NaN  \n",
    "8 2 Kevin no 10.2  \n",
    "9 1 Jonas yes 19.0  "
   ]
  },
  {
   "cell_type": "code",
   "execution_count": null,
   "metadata": {
    "pycharm": {
     "name": "#%%\n"
    }
   },
   "outputs": [],
   "source": []
  },
  {
   "cell_type": "markdown",
   "metadata": {},
   "source": [
    "#### 35. Write a Pandas program to count the NaN values in one or more columns in DataFrame.   \n",
    "Sample data:  \n",
    "Original DataFrame  \n",
    "attempts name qualify score  \n",
    "0 1 Anastasia yes 12.5  \n",
    "1 3 Dima no 9.0  \n",
    "2 2 Katherine yes 16.5  \n",
    "3 3 James no NaN  \n",
    "4 2 Emily no 9.0  \n",
    "5 3 Michael yes 20.0  \n",
    "6 1 Matthew yes 14.5  \n",
    "7 1 Laura no NaN  \n",
    "8 2 Kevin no 8.0  \n",
    "9 1 Jonas yes 19.0  \n",
    "Number of NaN values in one or more columns:  \n",
    "2  "
   ]
  },
  {
   "cell_type": "code",
   "execution_count": null,
   "metadata": {
    "pycharm": {
     "name": "#%%\n"
    }
   },
   "outputs": [],
   "source": []
  },
  {
   "cell_type": "markdown",
   "metadata": {},
   "source": [
    "#### 36. Write a Pandas program to drop a list of rows from a specified DataFrame.   \n",
    "Sample data:  \n",
    "Original DataFrame  \n",
    "col1 col2 col3  \n",
    "0 1 4 7  \n",
    "1 4 5 8  \n",
    "2 3 6 9  \n",
    "3 4 7 0  \n",
    "4 5 8 1  \n",
    "New DataFrame after removing 2nd & 4th rows:  \n",
    "col1 col2 col3  \n",
    "0 1 4 7  \n",
    "1 4 5 8  \n",
    "3 4 7 0  "
   ]
  },
  {
   "cell_type": "code",
   "execution_count": null,
   "metadata": {
    "pycharm": {
     "name": "#%%\n"
    }
   },
   "outputs": [],
   "source": []
  },
  {
   "cell_type": "markdown",
   "metadata": {},
   "source": [
    "#### 37. Write a Pandas program to reset index in a given DataFrame.   \n",
    "Sample data:  \n",
    "Original DataFrame  \n",
    "attempts name qualify score  \n",
    "0 1 Anastasia yes 12.5  \n",
    "1 3 Dima no 9.0  \n",
    "2 2 Katherine yes 16.5  \n",
    "3 3 James no NaN  \n",
    "4 2 Emily no 9.0  \n",
    "5 3 Michael yes 20.0  \n",
    "6 1 Matthew yes 14.5  \n",
    "7 1 Laura no NaN  \n",
    "8 2 Kevin no 8.0  \n",
    "9 1 Jonas yes 19.0  \n",
    "After removing first and second rows  \n",
    "attempts name qualify score  \n",
    "2 2 Katherine yes 16.5  \n",
    "3 3 James no NaN  \n",
    "4 2 Emily no 9.0  \n",
    "5 3 Michael yes 20.0  \n",
    "6 1 Matthew yes 14.5  \n",
    "7 1 Laura no NaN  \n",
    "8 2 Kevin no 8.0  \n",
    "9 1 Jonas yes 19.0  \n",
    "Reset the Index:  \n",
    "index attempts name qualify score  \n",
    "0 2 2 Katherine yes 16.5  \n",
    "1 3 3 James no NaN  \n",
    "2 4 2 Emily no 9.0  \n",
    "3 5 3 Michael yes 20.0  \n",
    "4 6 1 Matthew yes 14.5  \n",
    "5 7 1 Laura no NaN  \n",
    "6 8 2 Kevin no 8.0  \n",
    "7 9 1 Jonas yes 19.0  "
   ]
  },
  {
   "cell_type": "code",
   "execution_count": null,
   "metadata": {
    "pycharm": {
     "name": "#%%\n"
    }
   },
   "outputs": [],
   "source": []
  },
  {
   "cell_type": "markdown",
   "metadata": {},
   "source": [
    "#### 38. Write a Pandas program to devide a DataFrame in a given ratio.  \n",
    "Sample data:  \n",
    "Original DataFrame:  \n",
    "0 1  \n",
    "0 0.316147 -0.767359  \n",
    "1 -0.813410 -2.522672  \n",
    "2 0.869615 1.194704  \n",
    "3 -0.892915 -0.055133  \n",
    "4 -0.341126 0.518266  \n",
    "5 1.857342 1.361229  \n",
    "6 -0.044353 -1.205002  \n",
    "7 -0.726346 -0.535147  \n",
    "8 -1.350726 0.563117  \n",
    "9 1.051666 -0.441533  \n",
    "70% of the said DataFrame:  \n",
    "0 1  \n",
    "8 -1.350726 0.563117  \n",
    "2 0.869615 1.194704  \n",
    "5 1.857342 1.361229  \n",
    "6 -0.044353 -1.205002  \n",
    "3 -0.892915 -0.055133  \n",
    "1 -0.813410 -2.522672  \n",
    "0 0.316147 -0.767359  \n",
    "30% of the said DataFrame:  \n",
    "0 1  \n",
    "4 -0.341126 0.518266  \n",
    "7 -0.726346 -0.535147  \n",
    "9 1.051666 -0.441533  "
   ]
  },
  {
   "cell_type": "code",
   "execution_count": null,
   "metadata": {
    "pycharm": {
     "name": "#%%\n"
    }
   },
   "outputs": [],
   "source": []
  },
  {
   "cell_type": "markdown",
   "metadata": {},
   "source": [
    "#### 39. Write a Pandas program to combining two series into a DataFrame.   \n",
    "Sample data:  \n",
    "Data Series:  \n",
    "0 100  \n",
    "1 200  \n",
    "2 python  \n",
    "3 300.12  \n",
    "4 400  \n",
    "dtype: object  \n",
    "0 10  \n",
    "1 20  \n",
    "2 php  \n",
    "3 30.12  \n",
    "4 40  \n",
    "dtype: object  \n",
    "New DataFrame combining two series:  \n",
    "0 1  \n",
    "0 100 10  \n",
    "1 200 20  \n",
    "2 python php  \n",
    "3 300.12 30.12  \n",
    "4 400 40  "
   ]
  },
  {
   "cell_type": "code",
   "execution_count": null,
   "metadata": {
    "pycharm": {
     "name": "#%%\n"
    }
   },
   "outputs": [],
   "source": []
  },
  {
   "cell_type": "markdown",
   "metadata": {},
   "source": [
    "#### 40. Write a Pandas program to shuffle a given DataFrame rows.   \n",
    "Sample data:  \n",
    "Original DataFrame:  \n",
    "attempts name qualify score  \n",
    "0 1 Anastasia yes 12.5  \n",
    "1 3 Dima no 9.0  \n",
    "2 2 Katherine yes 16.5  \n",
    "3 3 James no NaN  \n",
    "4 2 Emily no 9.0  \n",
    "5 3 Michael yes 20.0  \n",
    "6 1 Matthew yes 14.5  \n",
    "7 1 Laura no NaN  \n",
    "8 2 Kevin no 8.0  \n",
    "9 1 Jonas yes 19.0  \n",
    "New DataFrame:  \n",
    "attempts name qualify score  \n",
    "5 3 Michael yes 20.0  \n",
    "0 1 Anastasia yes 12.5  \n",
    "9 1 Jonas yes 19.0  \n",
    "6 1 Matthew yes 14.5  \n",
    "7 1 Laura no NaN  \n",
    "1 3 Dima no 9.0  \n",
    "3 3 James no NaN  \n",
    "4 2 Emily no 9.0  \n",
    "8 2 Kevin no 8.0  \n",
    "2 2 Katherine yes 16.5  "
   ]
  },
  {
   "cell_type": "code",
   "execution_count": null,
   "metadata": {
    "pycharm": {
     "name": "#%%\n"
    }
   },
   "outputs": [],
   "source": []
  },
  {
   "cell_type": "markdown",
   "metadata": {},
   "source": [
    "#### 41. Write a Pandas program to convert DataFrame column type from string to datetime.  \n",
    "  \n",
    "Sample data:  \n",
    "String Date:  \n",
    "0 3/11/2000  \n",
    "1 3/12/2000  \n",
    "2 3/13/2000  \n",
    "dtype: object  \n",
    "Original DataFrame (string to datetime):  \n",
    "0  \n",
    "0 2000-03-11  \n",
    "1 2000-03-12  \n",
    "2 2000-03-13  "
   ]
  },
  {
   "cell_type": "code",
   "execution_count": null,
   "metadata": {
    "pycharm": {
     "name": "#%%\n"
    }
   },
   "outputs": [],
   "source": []
  },
  {
   "cell_type": "markdown",
   "metadata": {},
   "source": [
    "#### 42. Write a Pandas program to rename a specific column name in a given DataFrame.   \n",
    "Sample data:  \n",
    "Original DataFrame  \n",
    "col1 col2 col3  \n",
    "0 1 4 7  \n",
    "1 2 5 8  \n",
    "2 3 6 9  \n",
    "New DataFrame after renaming second column:  \n",
    "col1 Column2 col3  \n",
    "0 1 4 7  \n",
    "1 2 5 8  \n",
    "2 3 6 9  "
   ]
  },
  {
   "cell_type": "code",
   "execution_count": null,
   "metadata": {
    "pycharm": {
     "name": "#%%\n"
    }
   },
   "outputs": [],
   "source": []
  },
  {
   "cell_type": "markdown",
   "metadata": {},
   "source": [
    "#### 43. Write a Pandas program to get a list of a specified column of a DataFrame.   \n",
    "Sample data:  \n",
    "Powered by  \n",
    "Original DataFrame  \n",
    "col1 col2 col3  \n",
    "0 1 4 7  \n",
    "1 2 5 8  \n",
    "2 3 6 9  \n",
    "Col2 of the DataFrame to list:  \n",
    "[4, 5, 6]  "
   ]
  },
  {
   "cell_type": "code",
   "execution_count": null,
   "metadata": {
    "pycharm": {
     "name": "#%%\n"
    }
   },
   "outputs": [],
   "source": []
  },
  {
   "cell_type": "markdown",
   "metadata": {},
   "source": [
    "#### 44. Write a Pandas program to create a DataFrame from a Numpy array and specify the index column and column headers.   \n",
    "Sample Output:  \n",
    "Column1 Column2 Column3  \n",
    "Index1 0 0.0 0.0  \n",
    "Index2 0 0.0 0.0  \n",
    "Index3 0 0.0 0.0  \n",
    ".........  \n",
    "Index12 0 0.0 0.0  \n",
    "Index13 0 0.0 0.0  \n",
    "Index14 0 0.0 0.0  \n",
    "Index15 0 0.0 0.0  "
   ]
  },
  {
   "cell_type": "code",
   "execution_count": null,
   "metadata": {
    "pycharm": {
     "name": "#%%\n"
    }
   },
   "outputs": [],
   "source": []
  },
  {
   "cell_type": "markdown",
   "metadata": {},
   "source": [
    "#### 45. Write a Pandas program to find the row for where the value of a given column is maximum.   \n",
    "Sample Output:  \n",
    "Original DataFrame  \n",
    "col1 col2 col3  \n",
    "0 1 4 7  \n",
    "1 2 5 8  \n",
    "2 3 6 12  \n",
    "3 4 9 1  \n",
    "4 7 5 11  \n",
    "Row where col1 has maximum value:  \n",
    "4  \n",
    "Row where col2 has maximum value:  \n",
    "3  \n",
    "Row where col3 has maximum value:  \n",
    "2  "
   ]
  },
  {
   "cell_type": "code",
   "execution_count": null,
   "metadata": {
    "pycharm": {
     "name": "#%%\n"
    }
   },
   "outputs": [],
   "source": []
  },
  {
   "cell_type": "markdown",
   "metadata": {},
   "source": [
    "#### 46. Write a Pandas program to check whether a given column is present in a DataFrame or not.   \n",
    "Sample data:  \n",
    "Original DataFrame  \n",
    "col1 col2 col3  \n",
    "0 1 4 7  \n",
    "1 2 5 8  \n",
    "2 3 6 12  \n",
    "3 4 9 1  \n",
    "4 7 5 11  \n",
    "Col4 is not present in DataFrame.  \n",
    "Col1 is present in DataFrame.  "
   ]
  },
  {
   "cell_type": "code",
   "execution_count": null,
   "metadata": {
    "pycharm": {
     "name": "#%%\n"
    }
   },
   "outputs": [],
   "source": []
  },
  {
   "cell_type": "markdown",
   "metadata": {},
   "source": [
    "#### 47. Write a Pandas program to get the specified row value of a given DataFrame.   \n",
    "Sample data:  \n",
    "Original DataFrame  \n",
    "col1 col2 col3  \n",
    "0 1 4 7  \n",
    "1 2 5 8  \n",
    "2 3 6 12  \n",
    "3 4 9 1  \n",
    "4 7 5 11  \n",
    "Value of Row  \n",
    "col1 1  \n",
    "col2 4  \n",
    "col3 7  \n",
    "Name: 0, dtype: int64  \n",
    "Value of Row4  \n",
    "col1 4  \n",
    "col2 9  \n",
    "col3 1  \n",
    "Name: 3, dtype: int64  "
   ]
  },
  {
   "cell_type": "code",
   "execution_count": null,
   "metadata": {
    "pycharm": {
     "name": "#%%\n"
    }
   },
   "outputs": [],
   "source": []
  },
  {
   "cell_type": "markdown",
   "metadata": {},
   "source": [
    "#### 48. Write a Pandas program to get the datatypes of columns of a DataFrame.   \n",
    "Sample data:  \n",
    "Original DataFrame:  \n",
    "attempts name qualify score  \n",
    "0 1 Anastasia yes 12.5  \n",
    "1 3 Dima no 9.0  \n",
    ".......  \n",
    "8 2 Kevin no 8.0  \n",
    "9 1 Jonas yes 19.0  \n",
    "Data types of the columns of the said DataFrame:  \n",
    "attempts int64  \n",
    "name object  \n",
    "qualify object  \n",
    "score float64  \n",
    "dtype: object  "
   ]
  },
  {
   "cell_type": "code",
   "execution_count": null,
   "metadata": {
    "pycharm": {
     "name": "#%%\n"
    }
   },
   "outputs": [],
   "source": []
  },
  {
   "cell_type": "markdown",
   "metadata": {},
   "source": [
    "#### 49. Write a Pandas program to append data to an empty DataFrame.   \n",
    "Sample data:  \n",
    "Original DataFrame: After appending some data: col1 col2 0 0 0 1 1 1 2 2 2  "
   ]
  },
  {
   "cell_type": "code",
   "execution_count": null,
   "metadata": {
    "pycharm": {
     "name": "#%%\n"
    }
   },
   "outputs": [],
   "source": []
  },
  {
   "cell_type": "markdown",
   "metadata": {},
   "source": [
    "#### 50. Write a Pandas program to sort a given DataFrame by two or more columns.   \n",
    "Sample data:  \n",
    "Original DataFrame:  \n",
    "attempts name qualify score  \n",
    "0 1 Anastasia yes 12.5  \n",
    "1 3 Dima no 9.0  \n",
    "........  \n",
    "8 2 Kevin no 8.0  \n",
    "9 1 Jonas yes 19.0  \n",
    "Sort the above DataFrame on attempts, name:  \n",
    "attempts name qualify score  \n",
    "0 1 Anastasia yes 12.5  \n",
    "9 1 Jonas yes 19.0  \n",
    "7 1 Laura no NaN  \n",
    "6 1 Matthew yes 14.5  \n",
    "4 2 Emily no 9.0  \n",
    "2 2 Katherine yes 16.5  \n",
    "8 2 Kevin no 8.0  \n",
    "1 3 Dima no 9.0  \n",
    "3 3 James no NaN  \n",
    "5 3 Michael yes 20.0  "
   ]
  },
  {
   "cell_type": "code",
   "execution_count": null,
   "metadata": {
    "pycharm": {
     "name": "#%%\n"
    }
   },
   "outputs": [],
   "source": []
  },
  {
   "cell_type": "markdown",
   "metadata": {},
   "source": [
    "#### 51. Write a Pandas program to convert the datatype of a given column (floats to ints).   \n",
    "Sample data:  \n",
    "Original DataFrame:  \n",
    "attempts name qualify score  \n",
    "0 1 Anastasia yes 12.50  \n",
    "1 3 Dima no 9.10  \n",
    "......  \n",
    "8 2 Kevin no 8.80  \n",
    "9 1 Jonas yes 19.13  \n",
    "Data types of the columns of the said DataFrame:  \n",
    "attempts int64  \n",
    "name object  \n",
    "qualify object  \n",
    "score float64  \n",
    "dtype: object  \n",
    "Now change the Data type of 'score' column from float to int:  \n",
    "attempts name qualify score  \n",
    "0 1 Anastasia yes 12  \n",
    "1 3 Dima no 9  \n",
    "2 2 Katherine yes 16  \n",
    "3 3 James no 12  \n",
    "4 2 Emily no 9  \n",
    "5 3 Michael yes 20  \n",
    "6 1 Matthew yes 14  \n",
    "7 1 Laura no 11  \n",
    "8 2 Kevin no 8  \n",
    "9 1 Jonas yes 19  \n",
    "Data types of the columns of the DataFrame now:  \n",
    "attempts int64  \n",
    "name object  \n",
    "qualify object  \n",
    "score int64  \n",
    "dtype: object  "
   ]
  },
  {
   "cell_type": "code",
   "execution_count": null,
   "metadata": {
    "pycharm": {
     "name": "#%%\n"
    }
   },
   "outputs": [],
   "source": []
  },
  {
   "cell_type": "markdown",
   "metadata": {},
   "source": [
    "#### 52. Write a Pandas program to remove infinite values from a given DataFrame.   \n",
    "Sample data:  \n",
    "Original DataFrame:  \n",
    "0  \n",
    "0 1000.000000  \n",
    "1 2000.000000  \n",
    "2 3000.000000  \n",
    "3 -4000.000000  \n",
    "4 inf  \n",
    "5 -inf  \n",
    "Removing infinite values:  \n",
    "0  \n",
    "0 1000.0  \n",
    "1 2000.0  \n",
    "2 3000.0  \n",
    "3 -4000.0  \n",
    "4 NaN  \n",
    "5 NaN  "
   ]
  },
  {
   "cell_type": "code",
   "execution_count": null,
   "metadata": {
    "pycharm": {
     "name": "#%%\n"
    }
   },
   "outputs": [],
   "source": []
  },
  {
   "cell_type": "markdown",
   "metadata": {},
   "source": [
    "#### 53. Write a Pandas program to insert a given column at a specific column index in a DataFrame.   \n",
    "Sample data:  \n",
    "Original DataFrame  \n",
    "col2 col3  \n",
    "0 4 7  \n",
    "1 5 8  \n",
    "2 6 12  \n",
    "3 9 1  \n",
    "4 5 11  \n",
    "New DataFrame  \n",
    "col1 col2 col3  \n",
    "0 1 4 7  \n",
    "1 2 5 8  \n",
    "2 3 6 12  \n",
    "3 4 9 1  \n",
    "4 7 5 11  "
   ]
  },
  {
   "cell_type": "code",
   "execution_count": null,
   "metadata": {
    "pycharm": {
     "name": "#%%\n"
    }
   },
   "outputs": [],
   "source": []
  },
  {
   "cell_type": "markdown",
   "metadata": {},
   "source": [
    "#### 54. Write a Pandas program to convert a given list of lists into a Dataframe.   \n",
    "Sample data:  \n",
    "Original list of lists:  \n",
    "[[2, 4], [1, 3]]  \n",
    "New DataFrame  \n",
    "col1 col2  \n",
    "0 2 4  \n",
    "1 1 3  "
   ]
  },
  {
   "cell_type": "code",
   "execution_count": null,
   "metadata": {
    "pycharm": {
     "name": "#%%\n"
    }
   },
   "outputs": [],
   "source": []
  },
  {
   "cell_type": "markdown",
   "metadata": {},
   "source": [
    "#### 55. Write a Pandas program to group by the first column and get second column as lists in rows.   \n",
    "Sample data:  \n",
    "Original DataFrame  \n",
    "col1 col2  \n",
    "0 C1 1  \n",
    "1 C1 2  \n",
    "2 C2 3  \n",
    "3 C2 3  \n",
    "4 C2 4  \n",
    "5 C3 6  \n",
    "6 C2 5  \n",
    "Group on the col1:  \n",
    "col1  \n",
    "C1 [1, 2]  \n",
    "C2 [3, 3, 4, 5]  \n",
    "C3 [6]  \n",
    "Name: col2, dtype: object  "
   ]
  },
  {
   "cell_type": "code",
   "execution_count": null,
   "metadata": {
    "pycharm": {
     "name": "#%%\n"
    }
   },
   "outputs": [],
   "source": []
  },
  {
   "cell_type": "markdown",
   "metadata": {},
   "source": [
    "#### 56. Write a Pandas program to get column index from column name of a given DataFrame.   \n",
    "Sample Output:  \n",
    "Original DataFrame  \n",
    "col1 col2 col3  \n",
    "0 1 4 7  \n",
    "1 2 5 8  \n",
    "2 3 6 12  \n",
    "3 4 9 1  \n",
    "4 7 5 11  \n",
    "Index of 'col2'  \n",
    "1  "
   ]
  },
  {
   "cell_type": "code",
   "execution_count": null,
   "metadata": {
    "pycharm": {
     "name": "#%%\n"
    }
   },
   "outputs": [],
   "source": []
  },
  {
   "cell_type": "markdown",
   "metadata": {},
   "source": [
    "#### 57. Write a Pandas program to count number of columns of a DataFrame.   \n",
    "Sample Output:  \n",
    "Original DataFrame  \n",
    "col1 col2 col3  \n",
    "0 1 4 7  \n",
    "1 2 5 8  \n",
    "2 3 6 12  \n",
    "3 4 9 1  \n",
    "4 7 5 11  \n",
    "Number of columns:  \n",
    "3  "
   ]
  },
  {
   "cell_type": "code",
   "execution_count": null,
   "metadata": {
    "pycharm": {
     "name": "#%%\n"
    }
   },
   "outputs": [],
   "source": []
  },
  {
   "cell_type": "markdown",
   "metadata": {},
   "source": [
    "#### 58. Write a Pandas program to select all columns, except one given column in a DataFrame.   \n",
    "Sample Output:  \n",
    "Original DataFrame  \n",
    "col1 col2 col3  \n",
    "0 1 4 7  \n",
    "1 2 5 8  \n",
    "2 3 6 12  \n",
    "3 4 9 1  \n",
    "4 7 5 11  \n",
    "All columns except 'col3':  \n",
    "col1 col2  \n",
    "0 1 4  \n",
    "1 2 5  \n",
    "2 3 6  \n",
    "3 4 9  \n",
    "4 7 5  "
   ]
  },
  {
   "cell_type": "code",
   "execution_count": null,
   "metadata": {
    "pycharm": {
     "name": "#%%\n"
    }
   },
   "outputs": [],
   "source": []
  },
  {
   "cell_type": "markdown",
   "metadata": {},
   "source": [
    "#### 59. Write a Pandas program to get first n records of a DataFrame.   \n",
    "Sample Output:  \n",
    "Original DataFrame  \n",
    "col1 col2 col3  \n",
    "0 1 4 7  \n",
    "1 2 5 5  \n",
    "2 3 6 8  \n",
    "3 4 9 12  \n",
    "4 7 5 1  \n",
    "5 11 0 11  \n",
    "First 3 rows of the said DataFrame':  \n",
    "col1 col2 col3  \n",
    "0 1 4 7  \n",
    "1 2 5 5  \n",
    "2 3 6 8  "
   ]
  },
  {
   "cell_type": "code",
   "execution_count": null,
   "metadata": {
    "pycharm": {
     "name": "#%%\n"
    }
   },
   "outputs": [],
   "source": []
  },
  {
   "cell_type": "markdown",
   "metadata": {},
   "source": [
    "#### 60. Write a Pandas program to get last n records of a DataFrame.   \n",
    "Sample Output:  \n",
    "Original DataFrame  \n",
    "col1 col2 col3  \n",
    "0 1 4 7  \n",
    "1 2 5 5  \n",
    "2 3 6 8  \n",
    "3 4 9 12  \n",
    "4 7 5 1  \n",
    "5 11 0 11  \n",
    "Last 3 rows of the said DataFrame':  \n",
    "col1 col2 col3  \n",
    "3 4 9 12  \n",
    "4 7 5 1  \n",
    "5 11 0 11  "
   ]
  },
  {
   "cell_type": "code",
   "execution_count": null,
   "metadata": {
    "pycharm": {
     "name": "#%%\n"
    }
   },
   "outputs": [],
   "source": []
  },
  {
   "cell_type": "markdown",
   "metadata": {},
   "source": [
    "#### 61. Write a Pandas program to get topmost n records within each group of a DataFrame.   \n",
    "Sample Output:  \n",
    "Original DataFrame  \n",
    "col1 col2 col3  \n",
    "0 1 4 7  \n",
    "1 2 5 5  \n",
    "2 3 6 8  \n",
    "3 4 9 12  \n",
    "4 7 5 1  \n",
    "5 11 0 11  \n",
    "topmost n records within each group of a DataFrame:  \n",
    "col1 col2 col3  \n",
    "5 11 0 11  \n",
    "4 7 5 1  \n",
    "3 4 9 12  \n",
    "col1 col2 col3  \n",
    "3 4 9 12  \n",
    "2 3 6 8  \n",
    "1 2 5 5  \n",
    "4 7 5 1  \n",
    "col1 col2 col3  \n",
    "3 4 9 12  \n",
    "5 11 0 11  \n",
    "2 3 6 8  "
   ]
  },
  {
   "cell_type": "code",
   "execution_count": null,
   "metadata": {
    "pycharm": {
     "name": "#%%\n"
    }
   },
   "outputs": [],
   "source": []
  },
  {
   "cell_type": "markdown",
   "metadata": {},
   "source": [
    "#### 62. Write a Pandas program to remove first n rows of a given DataFrame.   \n",
    "Sample Output:  \n",
    "Original DataFrame  \n",
    "col1 col2 col3  \n",
    "0 1 4 7  \n",
    "1 2 5 5  \n",
    "2 3 6 8  \n",
    "3 4 9 12  \n",
    "4 7 5 1  \n",
    "5 11 0 11  \n",
    "After removing first 3 rows of the said DataFrame:  \n",
    "col1 col2 col3  \n",
    "3 4 9 12  \n",
    "4 7 5 1  \n",
    "5 11 0 11  "
   ]
  },
  {
   "cell_type": "code",
   "execution_count": null,
   "metadata": {
    "pycharm": {
     "name": "#%%\n"
    }
   },
   "outputs": [],
   "source": []
  },
  {
   "cell_type": "markdown",
   "metadata": {},
   "source": [
    "#### 63. Write a Pandas program to remove last n rows of a given DataFrame.   \n",
    "Sample Output:  \n",
    "Original DataFrame  \n",
    "col1 col2 col3  \n",
    "0 1 4 7  \n",
    "1 2 5 5  \n",
    "2 3 6 8  \n",
    "3 4 9 12  \n",
    "4 7 5 1  \n",
    "5 11 0 11  \n",
    "After removing last 3 rows of the said DataFrame:  \n",
    "col1 col2 col3  \n",
    "0 1 4 7  \n",
    "1 2 5 5  \n",
    "2 3 6 8  "
   ]
  },
  {
   "cell_type": "code",
   "execution_count": null,
   "metadata": {
    "pycharm": {
     "name": "#%%\n"
    }
   },
   "outputs": [],
   "source": []
  }
 ],
 "metadata": {
  "kernelspec": {
   "display_name": "Python 3",
   "language": "python",
   "name": "python3"
  },
  "language_info": {
   "codemirror_mode": {
    "name": "ipython",
    "version": 3
   },
   "file_extension": ".py",
   "mimetype": "text/x-python",
   "name": "python",
   "nbconvert_exporter": "python",
   "pygments_lexer": "ipython3",
   "version": "3.7.3"
  },
  "pycharm": {
   "stem_cell": {
    "cell_type": "raw",
    "metadata": {
     "collapsed": false
    },
    "source": []
   }
  }
 },
 "nbformat": 4,
 "nbformat_minor": 2
}
