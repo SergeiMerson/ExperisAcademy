{
 "cells": [
  {
   "cell_type": "code",
   "execution_count": 2,
   "metadata": {},
   "outputs": [],
   "source": [
    "import numpy as np"
   ]
  },
  {
   "cell_type": "code",
   "execution_count": 3,
   "metadata": {},
   "outputs": [],
   "source": [
    "# Create a 4X2 integer array and Prints its attributes\n",
    "# Expected Output:\n",
    "\n",
    "# Printing Array\n",
    "\n",
    "# [[64392 31655]\n",
    "#  [32579     0]\n",
    "#  [49248   462]\n",
    "#  [    0     0]]\n",
    "\n",
    "# Printing numpy array Attributes\n",
    "\n",
    "# 1> Array Shape is:  (4, 2)\n",
    "# 2>. Array dimensions are  2\n",
    "# 3>. Length of each element of array in bytes is  2"
   ]
  },
  {
   "cell_type": "code",
   "execution_count": 21,
   "metadata": {},
   "outputs": [
    {
     "name": "stdout",
     "output_type": "stream",
     "text": [
      "[[64392 31655]\n",
      " [32579     0]\n",
      " [49248   462]\n",
      " [    0     0]]\n",
      "1> Array Shape is: (4, 2)\n",
      "2> Array dimensions are 2\n",
      "3> Lenght of each element of array in bytes is 2\n"
     ]
    }
   ],
   "source": [
    "q1arr = np.array([[64392, 31655],\n",
    "                  [32579,     0],\n",
    "                  [49248,   462],\n",
    "                  [    0,     0]], dtype='uint16')\n",
    "\n",
    "print(q1arr)\n",
    "print(f\"1> Array Shape is: {q1arr.shape}\")\n",
    "print(f\"2> Array dimensions are {q1arr.ndim}\")\n",
    "print(f\"3> Lenght of each element of array in bytes is {q1arr.itemsize}\")"
   ]
  },
  {
   "cell_type": "code",
   "execution_count": 5,
   "metadata": {},
   "outputs": [],
   "source": [
    "# Create a 5X2 integer array from a range between 100 to 200 such that the difference between \n",
    "# each element is 10\n",
    "# Expected Output:\n",
    "\n",
    "# Creating 5X2 array using numpy.arange\n",
    "# [[100 110]\n",
    "#  [120 130]\n",
    "#  [140 150]\n",
    "#  [160 170]\n",
    "#  [180 190]]"
   ]
  },
  {
   "cell_type": "code",
   "execution_count": 25,
   "metadata": {},
   "outputs": [
    {
     "data": {
      "text/plain": [
       "array([[100, 110],\n",
       "       [120, 130],\n",
       "       [140, 150],\n",
       "       [160, 170],\n",
       "       [180, 190]])"
      ]
     },
     "execution_count": 25,
     "metadata": {},
     "output_type": "execute_result"
    }
   ],
   "source": [
    "q2arr1 = np.arange(100,200,10).reshape(5,2)\n",
    "q2arr1"
   ]
  },
  {
   "cell_type": "code",
   "execution_count": 2,
   "metadata": {},
   "outputs": [],
   "source": [
    "# Following is the given numpy array return array of odd rows and even columns\n",
    "# import numpy\n",
    "\n",
    "# sampleArray = numpy.array([[3 ,6, 9, 12], [15 ,18, 21, 24], \n",
    "# [27 ,30, 33, 36], [39 ,42, 45, 48], [51 ,54, 57, 60]])\n",
    "\n",
    "# Expected Output:\n",
    "\n",
    "# Printing Input Array\n",
    "# [[ 3  6  9 12]\n",
    "#  [15 18 21 24]\n",
    "#  [27 30 33 36]\n",
    "#  [39 42 45 48]\n",
    "#  [51 54 57 60]]\n",
    "\n",
    "#  Printing array of odd rows and even columns\n",
    "# [[ 6 12]\n",
    "#  [30 36]\n",
    "#  [54 60]]"
   ]
  },
  {
   "cell_type": "code",
   "execution_count": 32,
   "metadata": {},
   "outputs": [
    {
     "name": "stdout",
     "output_type": "stream",
     "text": [
      "Input array:\n",
      "[[ 3  6  9 12]\n",
      " [15 18 21 24]\n",
      " [27 30 33 36]\n",
      " [39 42 45 48]\n",
      " [51 54 57 60]]\n",
      "\n",
      "Printing array of odd rows and even columns:\n",
      "[[ 6 12]\n",
      " [30 36]\n",
      " [54 60]]\n"
     ]
    }
   ],
   "source": [
    "q3arr = np.array([[3  , 6,  9, 12],\n",
    "                  [15 ,18, 21, 24],\n",
    "                  [27 ,30, 33, 36],\n",
    "                  [39 ,42, 45, 48],\n",
    "                  [51 ,54, 57, 60]])\n",
    "\n",
    "print(f\"Input array:\\n{q3arr}\\n\")\n",
    "print(f\"Printing array of odd rows and even columns:\\n{q3arr[::2,1::2]}\")"
   ]
  },
  {
   "cell_type": "code",
   "execution_count": null,
   "metadata": {},
   "outputs": [],
   "source": [
    "# ____Split____ the array into four equal-sized sub-arrays\n",
    "# Note: Create an 8X3 integer array from a range between 10 to 34 such that the difference between each element is 1 and then Split the array into four equal-sized sub-arrays.\n",
    "\n",
    "# Expected Output:\n",
    "\n",
    "# Creating 8X3 array using numpy.arange\n",
    "# [[10 11 12]\n",
    "#  [13 14 15]\n",
    "#  [16 17 18]\n",
    "#  [19 20 21]\n",
    "#  [22 23 24]\n",
    "#  [25 26 27]\n",
    "#  [28 29 30]\n",
    "#  [31 32 33]]\n",
    "\n",
    "# Dividing 8X3 array into 4 sub array\n",
    "\n",
    "# [array([[10, 11, 12],[13, 14, 15]]), \n",
    "# array([[16, 17, 18],[19, 20, 21]]), \n",
    "# array([[22, 23, 24],[25, 26, 27]]), \n",
    "# array([[28, 29, 30],[31, 32, 33]])]"
   ]
  },
  {
   "cell_type": "code",
   "execution_count": 38,
   "metadata": {},
   "outputs": [
    {
     "name": "stdout",
     "output_type": "stream",
     "text": [
      "Original array:\n",
      "[[10 11 12]\n",
      " [13 14 15]\n",
      " [16 17 18]\n",
      " [19 20 21]\n",
      " [22 23 24]\n",
      " [25 26 27]\n",
      " [28 29 30]\n",
      " [31 32 33]]\n",
      "\n",
      "[[10 11 12]\n",
      " [13 14 15]] \n",
      "\n",
      "[[16 17 18]\n",
      " [19 20 21]] \n",
      "\n",
      "[[22 23 24]\n",
      " [25 26 27]] \n",
      "\n",
      "[[28 29 30]\n",
      " [31 32 33]] \n",
      "\n"
     ]
    }
   ],
   "source": [
    "q4arr = np.arange(10,34).reshape(8,3)\n",
    "print(f\"Original array:\\n{q4arr}\\n\")\n",
    "for array in np.split(q4arr,4):\n",
    "    print(array, '\\n')"
   ]
  },
  {
   "cell_type": "code",
   "execution_count": null,
   "metadata": {},
   "outputs": [],
   "source": [
    "# Sort following NumPy array\n",
    "# 7.1- by the second row and\n",
    "# 7.2-by the second column\n",
    "# import numpy\n",
    "# sampleArray = numpy.array([[34,43,73],[82,22,12],[53,94,66]])\n",
    "# Expected Output:\n",
    "\n",
    "# Printing Original array\n",
    "# [[34 43 73]\n",
    "#  [82 22 12]\n",
    "#  [53 94 66]]\n",
    "\n",
    "# Sorting Original array by secoond row\n",
    "# [[73 43 34]\n",
    "#  [12 22 82]\n",
    "#  [66 94 53]]\n",
    "\n",
    "# Sorting Original array by secoond column\n",
    "# [[82 22 12]\n",
    "#  [34 43 73]\n",
    "#  [53 94 66]]"
   ]
  },
  {
   "cell_type": "code",
   "execution_count": 49,
   "metadata": {},
   "outputs": [
    {
     "name": "stdout",
     "output_type": "stream",
     "text": [
      "Original array:\n",
      "[[34 43 73]\n",
      " [82 22 12]\n",
      " [53 94 66]]\n",
      "Sorting Original array by secoond row:\n",
      "[[73 43 34]\n",
      " [12 22 82]\n",
      " [66 94 53]]\n",
      "Sorting Original array by secoond column:\n",
      "[[82 22 12]\n",
      " [34 43 73]\n",
      " [53 94 66]]\n"
     ]
    }
   ],
   "source": [
    "q5arr = np.array([[34,43,73],[82,22,12],[53,94,66]])\n",
    "print(f\"Original array:\\n{q5arr}\")\n",
    "print(f\"Sorting Original array by secoond row:\\n{q5arr[:,q5arr[1].argsort()]}\")\n",
    "print(f\"Sorting Original array by secoond column:\\n{q5arr[q5arr[:,1].argsort()]}\")"
   ]
  },
  {
   "cell_type": "code",
   "execution_count": null,
   "metadata": {},
   "outputs": [],
   "source": [
    "# Following is the input NumPy array ____delete____ column two and ____insert____ following new column in its place.\n",
    "# import numpy\n",
    "# sampleArray = numpy.array([[34,43,73],[82,22,12],[53,94,66]]) \n",
    "\n",
    "# newColumn = numpy.array([[10,10,10]])\n",
    "# Expected Output:\n",
    "\n",
    "# Printing Original array\n",
    "# [[34 43 73]\n",
    "#  [82 22 12]\n",
    "#  [53 94 66]]\n",
    "\n",
    "# Array after deleting column 2 on axis 1\n",
    "\n",
    "# [[34 73]\n",
    "#  [82 12]\n",
    "#  [53 66]]\n",
    "# Array after inserting column 2 on axis 1\n",
    "\n",
    "# [[34 10 73]\n",
    "#  [82 10 12]\n",
    "#  [53 10 66]]"
   ]
  },
  {
   "cell_type": "code",
   "execution_count": 71,
   "metadata": {},
   "outputs": [
    {
     "name": "stdout",
     "output_type": "stream",
     "text": [
      "Original array:\n",
      "[[34 43 73]\n",
      " [82 22 12]\n",
      " [53 94 66]]\n",
      "\n",
      "Array after deleting column 2 on axis 1:\n",
      "[[34 43]\n",
      " [82 22]\n",
      " [53 94]]\n",
      "\n",
      "Array after inserting column 2 on axis 1:\n",
      "[[34 43 10]\n",
      " [82 22 10]\n",
      " [53 94 10]]\n",
      "\n"
     ]
    }
   ],
   "source": [
    "q6arr = np.array([[34,43,73],[82,22,12],[53,94,66]]) \n",
    "print(f\"Original array:\\n{q6arr}\\n\")\n",
    "q6arr = np.delete(q6arr, 2, axis=1)\n",
    "print(f\"Array after deleting column 2 on axis 1:\\n{q6arr}\\n\")\n",
    "q6arr = np.insert(q6arr, 2, np.array([[10,10,10]]), axis=1)\n",
    "print(f\"Array after inserting column 2 on axis 1:\\n{q6arr}\\n\")"
   ]
  }
 ],
 "metadata": {
  "kernelspec": {
   "display_name": "Python 3",
   "language": "python",
   "name": "python3"
  },
  "language_info": {
   "codemirror_mode": {
    "name": "ipython",
    "version": 3
   },
   "file_extension": ".py",
   "mimetype": "text/x-python",
   "name": "python",
   "nbconvert_exporter": "python",
   "pygments_lexer": "ipython3",
   "version": "3.7.3"
  }
 },
 "nbformat": 4,
 "nbformat_minor": 2
}
