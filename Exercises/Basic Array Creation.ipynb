{
 "cells": [
  {
   "cell_type": "code",
   "execution_count": 1,
   "metadata": {},
   "outputs": [],
   "source": [
    "import numpy as np"
   ]
  },
  {
   "cell_type": "code",
   "execution_count": 2,
   "metadata": {
    "scrolled": true
   },
   "outputs": [
    {
     "data": {
      "text/plain": [
       "array([[0, 1, 2],\n",
       "       [3, 4, 5],\n",
       "       [6, 7, 8]])"
      ]
     },
     "execution_count": 2,
     "metadata": {},
     "output_type": "execute_result"
    }
   ],
   "source": [
    "np.arange(0,9,1).reshape((3,3))"
   ]
  },
  {
   "cell_type": "code",
   "execution_count": 3,
   "metadata": {
    "scrolled": true
   },
   "outputs": [
    {
     "data": {
      "text/plain": [
       "array([15, 11, 31, 32, 32, 45, 48, 26, 20, 10])"
      ]
     },
     "execution_count": 3,
     "metadata": {},
     "output_type": "execute_result"
    }
   ],
   "source": [
    "np.random.randint(10,50,10)"
   ]
  },
  {
   "cell_type": "code",
   "execution_count": 4,
   "metadata": {},
   "outputs": [
    {
     "data": {
      "text/plain": [
       "array([0, 0, 0, 0, 0, 0, 0, 0, 0, 0])"
      ]
     },
     "execution_count": 4,
     "metadata": {},
     "output_type": "execute_result"
    }
   ],
   "source": [
    "np.zeros(10, dtype=int)"
   ]
  },
  {
   "cell_type": "code",
   "execution_count": 5,
   "metadata": {},
   "outputs": [],
   "source": [
    "hilbert_matrix = 1 / np.array([[(i+j - 1) for i in range(1,6)] for j in range(1,6)], dtype=float)"
   ]
  },
  {
   "cell_type": "code",
   "execution_count": 6,
   "metadata": {},
   "outputs": [
    {
     "data": {
      "text/plain": [
       "array([[1.        , 0.5       , 0.33333333, 0.25      , 0.2       ],\n",
       "       [0.5       , 0.33333333, 0.25      , 0.2       , 0.16666667],\n",
       "       [0.33333333, 0.25      , 0.2       , 0.16666667, 0.14285714],\n",
       "       [0.25      , 0.2       , 0.16666667, 0.14285714, 0.125     ],\n",
       "       [0.2       , 0.16666667, 0.14285714, 0.125     , 0.11111111]])"
      ]
     },
     "execution_count": 6,
     "metadata": {},
     "output_type": "execute_result"
    }
   ],
   "source": [
    "hilbert_matrix"
   ]
  },
  {
   "cell_type": "code",
   "execution_count": 7,
   "metadata": {
    "scrolled": true
   },
   "outputs": [
    {
     "data": {
      "text/plain": [
       "array([[1.        , 0.5       , 0.33333333, 0.25      , 0.2       ],\n",
       "       [0.5       , 0.33333333, 0.25      , 0.2       , 0.16666667],\n",
       "       [0.33333333, 0.25      , 0.2       , 0.16666667, 0.14285714],\n",
       "       [0.25      , 0.2       , 0.16666667, 0.14285714, 0.125     ],\n",
       "       [0.2       , 0.16666667, 0.14285714, 0.125     , 0.11111111]])"
      ]
     },
     "execution_count": 7,
     "metadata": {},
     "output_type": "execute_result"
    }
   ],
   "source": [
    "1 / (np.arange(1,6) + np.arange(0,5)[:, np.newaxis])"
   ]
  },
  {
   "cell_type": "code",
   "execution_count": 8,
   "metadata": {},
   "outputs": [
    {
     "data": {
      "text/plain": [
       "array([[1.        , 0.5       , 0.33333333, 0.25      , 0.2       ],\n",
       "       [0.5       , 0.33333333, 0.25      , 0.2       , 0.16666667],\n",
       "       [0.33333333, 0.25      , 0.2       , 0.16666667, 0.14285714],\n",
       "       [0.25      , 0.2       , 0.16666667, 0.14285714, 0.125     ],\n",
       "       [0.2       , 0.16666667, 0.14285714, 0.125     , 0.11111111]])"
      ]
     },
     "execution_count": 8,
     "metadata": {},
     "output_type": "execute_result"
    }
   ],
   "source": [
    "1 / (np.arange(1,6) + np.arange(0,5).reshape(5,1))"
   ]
  },
  {
   "cell_type": "code",
   "execution_count": 9,
   "metadata": {},
   "outputs": [],
   "source": [
    "hubert_matrix = 1 / (np.arange(1,6) + np.arange(0,5).reshape(5,1))"
   ]
  },
  {
   "cell_type": "code",
   "execution_count": 10,
   "metadata": {
    "scrolled": true
   },
   "outputs": [
    {
     "data": {
      "text/plain": [
       "8"
      ]
     },
     "execution_count": 10,
     "metadata": {},
     "output_type": "execute_result"
    }
   ],
   "source": [
    "hubert_matrix.itemsize"
   ]
  },
  {
   "cell_type": "code",
   "execution_count": 11,
   "metadata": {},
   "outputs": [],
   "source": [
    "def get_magic_square(N):\n",
    "    matrix = np.zeros((N,N))\n",
    "    x, y = 0, int((N-1)/2)\n",
    "    \n",
    "    x = N\n",
    "    y = int((N - 1) / 2)\n",
    "    \n",
    "    n = 1\n",
    "    while n != pow(N, 2) + 1:\n",
    "        if matrix[-x % N, y %N ] == 0:\n",
    "            matrix[-x % N, y % N] = n\n",
    "            n += 1\n",
    "            x += 1\n",
    "            y += 1\n",
    "        else:\n",
    "            x -= 2\n",
    "            y -= 1\n",
    "    print(matrix)\n",
    "    return matrix"
   ]
  },
  {
   "cell_type": "code",
   "execution_count": 12,
   "metadata": {
    "scrolled": true
   },
   "outputs": [
    {
     "name": "stdout",
     "output_type": "stream",
     "text": [
      "[[ 63.  75.  87.  99.   1.  13.  25.  37.  49.  51.]\n",
      " [ 74.  86.  98.  10.  12.  24.  36.  48.  60.  62.]\n",
      " [ 85.  97.   9.  11.  23.  35.  47.  59.  61.  73.]\n",
      " [ 96.   8.  20.  22.  34.  46.  58.  70.  72.  84.]\n",
      " [  7.  19.  21.  33.  45.  57.  69.  71.  83.  95.]\n",
      " [ 18.  30.  32.  44.  56.  68.  80.  82.  94.   6.]\n",
      " [ 29.  31.  43.  55.  67.  79.  81.  93.   5.  17.]\n",
      " [ 40.  42.  54.  66.  78.  90.  92.   4.  16.  28.]\n",
      " [ 41.  53.  65.  77.  89.  91.   3.  15.  27.  39.]\n",
      " [ 52.  64.  76.  88. 100.   2.  14.  26.  38.  50.]]\n"
     ]
    }
   ],
   "source": [
    "res = get_magic_square(10)"
   ]
  },
  {
   "cell_type": "code",
   "execution_count": 13,
   "metadata": {},
   "outputs": [
    {
     "data": {
      "text/plain": [
       "(10, 10)"
      ]
     },
     "execution_count": 13,
     "metadata": {},
     "output_type": "execute_result"
    }
   ],
   "source": [
    "res.shape"
   ]
  },
  {
   "cell_type": "code",
   "execution_count": 14,
   "metadata": {},
   "outputs": [],
   "source": [
    "res.resize((5,20))"
   ]
  },
  {
   "cell_type": "code",
   "execution_count": 16,
   "metadata": {},
   "outputs": [
    {
     "data": {
      "text/plain": [
       "array([[ 63.,  75.,  87.,  99.,   1.,  13.,  25.,  37.,  49.,  51.],\n",
       "       [ 74.,  86.,  98.,  10.,  12.,  24.,  36.,  48.,  60.,  62.],\n",
       "       [ 85.,  97.,   9.,  11.,  23.,  35.,  47.,  59.,  61.,  73.],\n",
       "       [ 96.,   8.,  20.,  22.,  34.,  46.,  58.,  70.,  72.,  84.],\n",
       "       [  7.,  19.,  21.,  33.,  45.,  57.,  69.,  71.,  83.,  95.],\n",
       "       [ 18.,  30.,  32.,  44.,  56.,  68.,  80.,  82.,  94.,   6.],\n",
       "       [ 29.,  31.,  43.,  55.,  67.,  79.,  81.,  93.,   5.,  17.],\n",
       "       [ 40.,  42.,  54.,  66.,  78.,  90.,  92.,   4.,  16.,  28.],\n",
       "       [ 41.,  53.,  65.,  77.,  89.,  91.,   3.,  15.,  27.,  39.],\n",
       "       [ 52.,  64.,  76.,  88., 100.,   2.,  14.,  26.,  38.,  50.]])"
      ]
     },
     "execution_count": 16,
     "metadata": {},
     "output_type": "execute_result"
    }
   ],
   "source": [
    "res.reshape((10,10))"
   ]
  },
  {
   "cell_type": "code",
   "execution_count": 18,
   "metadata": {},
   "outputs": [],
   "source": [
    "b = res.resize((10,10))"
   ]
  },
  {
   "cell_type": "code",
   "execution_count": 22,
   "metadata": {},
   "outputs": [],
   "source": [
    "b = res.reshape((10,10))"
   ]
  },
  {
   "cell_type": "code",
   "execution_count": 29,
   "metadata": {},
   "outputs": [
    {
     "data": {
      "text/plain": [
       "array([ 63.,  75.,  87.,  99.,   1.,  13.,  25.,  37.,  49.,  51.,  74.,\n",
       "        86.,  98.,  10.,  12.,  24.,  36.,  48.,  60.,  62.,  85.,  97.,\n",
       "         9.,  11.,  23.,  35.,  47.,  59.,  61.,  73.,  96.,   8.,  20.,\n",
       "        22.,  34.,  46.,  58.,  70.,  72.,  84.,   7.,  19.,  21.,  33.,\n",
       "        45.,  57.,  69.,  71.,  83.,  95.,  18.,  30.,  32.,  44.,  56.,\n",
       "        68.,  80.,  82.,  94.,   6.,  29.,  31.,  43.,  55.,  67.,  79.,\n",
       "        81.,  93.,   5.,  17.,  40.,  42.,  54.,  66.,  78.,  90.,  92.,\n",
       "         4.,  16.,  28.,  41.,  53.,  65.,  77.,  89.,  91.,   3.,  15.,\n",
       "        27.,  39.,  52.,  64.,  76.,  88., 100.,   2.,  14.,  26.,  38.,\n",
       "        50.])"
      ]
     },
     "execution_count": 29,
     "metadata": {},
     "output_type": "execute_result"
    }
   ],
   "source": [
    "b.flatten()"
   ]
  },
  {
   "cell_type": "code",
   "execution_count": 36,
   "metadata": {
    "scrolled": true
   },
   "outputs": [
    {
     "data": {
      "text/plain": [
       "array([[ 63.,  75.,  87.,  99.,   1.,  13.,  25.,  37.,  49.,  51.],\n",
       "       [ 74.,  86.,  98.,  10.,  12.,  24.,  36.,  48.,  60.,  62.],\n",
       "       [ 85.,  97.,   9.,  11.,  23.,  35.,  47.,  59.,  61.,  73.],\n",
       "       [ 96.,   8.,  20.,  22.,  34.,  46.,  58.,  70.,  72.,  84.],\n",
       "       [  7.,  19.,  21.,  33.,  45.,  57.,  69.,  71.,  83.,  95.],\n",
       "       [ 18.,  30.,  32.,  44.,  56.,  68.,  80.,  82.,  94.,   6.],\n",
       "       [ 29.,  31.,  43.,  55.,  67.,  79.,  81.,  93.,   5.,  17.],\n",
       "       [ 40.,  42.,  54.,  66.,  78.,  90.,  92.,   4.,  16.,  28.],\n",
       "       [ 41.,  53.,  65.,  77.,  89.,  91.,   3.,  15.,  27.,  39.],\n",
       "       [ 52.,  64.,  76.,  88., 100.,   2.,  14.,  26.,  38.,  50.]])"
      ]
     },
     "execution_count": 36,
     "metadata": {},
     "output_type": "execute_result"
    }
   ],
   "source": [
    "b"
   ]
  },
  {
   "cell_type": "code",
   "execution_count": 38,
   "metadata": {},
   "outputs": [],
   "source": [
    "c = b.copy()"
   ]
  },
  {
   "cell_type": "code",
   "execution_count": 48,
   "metadata": {
    "scrolled": true
   },
   "outputs": [
    {
     "data": {
      "text/plain": [
       "array([[ 63.,  74.,  85.,  96.,   7.,  18.,  29.,  40.,  41.,  52.,   0.,\n",
       "          0.,   0.,   0.,   0.,   0.,   0.,   0.,   0.,   0.],\n",
       "       [ 75.,  86.,  97.,   8.,  19.,  30.,  31.,  42.,  53.,  64.,   0.,\n",
       "          0.,   0.,   0.,   0.,   0.,   0.,   0.,   0.,   0.],\n",
       "       [ 87.,  98.,   9.,  20.,  21.,  32.,  43.,  54.,  65.,  76.,   0.,\n",
       "          0.,   0.,   0.,   0.,   0.,   0.,   0.,   0.,   0.],\n",
       "       [ 99.,  10.,  11.,  22.,  33.,  44.,  55.,  66.,  77.,  88.,   0.,\n",
       "          0.,   0.,   0.,   0.,   0.,   0.,   0.,   0.,   0.],\n",
       "       [  1.,  12.,  23.,  34.,  45.,  56.,  67.,  78.,  89., 100.,   0.,\n",
       "          0.,   0.,   0.,   0.,   0.,   0.,   0.,   0.,   0.],\n",
       "       [ 13.,  24.,  35.,  46.,  57.,  68.,  79.,  90.,  91.,   2.,   0.,\n",
       "          0.,   0.,   0.,   0.,   0.,   0.,   0.,   0.,   0.],\n",
       "       [ 25.,  36.,  47.,  58.,  69.,  80.,  81.,  92.,   3.,  14.,   0.,\n",
       "          0.,   0.,   0.,   0.,   0.,   0.,   0.,   0.,   0.],\n",
       "       [ 37.,  48.,  59.,  70.,  71.,  82.,  93.,   4.,  15.,  26.,   0.,\n",
       "          0.,   0.,   0.,   0.,   0.,   0.,   0.,   0.,   0.],\n",
       "       [ 49.,  60.,  61.,  72.,  83.,  94.,   5.,  16.,  27.,  38.,   0.,\n",
       "          0.,   0.,   0.,   0.,   0.,   0.,   0.,   0.,   0.],\n",
       "       [ 51.,  62.,  73.,  84.,  95.,   6.,  17.,  28.,  39.,  50.,   0.,\n",
       "          0.,   0.,   0.,   0.,   0.,   0.,   0.,   0.,   0.]])"
      ]
     },
     "execution_count": 48,
     "metadata": {},
     "output_type": "execute_result"
    }
   ],
   "source": [
    "c.reshape((20,10)).T"
   ]
  },
  {
   "cell_type": "code",
   "execution_count": 49,
   "metadata": {},
   "outputs": [],
   "source": [
    "aaa = np.array([[1,2,3],[4,5,6]])\n",
    "bbb = aaa.T "
   ]
  },
  {
   "cell_type": "code",
   "execution_count": 53,
   "metadata": {},
   "outputs": [
    {
     "data": {
      "text/plain": [
       "array([[ 1,  2,  3],\n",
       "       [ 4, 99,  6]])"
      ]
     },
     "execution_count": 53,
     "metadata": {},
     "output_type": "execute_result"
    }
   ],
   "source": [
    "aaa"
   ]
  },
  {
   "cell_type": "code",
   "execution_count": 54,
   "metadata": {},
   "outputs": [
    {
     "data": {
      "text/plain": [
       "array([[ 1,  4],\n",
       "       [ 2, 99],\n",
       "       [ 3,  6]])"
      ]
     },
     "execution_count": 54,
     "metadata": {},
     "output_type": "execute_result"
    }
   ],
   "source": [
    "bbb"
   ]
  },
  {
   "cell_type": "code",
   "execution_count": 52,
   "metadata": {},
   "outputs": [],
   "source": [
    "aaa[1,1] = 99"
   ]
  },
  {
   "cell_type": "code",
   "execution_count": 56,
   "metadata": {},
   "outputs": [
    {
     "data": {
      "text/plain": [
       "array([[1],\n",
       "       [2],\n",
       "       [3],\n",
       "       [4]])"
      ]
     },
     "execution_count": 56,
     "metadata": {},
     "output_type": "execute_result"
    }
   ],
   "source": [
    "np.array([[1,2,3,4]]).T"
   ]
  },
  {
   "cell_type": "code",
   "execution_count": null,
   "metadata": {},
   "outputs": [],
   "source": []
  },
  {
   "cell_type": "code",
   "execution_count": null,
   "metadata": {},
   "outputs": [],
   "source": []
  },
  {
   "cell_type": "code",
   "execution_count": null,
   "metadata": {},
   "outputs": [],
   "source": []
  },
  {
   "cell_type": "code",
   "execution_count": 57,
   "metadata": {},
   "outputs": [],
   "source": [
    "ar =  np.ones((3,3))"
   ]
  },
  {
   "cell_type": "code",
   "execution_count": 59,
   "metadata": {},
   "outputs": [],
   "source": [
    "ar2 = np.vstack((ar, np.array([2,2,2])))"
   ]
  },
  {
   "cell_type": "code",
   "execution_count": 72,
   "metadata": {},
   "outputs": [],
   "source": [
    "add_col = np.array([[3,3,3,3]]).T"
   ]
  },
  {
   "cell_type": "code",
   "execution_count": 73,
   "metadata": {},
   "outputs": [
    {
     "name": "stdout",
     "output_type": "stream",
     "text": [
      "(4, 3) (4, 1)\n"
     ]
    }
   ],
   "source": [
    "print(ar2.shape, add_col.shape)"
   ]
  },
  {
   "cell_type": "code",
   "execution_count": 77,
   "metadata": {},
   "outputs": [],
   "source": [
    "ar3 = np.hstack((ar2, add_col))"
   ]
  },
  {
   "cell_type": "code",
   "execution_count": 79,
   "metadata": {
    "scrolled": true
   },
   "outputs": [
    {
     "data": {
      "text/plain": [
       "array([[1., 1., 1., 3.],\n",
       "       [1., 1., 1., 3.],\n",
       "       [1., 1., 1., 3.],\n",
       "       [2., 2., 2., 3.]])"
      ]
     },
     "execution_count": 79,
     "metadata": {},
     "output_type": "execute_result"
    }
   ],
   "source": [
    "np.concatenate((ar2, add_col), axis=1)"
   ]
  },
  {
   "cell_type": "code",
   "execution_count": 83,
   "metadata": {},
   "outputs": [],
   "source": [
    "arr = np.arange(1,49).reshape(3,4,4)"
   ]
  },
  {
   "cell_type": "code",
   "execution_count": 121,
   "metadata": {
    "scrolled": true
   },
   "outputs": [
    {
     "data": {
      "text/plain": [
       "array([[[ 1,  2,  3,  4],\n",
       "        [ 5,  6,  7,  8],\n",
       "        [ 9, 10, 11, 12],\n",
       "        [13, 14, 15, 16]],\n",
       "\n",
       "       [[17, 18, 19, 20],\n",
       "        [21, 22, 23, 24],\n",
       "        [25, 26, 27, 28],\n",
       "        [29, 30, 31, 32]],\n",
       "\n",
       "       [[33, 34, 35, 36],\n",
       "        [37, 38, 39, 40],\n",
       "        [41, 42, 43, 44],\n",
       "        [45, 46, 47, 48]]])"
      ]
     },
     "execution_count": 121,
     "metadata": {},
     "output_type": "execute_result"
    }
   ],
   "source": [
    "arr"
   ]
  },
  {
   "cell_type": "code",
   "execution_count": 85,
   "metadata": {},
   "outputs": [
    {
     "data": {
      "text/plain": [
       "array([ 9, 10, 11, 12])"
      ]
     },
     "execution_count": 85,
     "metadata": {},
     "output_type": "execute_result"
    }
   ],
   "source": [
    "arr[0,2,:]"
   ]
  },
  {
   "cell_type": "code",
   "execution_count": 86,
   "metadata": {},
   "outputs": [
    {
     "data": {
      "text/plain": [
       "array([[33, 34, 35, 36],\n",
       "       [37, 38, 39, 40],\n",
       "       [41, 42, 43, 44],\n",
       "       [45, 46, 47, 48]])"
      ]
     },
     "execution_count": 86,
     "metadata": {},
     "output_type": "execute_result"
    }
   ],
   "source": [
    "arr[-1,:,:]"
   ]
  },
  {
   "cell_type": "code",
   "execution_count": 87,
   "metadata": {},
   "outputs": [
    {
     "data": {
      "text/plain": [
       "array([[ 5,  6],\n",
       "       [21, 22],\n",
       "       [37, 38]])"
      ]
     },
     "execution_count": 87,
     "metadata": {},
     "output_type": "execute_result"
    }
   ],
   "source": [
    "arr[:,1,0:2]"
   ]
  },
  {
   "cell_type": "code",
   "execution_count": 100,
   "metadata": {},
   "outputs": [
    {
     "data": {
      "text/plain": [
       "array([[36, 35],\n",
       "       [40, 39],\n",
       "       [44, 43],\n",
       "       [48, 47]])"
      ]
     },
     "execution_count": 100,
     "metadata": {},
     "output_type": "execute_result"
    }
   ],
   "source": [
    "arr[2,:,-1:-3:-1]"
   ]
  },
  {
   "cell_type": "code",
   "execution_count": 102,
   "metadata": {},
   "outputs": [
    {
     "data": {
      "text/plain": [
       "array([[13,  9,  5,  1],\n",
       "       [29, 25, 21, 17],\n",
       "       [45, 41, 37, 33]])"
      ]
     },
     "execution_count": 102,
     "metadata": {},
     "output_type": "execute_result"
    }
   ],
   "source": [
    "arr[:,::-1,0]"
   ]
  },
  {
   "cell_type": "code",
   "execution_count": 130,
   "metadata": {},
   "outputs": [
    {
     "data": {
      "text/plain": [
       "array([ 1, 17, 33])"
      ]
     },
     "execution_count": 130,
     "metadata": {},
     "output_type": "execute_result"
    }
   ],
   "source": [
    "arr.min(axis=(1,2,))"
   ]
  },
  {
   "cell_type": "code",
   "execution_count": 103,
   "metadata": {},
   "outputs": [],
   "source": [
    "years = np.array([1900,1904,1990,1993,2000,2014,2016,2100])"
   ]
  },
  {
   "cell_type": "code",
   "execution_count": 120,
   "metadata": {},
   "outputs": [
    {
     "data": {
      "text/plain": [
       "array([1904, 2000, 2016])"
      ]
     },
     "execution_count": 120,
     "metadata": {},
     "output_type": "execute_result"
    }
   ],
   "source": [
    "years[((years % 4 == 0) & (years % 100 != 0)) | ((years % 4 == 0) & (years % 400 == 0))]"
   ]
  },
  {
   "cell_type": "code",
   "execution_count": 142,
   "metadata": {},
   "outputs": [],
   "source": [
    "matrix = np.concatenate((np.linspace(100,190,10, dtype=int).reshape(2,5),\n",
    "                         np.linspace(10,19,10, dtype=int).reshape(2,5),\n",
    "                         np.linspace(0,9,10, dtype=int).reshape(2,5))).reshape(3,2,5)"
   ]
  },
  {
   "cell_type": "code",
   "execution_count": 143,
   "metadata": {},
   "outputs": [
    {
     "data": {
      "text/plain": [
       "array([[[100, 110, 120, 130, 140],\n",
       "        [150, 160, 170, 180, 190]],\n",
       "\n",
       "       [[ 10,  11,  12,  13,  14],\n",
       "        [ 15,  16,  17,  18,  19]],\n",
       "\n",
       "       [[  0,   1,   2,   3,   4],\n",
       "        [  5,   6,   7,   8,   9]]])"
      ]
     },
     "execution_count": 143,
     "metadata": {},
     "output_type": "execute_result"
    }
   ],
   "source": [
    "matrix"
   ]
  },
  {
   "cell_type": "code",
   "execution_count": 187,
   "metadata": {
    "scrolled": true
   },
   "outputs": [
    {
     "data": {
      "text/plain": [
       "array([[[70, 22, 68, 78, 27, 30],\n",
       "        [36, 80, 11, 39, 88, 66],\n",
       "        [90, 66, 67, 86, 91, 33],\n",
       "        [56, 57, 46, 32, 55, 24],\n",
       "        [16, 21, 48, 18, 30, 72]],\n",
       "\n",
       "       [[21, 58, 50, 83, 55, 51],\n",
       "        [61, 35, 23, 96, 64, 87],\n",
       "        [30, 43, 40, 42, 28, 56],\n",
       "        [57, 71, 34, 26, 96, 15],\n",
       "        [47, 63, 41, 98, 48, 12]]])"
      ]
     },
     "execution_count": 187,
     "metadata": {},
     "output_type": "execute_result"
    }
   ],
   "source": [
    "a = np.random.randint(10,99,60).reshape(2,5,6)\n",
    "a"
   ]
  },
  {
   "cell_type": "code",
   "execution_count": 198,
   "metadata": {},
   "outputs": [
    {
     "data": {
      "text/plain": [
       "array([[[22, 27, 30, 68, 70, 78],\n",
       "        [11, 36, 39, 66, 80, 88],\n",
       "        [33, 66, 67, 86, 90, 91],\n",
       "        [24, 32, 46, 55, 56, 57],\n",
       "        [16, 18, 21, 30, 48, 72]],\n",
       "\n",
       "       [[21, 50, 51, 55, 58, 83],\n",
       "        [23, 35, 61, 64, 87, 96],\n",
       "        [28, 30, 40, 42, 43, 56],\n",
       "        [15, 26, 34, 57, 71, 96],\n",
       "        [12, 41, 47, 48, 63, 98]]])"
      ]
     },
     "execution_count": 198,
     "metadata": {},
     "output_type": "execute_result"
    }
   ],
   "source": [
    "b = a.copy()\n",
    "b.sort(axis = 2)\n",
    "b"
   ]
  },
  {
   "cell_type": "code",
   "execution_count": 199,
   "metadata": {},
   "outputs": [
    {
     "data": {
      "text/plain": [
       "array([[[22, 27, 30, 68, 70, 78],\n",
       "        [11, 36, 39, 66, 80, 88],\n",
       "        [33, 66, 67, 86, 90, 91],\n",
       "        [24, 32, 46, 55, 56, 57],\n",
       "        [16, 18, 21, 30, 48, 72]],\n",
       "\n",
       "       [[21, 50, 51, 55, 58, 83],\n",
       "        [23, 35, 61, 64, 87, 96],\n",
       "        [28, 30, 40, 42, 43, 56],\n",
       "        [15, 26, 34, 57, 71, 96],\n",
       "        [12, 41, 47, 48, 63, 98]]])"
      ]
     },
     "execution_count": 199,
     "metadata": {},
     "output_type": "execute_result"
    }
   ],
   "source": [
    "b = a.copy()\n",
    "b.sort(axis = -1)\n",
    "b"
   ]
  },
  {
   "cell_type": "code",
   "execution_count": 181,
   "metadata": {
    "scrolled": true
   },
   "outputs": [
    {
     "name": "stdout",
     "output_type": "stream",
     "text": [
      "46\n"
     ]
    }
   ],
   "source": [
    "print(a[abs(a-v).argmin()])"
   ]
  },
  {
   "cell_type": "code",
   "execution_count": 208,
   "metadata": {},
   "outputs": [
    {
     "data": {
      "text/plain": [
       "array([[3, 1, 8, 4, 2],\n",
       "       [4, 6, 8, 8, 7],\n",
       "       [3, 3, 5, 7, 4],\n",
       "       [3, 5, 7, 4, 9],\n",
       "       [4, 7, 6, 9, 7]])"
      ]
     },
     "execution_count": 208,
     "metadata": {},
     "output_type": "execute_result"
    }
   ],
   "source": [
    "arr50 = np.random.randint(1,10, 25).reshape(5,5)\n",
    "arr50"
   ]
  },
  {
   "cell_type": "code",
   "execution_count": 210,
   "metadata": {
    "scrolled": true
   },
   "outputs": [
    {
     "data": {
      "text/plain": [
       "array([[3, 3, 5, 7, 4],\n",
       "       [4, 7, 6, 9, 7],\n",
       "       [3, 5, 7, 4, 9],\n",
       "       [3, 1, 8, 4, 2],\n",
       "       [4, 6, 8, 8, 7]])"
      ]
     },
     "execution_count": 210,
     "metadata": {},
     "output_type": "execute_result"
    }
   ],
   "source": [
    "arr50[arr50[:,2].argsort()]"
   ]
  },
  {
   "cell_type": "code",
   "execution_count": 223,
   "metadata": {},
   "outputs": [
    {
     "data": {
      "text/plain": [
       "array([False,  True,  True, False, False])"
      ]
     },
     "execution_count": 223,
     "metadata": {},
     "output_type": "execute_result"
    }
   ],
   "source": [
    "np.any(arr50 == 5, axis=0)"
   ]
  },
  {
   "cell_type": "code",
   "execution_count": null,
   "metadata": {},
   "outputs": [],
   "source": []
  },
  {
   "cell_type": "code",
   "execution_count": 224,
   "metadata": {},
   "outputs": [
    {
     "data": {
      "text/plain": [
       "array([(0, 0., 0.+0.j), (0, 0., 0.+0.j), (0, 0., 0.+0.j), (0, 0., 0.+0.j),\n",
       "       (0, 0., 0.+0.j)],\n",
       "      dtype=[('f0', 'i1'), ('f1', '<f4'), ('f2', '<c16')])"
      ]
     },
     "execution_count": 224,
     "metadata": {},
     "output_type": "execute_result"
    }
   ],
   "source": [
    "a = np.zeros(5, dtype='int8, float32, complex')\n",
    "a"
   ]
  },
  {
   "cell_type": "code",
   "execution_count": 227,
   "metadata": {},
   "outputs": [
    {
     "data": {
      "text/plain": [
       "array([(0., 0), (0., 0), (0., 0), (0., 0), (0., 0)],\n",
       "      dtype=[('time', '<f8'), ('signal', '<i4')])"
      ]
     },
     "execution_count": 227,
     "metadata": {},
     "output_type": "execute_result"
    }
   ],
   "source": [
    "dt = np.dtype([('time','f8'),('signal','i4')])\n",
    "b = np.zeros(5, dtype=dt)\n",
    "b"
   ]
  },
  {
   "cell_type": "code",
   "execution_count": 229,
   "metadata": {},
   "outputs": [
    {
     "name": "stdout",
     "output_type": "stream",
     "text": [
      "[8. 7. 8. 9. 9.]\n"
     ]
    }
   ],
   "source": [
    "b['time'] = np.random.randint(5,14,5)\n",
    "print(b['time'])"
   ]
  },
  {
   "cell_type": "code",
   "execution_count": 231,
   "metadata": {},
   "outputs": [
    {
     "data": {
      "text/plain": [
       "8.2"
      ]
     },
     "execution_count": 231,
     "metadata": {},
     "output_type": "execute_result"
    }
   ],
   "source": [
    "b['time'].mean()"
   ]
  },
  {
   "cell_type": "markdown",
   "metadata": {},
   "source": [
    "# Structured arrays"
   ]
  },
  {
   "cell_type": "code",
   "execution_count": 292,
   "metadata": {},
   "outputs": [],
   "source": [
    "data = \"\"\"Bowhead whale 9000 60\n",
    "Blue whale 20000 120\n",
    "Fin whale 100000 70\n",
    "Pacific white-sided dolphin 1000000 0.15\n",
    "Killer whale 100000 4.5\n",
    "Sperm whale 2000000 50\n",
    "North Atlantic right whale 300 75\n",
    "Southern right whale 7000 70\"\"\""
   ]
  },
  {
   "cell_type": "code",
   "execution_count": 300,
   "metadata": {
    "scrolled": false
   },
   "outputs": [
    {
     "data": {
      "text/plain": [
       "array([],\n",
       "      dtype=[('Name', '<U30'), ('Population', '<i4'), ('Mass/tonnes', '<f4')])"
      ]
     },
     "execution_count": 300,
     "metadata": {},
     "output_type": "execute_result"
    }
   ],
   "source": [
    "dt = np.dtype([('Name','U30'),('Population','int32'),('Mass/tonnes', 'float32')])\n",
    "ex57 = np.zeros(0, dtype=dt)\n",
    "ex57"
   ]
  },
  {
   "cell_type": "code",
   "execution_count": 301,
   "metadata": {},
   "outputs": [
    {
     "name": "stdout",
     "output_type": "stream",
     "text": [
      "[('Bowhead whale', 9000, 60.)]\n",
      "[('Blue whale', 20000, 120.)]\n",
      "[('Fin whale', 100000, 70.)]\n",
      "[('Pacific white-sided dolphin', 1000000, 0.15)]\n",
      "[('Killer whale', 100000, 4.5)]\n",
      "[('Sperm whale', 2000000, 50.)]\n",
      "[('North Atlantic right whale', 300, 75.)]\n",
      "[('Southern right whale', 7000, 70.)]\n"
     ]
    }
   ],
   "source": [
    "for i, line in enumerate(data.split('\\n')):\n",
    "    list_of_data = line.strip().split()\n",
    "\n",
    "    mass = float(list_of_data[-1])\n",
    "    population = float(list_of_data[-2])\n",
    "    name = ' '.join(list_of_data[:-2])\n",
    "    print(np.array([(name, population, mass)], dtype=dt))\n",
    "    ex57 = np.append(ex57, np.array([(name, population, mass)], dtype=dt))"
   ]
  },
  {
   "cell_type": "code",
   "execution_count": 302,
   "metadata": {},
   "outputs": [
    {
     "data": {
      "text/plain": [
       "array([('Bowhead whale',    9000,  60.  ),\n",
       "       ('Blue whale',   20000, 120.  ), ('Fin whale',  100000,  70.  ),\n",
       "       ('Pacific white-sided dolphin', 1000000,   0.15),\n",
       "       ('Killer whale',  100000,   4.5 ),\n",
       "       ('Sperm whale', 2000000,  50.  ),\n",
       "       ('North Atlantic right whale',     300,  75.  ),\n",
       "       ('Southern right whale',    7000,  70.  )],\n",
       "      dtype=[('Name', '<U30'), ('Population', '<i4'), ('Mass/tonnes', '<f4')])"
      ]
     },
     "execution_count": 302,
     "metadata": {},
     "output_type": "execute_result"
    }
   ],
   "source": [
    "ex57"
   ]
  },
  {
   "cell_type": "code",
   "execution_count": 303,
   "metadata": {},
   "outputs": [
    {
     "data": {
      "text/plain": [
       "array([('Pacific white-sided dolphin', 1000000,   0.15),\n",
       "       ('Killer whale',  100000,   4.5 ),\n",
       "       ('Sperm whale', 2000000,  50.  ),\n",
       "       ('Bowhead whale',    9000,  60.  ), ('Fin whale',  100000,  70.  ),\n",
       "       ('Southern right whale',    7000,  70.  ),\n",
       "       ('North Atlantic right whale',     300,  75.  ),\n",
       "       ('Blue whale',   20000, 120.  )],\n",
       "      dtype=[('Name', '<U30'), ('Population', '<i4'), ('Mass/tonnes', '<f4')])"
      ]
     },
     "execution_count": 303,
     "metadata": {},
     "output_type": "execute_result"
    }
   ],
   "source": [
    "ex57.sort(order=['Mass/tonnes'])\n",
    "ex57"
   ]
  },
  {
   "cell_type": "code",
   "execution_count": 308,
   "metadata": {},
   "outputs": [
    {
     "data": {
      "text/plain": [
       "array([('North Atlantic right whale',     300,  75.  ),\n",
       "       ('Southern right whale',    7000,  70.  ),\n",
       "       ('Bowhead whale',    9000,  60.  ),\n",
       "       ('Blue whale',   20000, 120.  ), ('Fin whale',  100000,  70.  ),\n",
       "       ('Killer whale',  100000,   4.5 ),\n",
       "       ('Pacific white-sided dolphin', 1000000,   0.15),\n",
       "       ('Sperm whale', 2000000,  50.  )],\n",
       "      dtype=[('Name', '<U30'), ('Population', '<i4'), ('Mass/tonnes', '<f4')])"
      ]
     },
     "execution_count": 308,
     "metadata": {},
     "output_type": "execute_result"
    }
   ],
   "source": [
    "ex57.sort(order=['Population'])\n",
    "ex57"
   ]
  },
  {
   "cell_type": "code",
   "execution_count": 310,
   "metadata": {},
   "outputs": [
    {
     "data": {
      "text/plain": [
       "4"
      ]
     },
     "execution_count": 310,
     "metadata": {},
     "output_type": "execute_result"
    }
   ],
   "source": [
    "np.searchsorted(ex57['Population'], 100000)"
   ]
  },
  {
   "cell_type": "code",
   "execution_count": 305,
   "metadata": {},
   "outputs": [
    {
     "data": {
      "text/plain": [
       "array([('Pacific white-sided dolphin', 1000000,   0.15),\n",
       "       ('Killer whale',  100000,   4.5 ),\n",
       "       ('Sperm whale', 2000000,  50.  ),\n",
       "       ('Bowhead whale',    9000,  60.  ),\n",
       "       ('Southern right whale',    7000,  70.  ),\n",
       "       ('Fin whale',  100000,  70.  ),\n",
       "       ('North Atlantic right whale',     300,  75.  ),\n",
       "       ('Blue whale',   20000, 120.  )],\n",
       "      dtype=[('Name', '<U30'), ('Population', '<i4'), ('Mass/tonnes', '<f4')])"
      ]
     },
     "execution_count": 305,
     "metadata": {},
     "output_type": "execute_result"
    }
   ],
   "source": [
    "ex57.sort(order=['Mass/tonnes','Population'])\n",
    "ex57"
   ]
  },
  {
   "cell_type": "code",
   "execution_count": 307,
   "metadata": {
    "scrolled": true
   },
   "outputs": [
    {
     "data": {
      "text/plain": [
       "8"
      ]
     },
     "execution_count": 307,
     "metadata": {},
     "output_type": "execute_result"
    }
   ],
   "source": [
    "np.searchsorted(ex57['Mass/tonnes'], 100000)"
   ]
  },
  {
   "cell_type": "code",
   "execution_count": 311,
   "metadata": {},
   "outputs": [
    {
     "name": "stdout",
     "output_type": "stream",
     "text": [
      " Volume in drive D is Documents\n",
      " Volume Serial Number is 8DBE-F730\n",
      "\n",
      " Directory of D:\\Projects\\ExperisAcademy\\Exercises\n",
      "\n",
      "04.12.2019  15:33    <DIR>          .\n",
      "04.12.2019  15:33    <DIR>          ..\n",
      "04.12.2019  09:01    <DIR>          .ipynb_checkpoints\n",
      "27.11.2019  09:13    <DIR>          Adventure_game\n",
      "04.12.2019  15:33            32,254 Basic Array Creation.ipynb\n",
      "20.11.2019  11:58             7,564 BrainFuck_algorithm.ipynb\n",
      "03.12.2019  09:11    <DIR>          Classes\n",
      "26.11.2019  14:37    <DIR>          IO\n",
      "01.12.2019  15:54    <DIR>          MP_Library\n",
      "04.12.2019  13:52    <DIR>          OOP\n",
      "01.12.2019  10:30    <DIR>          OS\n",
      "26.11.2019  11:31    <DIR>          Project_Gutenberg\n",
      "26.11.2019  16:30    <DIR>          Try-Except\n",
      "24.11.2019  16:48             6,762 Untitled.ipynb\n",
      "25.11.2019  16:50             4,572 Untitled1.ipynb\n",
      "               4 File(s)         51,152 bytes\n",
      "              11 Dir(s)  41,978,736,640 bytes free\n"
     ]
    }
   ],
   "source": [
    "!dir"
   ]
  },
  {
   "cell_type": "code",
   "execution_count": 314,
   "metadata": {},
   "outputs": [
    {
     "name": "stdout",
     "output_type": "stream",
     "text": [
      "{\n",
      " \"cells\": [\n",
      "  {\n",
      "   \"cell_type\": \"code\",\n",
      "   \"execution_count\": 277,\n",
      "   \"metadata\": {},\n",
      "   \"outputs\": [],\n",
      "   \"source\": [\n",
      "    \"def chess_board(N: int, queen_positions:list = []):\\n\",\n",
      "    \"    \\n\",\n",
      "    \"    # Draw a board:\\n\",\n",
      "    \"    board = [(x, y) for x in range(N) for y in range(N)]\\n\",\n",
      "    \"    \\n\",\n",
      "    \"    # Delete unsutable cells:\\n\",\n",
      "    \"    for queen_x, queen_y in queen_positions:\\n\",\n",
      "    \"        # Delete vertical lines:\\n\",\n",
      "    \"        [board.remove((queen_x, y)) for y in range(N)]\\n\",\n",
      "    \"        \\n\",\n",
      "    \"        # Delete horizontal lines:\\n\",\n",
      "    \"        [board.remove((x, queen_y)) for x in range(N)]\\n\",\n",
      "    \"        \\n\",\n",
      "    \"        # Delete first diagonals:\\n\",\n",
      "    \"        [board.remove((x, x - queen_y)) for x in range(N) if (x, x - queen_y) in board]\\n\",\n",
      "    \"        [board.remove((x, x + queen_y)) for x in range(N) if (x, x + queen_y) in board]\\n\",\n",
      "    \"        [board.remove((y, y - queen_x)) for y in range(N) if (y, y - queen_x) in board]\\n\",\n",
      "    \"        [board.remove((y, y + queen_x)) for y in range(N) if (y + queen_x in range(8))]        \\n\",\n",
      "    \"    \\n\",\n",
      "    \"    # If there is no empty cell left - return empty list:\\n\",\n",
      "    \"    if not board:\\n\",\n",
      "    \"        return []\\n\",\n",
      "    \"    \\n\",\n",
      "    \"    # Iterate over empty lists and apply recursion:\\n\",\n",
      "    \"    for empty_cell in board:\\n\",\n",
      "    \"        queen_positions.append(empty_cell)\\n\",\n",
      "    \"        for solution in chess_board(N, queen_positions):\\n\",\n",
      "    \"            queen_positions.append(queen_positions + solution)\\n\",\n",
      "    \"    \\n\",\n",
      "    \"    return queen_positions\"\n",
      "   ]\n",
      "  },\n",
      "  {\n",
      "   \"cell_type\": \"code\",\n",
      "   \"execution_count\": 278,\n",
      "   \"metadata\": {\n",
      "    \"scrolled\": true\n",
      "   },\n",
      "   \"outputs\": [\n",
      "    {\n",
      "     \"ename\": \"ValueError\",\n",
      "     \"evalue\": \"list.remove(x): x not in list\",\n",
      "     \"output_type\": \"error\",\n",
      "     \"traceback\": [\n",
      "      \"\\u001b[1;31m---------------------------------------------------------------------------\\u001b[0m\",\n",
      "      \"\\u001b[1;31mValueError\\u001b[0m                                Traceback (most recent call last)\",\n",
      "      \"\\u001b[1;32m<ipython-input-278-2bb5e836fe1e>\\u001b[0m in \\u001b[0;36m<module>\\u001b[1;34m\\u001b[0m\\n\\u001b[1;32m----> 1\\u001b[1;33m \\u001b[0mchess_board\\u001b[0m\\u001b[1;33m(\\u001b[0m\\u001b[1;36m4\\u001b[0m\\u001b[1;33m)\\u001b[0m\\u001b[1;33m\\u001b[0m\\u001b[1;33m\\u001b[0m\\u001b[0m\\n\\u001b[0m\",\n",
      "      \"\\u001b[1;32m<ipython-input-277-6767e723af24>\\u001b[0m in \\u001b[0;36mchess_board\\u001b[1;34m(N, queen_positions)\\u001b[0m\\n\\u001b[0;32m     25\\u001b[0m     \\u001b[1;32mfor\\u001b[0m \\u001b[0mempty_cell\\u001b[0m \\u001b[1;32min\\u001b[0m \\u001b[0mboard\\u001b[0m\\u001b[1;33m:\\u001b[0m\\u001b[1;33m\\u001b[0m\\u001b[1;33m\\u001b[0m\\u001b[0m\\n\\u001b[0;32m     26\\u001b[0m         \\u001b[0mqueen_positions\\u001b[0m\\u001b[1;33m.\\u001b[0m\\u001b[0mappend\\u001b[0m\\u001b[1;33m(\\u001b[0m\\u001b[0mempty_cell\\u001b[0m\\u001b[1;33m)\\u001b[0m\\u001b[1;33m\\u001b[0m\\u001b[1;33m\\u001b[0m\\u001b[0m\\n\\u001b[1;32m---> 27\\u001b[1;33m         \\u001b[1;32mfor\\u001b[0m \\u001b[0msolution\\u001b[0m \\u001b[1;32min\\u001b[0m \\u001b[0mchess_board\\u001b[0m\\u001b[1;33m(\\u001b[0m\\u001b[0mN\\u001b[0m\\u001b[1;33m,\\u001b[0m \\u001b[0mqueen_positions\\u001b[0m\\u001b[1;33m)\\u001b[0m\\u001b[1;33m:\\u001b[0m\\u001b[1;33m\\u001b[0m\\u001b[1;33m\\u001b[0m\\u001b[0m\\n\\u001b[0m\\u001b[0;32m     28\\u001b[0m             \\u001b[0mqueen_positions\\u001b[0m\\u001b[1;33m.\\u001b[0m\\u001b[0mappend\\u001b[0m\\u001b[1;33m(\\u001b[0m\\u001b[0mqueen_positions\\u001b[0m \\u001b[1;33m+\\u001b[0m \\u001b[0msolution\\u001b[0m\\u001b[1;33m)\\u001b[0m\\u001b[1;33m\\u001b[0m\\u001b[1;33m\\u001b[0m\\u001b[0m\\n\\u001b[0;32m     29\\u001b[0m \\u001b[1;33m\\u001b[0m\\u001b[0m\\n\",\n",
      "      \"\\u001b[1;32m<ipython-input-277-6767e723af24>\\u001b[0m in \\u001b[0;36mchess_board\\u001b[1;34m(N, queen_positions)\\u001b[0m\\n\\u001b[0;32m     10\\u001b[0m \\u001b[1;33m\\u001b[0m\\u001b[0m\\n\\u001b[0;32m     11\\u001b[0m         \\u001b[1;31m# Delete horizontal lines:\\u001b[0m\\u001b[1;33m\\u001b[0m\\u001b[1;33m\\u001b[0m\\u001b[1;33m\\u001b[0m\\u001b[0m\\n\\u001b[1;32m---> 12\\u001b[1;33m         \\u001b[1;33m[\\u001b[0m\\u001b[0mboard\\u001b[0m\\u001b[1;33m.\\u001b[0m\\u001b[0mremove\\u001b[0m\\u001b[1;33m(\\u001b[0m\\u001b[1;33m(\\u001b[0m\\u001b[0mx\\u001b[0m\\u001b[1;33m,\\u001b[0m \\u001b[0mqueen_y\\u001b[0m\\u001b[1;33m)\\u001b[0m\\u001b[1;33m)\\u001b[0m \\u001b[1;32mfor\\u001b[0m \\u001b[0mx\\u001b[0m \\u001b[1;32min\\u001b[0m \\u001b[0mrange\\u001b[0m\\u001b[1;33m(\\u001b[0m\\u001b[0mN\\u001b[0m\\u001b[1;33m)\\u001b[0m\\u001b[1;33m]\\u001b[0m\\u001b[1;33m\\u001b[0m\\u001b[1;33m\\u001b[0m\\u001b[0m\\n\\u001b[0m\\u001b[0;32m     13\\u001b[0m \\u001b[1;33m\\u001b[0m\\u001b[0m\\n\\u001b[0;32m     14\\u001b[0m         \\u001b[1;31m# Delete first diagonals:\\u001b[0m\\u001b[1;33m\\u001b[0m\\u001b[1;33m\\u001b[0m\\u001b[1;33m\\u001b[0m\\u001b[0m\\n\",\n",
      "      \"\\u001b[1;32m<ipython-input-277-6767e723af24>\\u001b[0m in \\u001b[0;36m<listcomp>\\u001b[1;34m(.0)\\u001b[0m\\n\\u001b[0;32m     10\\u001b[0m \\u001b[1;33m\\u001b[0m\\u001b[0m\\n\\u001b[0;32m     11\\u001b[0m         \\u001b[1;31m# Delete horizontal lines:\\u001b[0m\\u001b[1;33m\\u001b[0m\\u001b[1;33m\\u001b[0m\\u001b[1;33m\\u001b[0m\\u001b[0m\\n\\u001b[1;32m---> 12\\u001b[1;33m         \\u001b[1;33m[\\u001b[0m\\u001b[0mboard\\u001b[0m\\u001b[1;33m.\\u001b[0m\\u001b[0mremove\\u001b[0m\\u001b[1;33m(\\u001b[0m\\u001b[1;33m(\\u001b[0m\\u001b[0mx\\u001b[0m\\u001b[1;33m,\\u001b[0m \\u001b[0mqueen_y\\u001b[0m\\u001b[1;33m)\\u001b[0m\\u001b[1;33m)\\u001b[0m \\u001b[1;32mfor\\u001b[0m \\u001b[0mx\\u001b[0m \\u001b[1;32min\\u001b[0m \\u001b[0mrange\\u001b[0m\\u001b[1;33m(\\u001b[0m\\u001b[0mN\\u001b[0m\\u001b[1;33m)\\u001b[0m\\u001b[1;33m]\\u001b[0m\\u001b[1;33m\\u001b[0m\\u001b[1;33m\\u001b[0m\\u001b[0m\\n\\u001b[0m\\u001b[0;32m     13\\u001b[0m \\u001b[1;33m\\u001b[0m\\u001b[0m\\n\\u001b[0;32m     14\\u001b[0m         \\u001b[1;31m# Delete first diagonals:\\u001b[0m\\u001b[1;33m\\u001b[0m\\u001b[1;33m\\u001b[0m\\u001b[1;33m\\u001b[0m\\u001b[0m\\n\",\n",
      "      \"\\u001b[1;31mValueError\\u001b[0m: list.remove(x): x not in list\"\n",
      "     ]\n",
      "    }\n",
      "   ],\n",
      "   \"source\": [\n",
      "    \"chess_board(4)\"\n",
      "   ]\n",
      "  },\n",
      "  {\n",
      "   \"cell_type\": \"code\",\n",
      "   \"execution_count\": 275,\n",
      "   \"metadata\": {},\n",
      "   \"outputs\": [\n",
      "    {\n",
      "     \"data\": {\n",
      "      \"text/plain\": [\n",
      "       \"[(1, 0), (1, 1), (1, 2), (2, 0), (2, 1), (2, 2)]\"\n",
      "      ]\n",
      "     },\n",
      "     \"execution_count\": 275,\n",
      "     \"metadata\": {},\n",
      "     \"output_type\": \"execute_result\"\n",
      "    }\n",
      "   ],\n",
      "   \"source\": [\n",
      "    \"[board.remove((0, i)) for i in range(3)]\\n\",\n",
      "    \"board\"\n",
      "   ]\n",
      "  }\n",
      " ],\n",
      " \"metadata\": {\n",
      "  \"kernelspec\": {\n",
      "   \"display_name\": \"Python 3\",\n",
      "   \"language\": \"python\",\n",
      "   \"name\": \"python3\"\n",
      "  },\n",
      "  \"language_info\": {\n",
      "   \"codemirror_mode\": {\n",
      "    \"name\": \"ipython\",\n",
      "    \"version\": 3\n",
      "   },\n",
      "   \"file_extension\": \".py\",\n",
      "   \"mimetype\": \"text/x-python\",\n",
      "   \"name\": \"python\",\n",
      "   \"nbconvert_exporter\": \"python\",\n",
      "   \"pygments_lexer\": \"ipython3\",\n",
      "   \"version\": \"3.7.3\"\n",
      "  }\n",
      " },\n",
      " \"nbformat\": 4,\n",
      " \"nbformat_minor\": 2\n",
      "}\n"
     ]
    }
   ],
   "source": [
    "!type Untitled.ipynb"
   ]
  },
  {
   "cell_type": "code",
   "execution_count": 317,
   "metadata": {
    "scrolled": false
   },
   "outputs": [
    {
     "name": "stdout",
     "output_type": "stream",
     "text": [
      "For more information on a specific command, type HELP command-name\n",
      "ASSOC          Displays or modifies file extension associations.\n",
      "ATTRIB         Displays or changes file attributes.\n",
      "BREAK          Sets or clears extended CTRL+C checking.\n",
      "BCDEDIT        Sets properties in boot database to control boot loading.\n",
      "CACLS          Displays or modifies access control lists (ACLs) of files.\n",
      "CALL           Calls one batch program from another.\n",
      "CD             Displays the name of or changes the current directory.\n",
      "CHCP           Displays or sets the active code page number.\n",
      "CHDIR          Displays the name of or changes the current directory.\n",
      "CHKDSK         Checks a disk and displays a status report.\n",
      "CHKNTFS        Displays or modifies the checking of disk at boot time.\n",
      "CLS            Clears the screen.\n",
      "CMD            Starts a new instance of the Windows command interpreter.\n",
      "COLOR          Sets the default console foreground and background colors.\n",
      "COMP           Compares the contents of two files or sets of files.\n",
      "COMPACT        Displays or alters the compression of files on NTFS partitions.\n",
      "CONVERT        Converts FAT volumes to NTFS.  You cannot convert the\n",
      "               current drive.\n",
      "COPY           Copies one or more files to another location.\n",
      "DATE           Displays or sets the date.\n",
      "DEL            Deletes one or more files.\n",
      "DIR            Displays a list of files and subdirectories in a directory.\n",
      "DISKPART       Displays or configures Disk Partition properties.\n",
      "DOSKEY         Edits command lines, recalls Windows commands, and \n",
      "               creates macros.\n",
      "DRIVERQUERY    Displays current device driver status and properties.\n",
      "ECHO           Displays messages, or turns command echoing on or off.\n",
      "ENDLOCAL       Ends localization of environment changes in a batch file.\n",
      "ERASE          Deletes one or more files.\n",
      "EXIT           Quits the CMD.EXE program (command interpreter).\n",
      "FC             Compares two files or sets of files, and displays the \n",
      "               differences between them.\n",
      "FIND           Searches for a text string in a file or files.\n",
      "FINDSTR        Searches for strings in files.\n",
      "FOR            Runs a specified command for each file in a set of files.\n",
      "FORMAT         Formats a disk for use with Windows.\n",
      "FSUTIL         Displays or configures the file system properties.\n",
      "FTYPE          Displays or modifies file types used in file extension \n",
      "               associations.\n",
      "GOTO           Directs the Windows command interpreter to a labeled line in \n",
      "               a batch program.\n",
      "GPRESULT       Displays Group Policy information for machine or user.\n",
      "GRAFTABL       Enables Windows to display an extended character set in \n",
      "               graphics mode.\n",
      "HELP           Provides Help information for Windows commands.\n",
      "ICACLS         Display, modify, backup, or restore ACLs for files and \n",
      "               directories.\n",
      "IF             Performs conditional processing in batch programs.\n",
      "LABEL          Creates, changes, or deletes the volume label of a disk.\n",
      "MD             Creates a directory.\n",
      "MKDIR          Creates a directory.\n",
      "MKLINK         Creates Symbolic Links and Hard Links\n",
      "MODE           Configures a system device.\n",
      "MORE           Displays output one screen at a time.\n",
      "MOVE           Moves one or more files from one directory to another \n",
      "               directory.\n",
      "OPENFILES      Displays files opened by remote users for a file share.\n",
      "PATH           Displays or sets a search path for executable files.\n",
      "PAUSE          Suspends processing of a batch file and displays a message.\n",
      "POPD           Restores the previous value of the current directory saved by \n",
      "               PUSHD.\n",
      "PRINT          Prints a text file.\n",
      "PROMPT         Changes the Windows command prompt.\n",
      "PUSHD          Saves the current directory then changes it.\n",
      "RD             Removes a directory.\n",
      "RECOVER        Recovers readable information from a bad or defective disk.\n",
      "REM            Records comments (remarks) in batch files or CONFIG.SYS.\n",
      "REN            Renames a file or files.\n",
      "RENAME         Renames a file or files.\n",
      "REPLACE        Replaces files.\n",
      "RMDIR          Removes a directory.\n",
      "ROBOCOPY       Advanced utility to copy files and directory trees\n",
      "SET            Displays, sets, or removes Windows environment variables.\n",
      "SETLOCAL       Begins localization of environment changes in a batch file.\n",
      "SC             Displays or configures services (background processes).\n",
      "SCHTASKS       Schedules commands and programs to run on a computer.\n",
      "SHIFT          Shifts the position of replaceable parameters in batch files.\n",
      "SHUTDOWN       Allows proper local or remote shutdown of machine.\n",
      "SORT           Sorts input.\n",
      "START          Starts a separate window to run a specified program or command.\n",
      "SUBST          Associates a path with a drive letter.\n",
      "SYSTEMINFO     Displays machine specific properties and configuration.\n",
      "TASKLIST       Displays all currently running tasks including services.\n",
      "TASKKILL       Kill or stop a running process or application.\n",
      "TIME           Displays or sets the system time.\n",
      "TITLE          Sets the window title for a CMD.EXE session.\n",
      "TREE           Graphically displays the directory structure of a drive or \n",
      "               path.\n",
      "TYPE           Displays the contents of a text file.\n",
      "VER            Displays the Windows version.\n",
      "VERIFY         Tells Windows whether to verify that your files are written\n",
      "               correctly to a disk.\n",
      "VOL            Displays a disk volume label and serial number.\n",
      "XCOPY          Copies files and directory trees.\n",
      "WMIC           Displays WMI information inside interactive command shell.\n",
      "\n",
      "For more information on tools see the command-line reference in the online help.\n"
     ]
    }
   ],
   "source": [
    "!help"
   ]
  },
  {
   "cell_type": "code",
   "execution_count": 318,
   "metadata": {},
   "outputs": [
    {
     "name": "stdout",
     "output_type": "stream",
     "text": [
      "D:\\Projects\\ExperisAcademy\\Exercises\n"
     ]
    }
   ],
   "source": [
    "!cd"
   ]
  },
  {
   "cell_type": "code",
   "execution_count": 319,
   "metadata": {},
   "outputs": [],
   "source": [
    "!echo This is a test > test.txt"
   ]
  },
  {
   "cell_type": "code",
   "execution_count": 2,
   "metadata": {},
   "outputs": [
    {
     "name": "stdout",
     "output_type": "stream",
     "text": [
      " Volume in drive D is Documents\n",
      " Volume Serial Number is 8DBE-F730\n",
      "\n",
      " Directory of D:\\Projects\\ExperisAcademy\\Exercises\n",
      "\n",
      "04.12.2019  16:35    <DIR>          .\n",
      "04.12.2019  16:35    <DIR>          ..\n",
      "04.12.2019  09:01    <DIR>          .ipynb_checkpoints\n",
      "27.11.2019  09:13    <DIR>          Adventure_game\n",
      "04.12.2019  16:35            53,798 Basic Array Creation.ipynb\n",
      "20.11.2019  11:58             7,564 BrainFuck_algorithm.ipynb\n",
      "03.12.2019  09:11    <DIR>          Classes\n",
      "26.11.2019  14:37    <DIR>          IO\n",
      "01.12.2019  15:54    <DIR>          MP_Library\n",
      "04.12.2019  13:52    <DIR>          OOP\n",
      "01.12.2019  10:30    <DIR>          OS\n",
      "26.11.2019  11:31    <DIR>          Project_Gutenberg\n",
      "04.12.2019  16:27                17 test.txt\n",
      "26.11.2019  16:30    <DIR>          Try-Except\n",
      "24.11.2019  16:48             6,762 Untitled.ipynb\n",
      "25.11.2019  16:50             4,572 Untitled1.ipynb\n",
      "               5 File(s)         72,713 bytes\n",
      "              11 Dir(s)  41,978,712,064 bytes free\n"
     ]
    }
   ],
   "source": [
    "!dir"
   ]
  },
  {
   "cell_type": "code",
   "execution_count": 321,
   "metadata": {},
   "outputs": [
    {
     "name": "stdout",
     "output_type": "stream",
     "text": [
      "This is a test \n"
     ]
    }
   ],
   "source": [
    "!type test.txt"
   ]
  },
  {
   "cell_type": "code",
   "execution_count": 322,
   "metadata": {},
   "outputs": [
    {
     "name": "stdout",
     "output_type": "stream",
     "text": [
      "D:\\Projects\\ExperisAcademy\\Exercises\\OOP\n"
     ]
    }
   ],
   "source": [
    "%cd OOP"
   ]
  },
  {
   "cell_type": "code",
   "execution_count": 1,
   "metadata": {},
   "outputs": [
    {
     "name": "stdout",
     "output_type": "stream",
     "text": [
      " Volume in drive D is Documents\n",
      " Volume Serial Number is 8DBE-F730\n",
      "\n",
      " Directory of D:\\Projects\\ExperisAcademy\\Exercises\n",
      "\n",
      "04.12.2019  16:35    <DIR>          .\n",
      "04.12.2019  16:35    <DIR>          ..\n",
      "04.12.2019  09:01    <DIR>          .ipynb_checkpoints\n",
      "27.11.2019  09:13    <DIR>          Adventure_game\n",
      "04.12.2019  16:35            53,798 Basic Array Creation.ipynb\n",
      "20.11.2019  11:58             7,564 BrainFuck_algorithm.ipynb\n",
      "03.12.2019  09:11    <DIR>          Classes\n",
      "26.11.2019  14:37    <DIR>          IO\n",
      "01.12.2019  15:54    <DIR>          MP_Library\n",
      "04.12.2019  13:52    <DIR>          OOP\n",
      "01.12.2019  10:30    <DIR>          OS\n",
      "26.11.2019  11:31    <DIR>          Project_Gutenberg\n",
      "04.12.2019  16:27                17 test.txt\n",
      "26.11.2019  16:30    <DIR>          Try-Except\n",
      "24.11.2019  16:48             6,762 Untitled.ipynb\n",
      "25.11.2019  16:50             4,572 Untitled1.ipynb\n",
      "               5 File(s)         72,713 bytes\n",
      "              11 Dir(s)  41,978,712,064 bytes free\n"
     ]
    }
   ],
   "source": [
    "!dir"
   ]
  },
  {
   "cell_type": "code",
   "execution_count": 326,
   "metadata": {},
   "outputs": [
    {
     "data": {
      "text/plain": [
       "[' Volume in drive D is Documents',\n",
       " ' Volume Serial Number is 8DBE-F730',\n",
       " '',\n",
       " ' Directory of D:\\\\Projects\\\\ExperisAcademy\\\\Exercises\\\\OOP',\n",
       " '',\n",
       " '04.12.2019  13:52    <DIR>          .',\n",
       " '04.12.2019  13:52    <DIR>          ..',\n",
       " '02.12.2019  12:15             1,437 binary_tree.py',\n",
       " '04.12.2019  09:01               785 Geometry.py',\n",
       " '04.12.2019  13:52             3,885 zoo.py',\n",
       " '03.12.2019  09:11               200 zoo_db.txt',\n",
       " '               4 File(s)          6,307 bytes',\n",
       " '               2 Dir(s)  41,978,716,160 bytes free']"
      ]
     },
     "execution_count": 326,
     "metadata": {},
     "output_type": "execute_result"
    }
   ],
   "source": [
    "current_dir = !dir"
   ]
  },
  {
   "cell_type": "code",
   "execution_count": 3,
   "metadata": {},
   "outputs": [],
   "source": [
    "!echo print('Hello') > test.py"
   ]
  },
  {
   "cell_type": "code",
   "execution_count": 4,
   "metadata": {},
   "outputs": [
    {
     "name": "stdout",
     "output_type": "stream",
     "text": [
      "Hello\n"
     ]
    }
   ],
   "source": [
    "!python test.py"
   ]
  },
  {
   "cell_type": "code",
   "execution_count": 6,
   "metadata": {},
   "outputs": [],
   "source": [
    "name = 'test.py'\n",
    "res = !python $name"
   ]
  },
  {
   "cell_type": "code",
   "execution_count": 8,
   "metadata": {},
   "outputs": [
    {
     "name": "stdout",
     "output_type": "stream",
     "text": [
      " Volume in drive D is Documents\n",
      " Volume Serial Number is 8DBE-F730\n",
      "\n",
      " Directory of D:\\Projects\\ExperisAcademy\\Exercises\n",
      "\n",
      "04.12.2019  16:39    <DIR>          .\n",
      "04.12.2019  16:39    <DIR>          ..\n",
      "04.12.2019  09:01    <DIR>          .ipynb_checkpoints\n",
      "27.11.2019  09:13    <DIR>          Adventure_game\n",
      "04.12.2019  16:39            55,121 Basic Array Creation.ipynb\n",
      "20.11.2019  11:58             7,564 BrainFuck_algorithm.ipynb\n",
      "03.12.2019  09:11    <DIR>          Classes\n",
      "26.11.2019  14:37    <DIR>          IO\n",
      "01.12.2019  15:54    <DIR>          MP_Library\n",
      "04.12.2019  13:52    <DIR>          OOP\n",
      "01.12.2019  10:30    <DIR>          OS\n",
      "26.11.2019  11:31    <DIR>          Project_Gutenberg\n",
      "04.12.2019  16:36                17 test.py\n",
      "04.12.2019  16:27                17 test.txt\n",
      "26.11.2019  16:30    <DIR>          Try-Except\n",
      "24.11.2019  16:48             6,762 Untitled.ipynb\n",
      "25.11.2019  16:50             4,572 Untitled1.ipynb\n",
      "               6 File(s)         74,053 bytes\n",
      "              11 Dir(s)  41,978,712,064 bytes free\n"
     ]
    }
   ],
   "source": [
    "!dir\n"
   ]
  },
  {
   "cell_type": "code",
   "execution_count": 9,
   "metadata": {},
   "outputs": [],
   "source": [
    "!mkdir temp_dir"
   ]
  },
  {
   "cell_type": "code",
   "execution_count": 10,
   "metadata": {},
   "outputs": [
    {
     "name": "stdout",
     "output_type": "stream",
     "text": [
      "D:\\Projects\\ExperisAcademy\\Exercises\\temp_dir\n"
     ]
    }
   ],
   "source": [
    "%cd temp_dir"
   ]
  },
  {
   "cell_type": "code",
   "execution_count": 11,
   "metadata": {},
   "outputs": [],
   "source": [
    "!echo > output.txt\n",
    "!echo > readme.txt"
   ]
  },
  {
   "cell_type": "code",
   "execution_count": 15,
   "metadata": {},
   "outputs": [
    {
     "name": "stdout",
     "output_type": "stream",
     "text": [
      "Displays a list of files and subdirectories in a directory.\n",
      "\n",
      "DIR [drive:][path][filename] [/A[[:]attributes]] [/B] [/C] [/D] [/L] [/N]\n",
      "  [/O[[:]sortorder]] [/P] [/Q] [/R] [/S] [/T[[:]timefield]] [/W] [/X] [/4]\n",
      "\n",
      "  [drive:][path][filename]\n",
      "              Specifies drive, directory, and/or files to list.\n",
      "\n",
      "  /A          Displays files with specified attributes.\n",
      "  attributes   D  Directories                R  Read-only files\n",
      "               H  Hidden files               A  Files ready for archiving\n",
      "               S  System files               I  Not content indexed files\n",
      "               L  Reparse Points             O  Offline files\n",
      "               -  Prefix meaning not\n",
      "  /B          Uses bare format (no heading information or summary).\n",
      "  /C          Display the thousand separator in file sizes.  This is the\n",
      "              default.  Use /-C to disable display of separator.\n",
      "  /D          Same as wide but files are list sorted by column.\n",
      "  /L          Uses lowercase.\n",
      "  /N          New long list format where filenames are on the far right.\n",
      "  /O          List by files in sorted order.\n",
      "  sortorder    N  By name (alphabetic)       S  By size (smallest first)\n",
      "               E  By extension (alphabetic)  D  By date/time (oldest first)\n",
      "               G  Group directories first    -  Prefix to reverse order\n",
      "  /P          Pauses after each screenful of information.\n",
      "  /Q          Display the owner of the file.\n",
      "  /R          Display alternate data streams of the file.\n",
      "  /S          Displays files in specified directory and all subdirectories.\n",
      "  /T          Controls which time field displayed or used for sorting\n",
      "  timefield   C  Creation\n",
      "              A  Last Access\n",
      "              W  Last Written\n",
      "  /W          Uses wide list format.\n",
      "  /X          This displays the short names generated for non-8dot3 file\n",
      "              names.  The format is that of /N with the short name inserted\n",
      "              before the long name. If no short name is present, blanks are\n",
      "              displayed in its place.\n",
      "  /4          Displays four-digit years\n",
      "\n",
      "Switches may be preset in the DIRCMD environment variable.  Override\n",
      "preset switches by prefixing any switch with - (hyphen)--for example, /-W.\n"
     ]
    }
   ],
   "source": [
    "!dir /?"
   ]
  },
  {
   "cell_type": "code",
   "execution_count": 16,
   "metadata": {},
   "outputs": [
    {
     "name": "stdout",
     "output_type": "stream",
     "text": [
      " Volume in drive D is Documents\n",
      " Volume Serial Number is 8DBE-F730\n",
      "\n",
      " Directory of D:\\Projects\\ExperisAcademy\\Exercises\\temp_dir\n",
      "\n",
      "04.12.2019  16:41                13 output.txt\n",
      "04.12.2019  16:41                13 readme.txt\n",
      "               2 File(s)             26 bytes\n",
      "               0 Dir(s)  41,978,707,968 bytes free\n"
     ]
    }
   ],
   "source": [
    "!dir *.txt"
   ]
  },
  {
   "cell_type": "code",
   "execution_count": 17,
   "metadata": {},
   "outputs": [],
   "source": [
    "!cd .."
   ]
  },
  {
   "cell_type": "code",
   "execution_count": 18,
   "metadata": {},
   "outputs": [
    {
     "name": "stdout",
     "output_type": "stream",
     "text": [
      " Volume in drive D is Documents\n",
      " Volume Serial Number is 8DBE-F730\n",
      "\n",
      " Directory of D:\\Projects\\ExperisAcademy\\Exercises\\temp_dir\n",
      "\n",
      "04.12.2019  16:41    <DIR>          .\n",
      "04.12.2019  16:41    <DIR>          ..\n",
      "04.12.2019  16:41                13 output.txt\n",
      "04.12.2019  16:41                13 readme.txt\n",
      "               2 File(s)             26 bytes\n",
      "               2 Dir(s)  41,978,707,968 bytes free\n"
     ]
    }
   ],
   "source": [
    "!dir"
   ]
  },
  {
   "cell_type": "code",
   "execution_count": 19,
   "metadata": {},
   "outputs": [
    {
     "name": "stdout",
     "output_type": "stream",
     "text": [
      "D:\\Projects\\ExperisAcademy\\Exercises\n"
     ]
    }
   ],
   "source": [
    "%cd .."
   ]
  },
  {
   "cell_type": "code",
   "execution_count": null,
   "metadata": {},
   "outputs": [],
   "source": [
    "!rmdir temp_dir /S"
   ]
  },
  {
   "cell_type": "code",
   "execution_count": null,
   "metadata": {},
   "outputs": [],
   "source": [
    "!dir"
   ]
  },
  {
   "cell_type": "code",
   "execution_count": null,
   "metadata": {},
   "outputs": [],
   "source": []
  }
 ],
 "metadata": {
  "kernelspec": {
   "display_name": "Python 3",
   "language": "python",
   "name": "python3"
  },
  "language_info": {
   "codemirror_mode": {
    "name": "ipython",
    "version": 3
   },
   "file_extension": ".py",
   "mimetype": "text/x-python",
   "name": "python",
   "nbconvert_exporter": "python",
   "pygments_lexer": "ipython3",
   "version": "3.7.3"
  }
 },
 "nbformat": 4,
 "nbformat_minor": 2
}
