{
 "cells": [
  {
   "cell_type": "code",
   "execution_count": 1,
   "metadata": {},
   "outputs": [
    {
     "name": "stdout",
     "output_type": "stream",
     "text": [
      "d:\\Projects\\ExperisAcademy\\Exercises\n"
     ]
    }
   ],
   "source": [
    "!cd"
   ]
  },
  {
   "cell_type": "code",
   "execution_count": 2,
   "metadata": {},
   "outputs": [
    {
     "name": "stdout",
     "output_type": "stream",
     "text": [
      "d:\\Projects\\ExperisAcademy\\Exercises\\pandas\n"
     ]
    }
   ],
   "source": [
    "%cd pandas"
   ]
  },
  {
   "cell_type": "code",
   "execution_count": 3,
   "metadata": {},
   "outputs": [
    {
     "name": "stdout",
     "output_type": "stream",
     "text": [
      " Volume in drive D is Media\n",
      " Volume Serial Number is 8463-757E\n",
      "\n",
      " Directory of d:\\Projects\\ExperisAcademy\\Exercises\\pandas\n",
      "\n",
      "09/12/2019  22:25    <DIR>          .\n",
      "09/12/2019  22:25    <DIR>          ..\n",
      "09/12/2019  22:23    <DIR>          .ipynb_checkpoints\n",
      "09/12/2019  22:25             3,424 ex_raw_pd_series.txt\n",
      "09/12/2019  22:11            54,684 w3_pd_DataFrame.ipynb\n",
      "09/12/2019  22:23               757 w3_pd_Series.ipynb\n",
      "               3 File(s)         58,865 bytes\n",
      "               3 Dir(s)  170,913,013,760 bytes free\n"
     ]
    }
   ],
   "source": [
    "!dir"
   ]
  },
  {
   "cell_type": "code",
   "execution_count": 11,
   "metadata": {},
   "outputs": [],
   "source": [
    "with open('ex_raw_pd_HR_database','r') as file:\n",
    "    raw_exs = file.read()"
   ]
  },
  {
   "cell_type": "code",
   "execution_count": 12,
   "metadata": {},
   "outputs": [
    {
     "data": {
      "text/plain": [
       "'1. Write a Pandas program to display all the records of REGIONS file. \\n***\\n\\n2. Write a Pandas program to display all the location id from locations file. \\n***\\n\\n3. Write a Pandas program to extract first 7 records from employees file. \\n***\\n\\n4. Write a Pandas program to select distinct department id from employees file. \\n***\\n\\n5. Write a Pandas program to display the first and last name, and department number for all employees whose last name is \"McEwen\". \\n***\\n\\n6. Write a Pandas program to display the first, last name, salary and department number for those employees whose first name starts with the letter \\'S\\'. \\n***\\n\\n7. Write a Pandas program to display the first, last name, salary and department number for those employees whose first name does not contain the letter \\'M\\'. \\n***\\n\\n8. Write a Pandas program to display the first name, last name, salary and department number in ascending order by department number. \\n***\\n\\n9. Write a Pandas program to display the first name, last name, salary and department number in descending order by first name. \\n***\\n\\n10. Write a Pandas program to display the first name, last name, salary and manger id where manager ids are null. \\n***\\n\\n11. Write a Pandas program to display the first name, last name, salary and manger id where manager ids are not null. \\n***\\n\\n12. Write a Pandas program to create and display a boolean series, where True for not null and False for null values or missing values in state_province column of locations file. \\n***\\n\\n13. Write a Pandas program to create a boolean series selecting rows with one or more nulls from locations file. \\n***\\n\\n14. Write a Pandas program to count the NaN values of all the columns of locations file. \\n***\\n\\n15. Write a Pandas program to display the first name, last name, salary and department number for those employees whose first name ends with the letter \\'m\\'. \\n***\\n\\n16. Write a Pandas program to display the first name, last name, salary and department number for those employees whose first name ends with the letter \\'d\\' or \\'n\\' or \\'s\\' and also arrange the result in descending order by department id. \\n***\\n\\n17. Write a Pandas program to display the first name, last name, salary and department number for employees who works either in department 70 or 90. \\n***\\n\\n18. Write a Pandas program to display the first name, last name, salary and department number for those employees whose managers are hold the ID 120, 103 or 145. \\n***\\n\\n19. Write a Pandas program to display the first, last name, salary and department number for those employees who holds a letter n as a 3rd character in their first name. \\n***\\n\\n20. Write a Pandas program to display the first name, job id, salary and department for those employees not working in the departments 50,30 and 80. \\n***\\n\\n21. Write a Pandas program to display the ID for those employees who did two or more jobs in the past. \\n***\\n\\n22. Write a Pandas program to calculate minimum, maximum and mean salary from employees file. \\n***\\n\\n23. Write a Pandas program to display the details of jobs in descending sequence on job title. \\n***\\n\\n24. Write a Pandas program to display the first and last name and date of joining of the employees who is either Sales Representative or Sales Man. '"
      ]
     },
     "execution_count": 12,
     "metadata": {},
     "output_type": "execute_result"
    }
   ],
   "source": [
    "raw_exs"
   ]
  },
  {
   "cell_type": "code",
   "execution_count": 13,
   "metadata": {},
   "outputs": [
    {
     "data": {
      "text/plain": [
       "['1. Write a Pandas program to display all the records of REGIONS file.',\n",
       " '2. Write a Pandas program to display all the location id from locations file.',\n",
       " '3. Write a Pandas program to extract first 7 records from employees file.',\n",
       " '4. Write a Pandas program to select distinct department id from employees file.',\n",
       " '5. Write a Pandas program to display the first and last name, and department number for all employees whose last name is \"McEwen\".',\n",
       " \"6. Write a Pandas program to display the first, last name, salary and department number for those employees whose first name starts with the letter 'S'.\",\n",
       " \"7. Write a Pandas program to display the first, last name, salary and department number for those employees whose first name does not contain the letter 'M'.\",\n",
       " '8. Write a Pandas program to display the first name, last name, salary and department number in ascending order by department number.',\n",
       " '9. Write a Pandas program to display the first name, last name, salary and department number in descending order by first name.',\n",
       " '10. Write a Pandas program to display the first name, last name, salary and manger id where manager ids are null.',\n",
       " '11. Write a Pandas program to display the first name, last name, salary and manger id where manager ids are not null.',\n",
       " '12. Write a Pandas program to create and display a boolean series, where True for not null and False for null values or missing values in state_province column of locations file.',\n",
       " '13. Write a Pandas program to create a boolean series selecting rows with one or more nulls from locations file.',\n",
       " '14. Write a Pandas program to count the NaN values of all the columns of locations file.',\n",
       " \"15. Write a Pandas program to display the first name, last name, salary and department number for those employees whose first name ends with the letter 'm'.\",\n",
       " \"16. Write a Pandas program to display the first name, last name, salary and department number for those employees whose first name ends with the letter 'd' or 'n' or 's' and also arrange the result in descending order by department id.\",\n",
       " '17. Write a Pandas program to display the first name, last name, salary and department number for employees who works either in department 70 or 90.',\n",
       " '18. Write a Pandas program to display the first name, last name, salary and department number for those employees whose managers are hold the ID 120, 103 or 145.',\n",
       " '19. Write a Pandas program to display the first, last name, salary and department number for those employees who holds a letter n as a 3rd character in their first name.',\n",
       " '20. Write a Pandas program to display the first name, job id, salary and department for those employees not working in the departments 50,30 and 80.',\n",
       " '21. Write a Pandas program to display the ID for those employees who did two or more jobs in the past.',\n",
       " '22. Write a Pandas program to calculate minimum, maximum and mean salary from employees file.',\n",
       " '23. Write a Pandas program to display the details of jobs in descending sequence on job title.',\n",
       " '24. Write a Pandas program to display the first and last name and date of joining of the employees who is either Sales Representative or Sales Man.']"
      ]
     },
     "execution_count": 13,
     "metadata": {},
     "output_type": "execute_result"
    }
   ],
   "source": [
    "# Initial split by exercises:\n",
    "separated_exs = [ex.strip() for ex in raw_exs.split('***')]\n",
    "separated_exs"
   ]
  },
  {
   "cell_type": "code",
   "execution_count": 14,
   "metadata": {},
   "outputs": [
    {
     "data": {
      "text/plain": [
       "[['1. Write a Pandas program to display all the records of REGIONS file.'],\n",
       " ['2. Write a Pandas program to display all the location id from locations file.'],\n",
       " ['3. Write a Pandas program to extract first 7 records from employees file.'],\n",
       " ['4. Write a Pandas program to select distinct department id from employees file.'],\n",
       " ['5. Write a Pandas program to display the first and last name, and department number for all employees whose last name is \"McEwen\".'],\n",
       " [\"6. Write a Pandas program to display the first, last name, salary and department number for those employees whose first name starts with the letter 'S'.\"],\n",
       " [\"7. Write a Pandas program to display the first, last name, salary and department number for those employees whose first name does not contain the letter 'M'.\"],\n",
       " ['8. Write a Pandas program to display the first name, last name, salary and department number in ascending order by department number.'],\n",
       " ['9. Write a Pandas program to display the first name, last name, salary and department number in descending order by first name.'],\n",
       " ['10. Write a Pandas program to display the first name, last name, salary and manger id where manager ids are null.'],\n",
       " ['11. Write a Pandas program to display the first name, last name, salary and manger id where manager ids are not null.'],\n",
       " ['12. Write a Pandas program to create and display a boolean series, where True for not null and False for null values or missing values in state_province column of locations file.'],\n",
       " ['13. Write a Pandas program to create a boolean series selecting rows with one or more nulls from locations file.'],\n",
       " ['14. Write a Pandas program to count the NaN values of all the columns of locations file.'],\n",
       " [\"15. Write a Pandas program to display the first name, last name, salary and department number for those employees whose first name ends with the letter 'm'.\"],\n",
       " [\"16. Write a Pandas program to display the first name, last name, salary and department number for those employees whose first name ends with the letter 'd' or 'n' or 's' and also arrange the result in descending order by department id.\"],\n",
       " ['17. Write a Pandas program to display the first name, last name, salary and department number for employees who works either in department 70 or 90.'],\n",
       " ['18. Write a Pandas program to display the first name, last name, salary and department number for those employees whose managers are hold the ID 120, 103 or 145.'],\n",
       " ['19. Write a Pandas program to display the first, last name, salary and department number for those employees who holds a letter n as a 3rd character in their first name.'],\n",
       " ['20. Write a Pandas program to display the first name, job id, salary and department for those employees not working in the departments 50,30 and 80.'],\n",
       " ['21. Write a Pandas program to display the ID for those employees who did two or more jobs in the past.'],\n",
       " ['22. Write a Pandas program to calculate minimum, maximum and mean salary from employees file.'],\n",
       " ['23. Write a Pandas program to display the details of jobs in descending sequence on job title.'],\n",
       " ['24. Write a Pandas program to display the first and last name and date of joining of the employees who is either Sales Representative or Sales Man.']]"
      ]
     },
     "execution_count": 14,
     "metadata": {},
     "output_type": "execute_result"
    }
   ],
   "source": [
    "# Split lines in each exercise:\n",
    "splitted_exs = [ex.split('\\n') for ex in separated_exs]\n",
    "splitted_exs"
   ]
  },
  {
   "cell_type": "code",
   "execution_count": 15,
   "metadata": {},
   "outputs": [],
   "source": [
    "# Format each exercise: add '#### ' to the first line, '  ' to every line:\n",
    "for ex_i, ex in enumerate(splitted_exs):\n",
    "    for line_i, line in enumerate(ex):\n",
    "        splitted_exs[ex_i][line_i] = '#### ' + line if line_i == 0 else line\n",
    "        splitted_exs[ex_i][line_i] = splitted_exs[ex_i][line_i] + '  '"
   ]
  },
  {
   "cell_type": "code",
   "execution_count": 16,
   "metadata": {},
   "outputs": [
    {
     "data": {
      "text/plain": [
       "[['#### 1. Write a Pandas program to display all the records of REGIONS file.  '],\n",
       " ['#### 2. Write a Pandas program to display all the location id from locations file.  '],\n",
       " ['#### 3. Write a Pandas program to extract first 7 records from employees file.  '],\n",
       " ['#### 4. Write a Pandas program to select distinct department id from employees file.  '],\n",
       " ['#### 5. Write a Pandas program to display the first and last name, and department number for all employees whose last name is \"McEwen\".  '],\n",
       " [\"#### 6. Write a Pandas program to display the first, last name, salary and department number for those employees whose first name starts with the letter 'S'.  \"],\n",
       " [\"#### 7. Write a Pandas program to display the first, last name, salary and department number for those employees whose first name does not contain the letter 'M'.  \"],\n",
       " ['#### 8. Write a Pandas program to display the first name, last name, salary and department number in ascending order by department number.  '],\n",
       " ['#### 9. Write a Pandas program to display the first name, last name, salary and department number in descending order by first name.  '],\n",
       " ['#### 10. Write a Pandas program to display the first name, last name, salary and manger id where manager ids are null.  '],\n",
       " ['#### 11. Write a Pandas program to display the first name, last name, salary and manger id where manager ids are not null.  '],\n",
       " ['#### 12. Write a Pandas program to create and display a boolean series, where True for not null and False for null values or missing values in state_province column of locations file.  '],\n",
       " ['#### 13. Write a Pandas program to create a boolean series selecting rows with one or more nulls from locations file.  '],\n",
       " ['#### 14. Write a Pandas program to count the NaN values of all the columns of locations file.  '],\n",
       " [\"#### 15. Write a Pandas program to display the first name, last name, salary and department number for those employees whose first name ends with the letter 'm'.  \"],\n",
       " [\"#### 16. Write a Pandas program to display the first name, last name, salary and department number for those employees whose first name ends with the letter 'd' or 'n' or 's' and also arrange the result in descending order by department id.  \"],\n",
       " ['#### 17. Write a Pandas program to display the first name, last name, salary and department number for employees who works either in department 70 or 90.  '],\n",
       " ['#### 18. Write a Pandas program to display the first name, last name, salary and department number for those employees whose managers are hold the ID 120, 103 or 145.  '],\n",
       " ['#### 19. Write a Pandas program to display the first, last name, salary and department number for those employees who holds a letter n as a 3rd character in their first name.  '],\n",
       " ['#### 20. Write a Pandas program to display the first name, job id, salary and department for those employees not working in the departments 50,30 and 80.  '],\n",
       " ['#### 21. Write a Pandas program to display the ID for those employees who did two or more jobs in the past.  '],\n",
       " ['#### 22. Write a Pandas program to calculate minimum, maximum and mean salary from employees file.  '],\n",
       " ['#### 23. Write a Pandas program to display the details of jobs in descending sequence on job title.  '],\n",
       " ['#### 24. Write a Pandas program to display the first and last name and date of joining of the employees who is either Sales Representative or Sales Man.  ']]"
      ]
     },
     "execution_count": 16,
     "metadata": {},
     "output_type": "execute_result"
    }
   ],
   "source": [
    "splitted_exs"
   ]
  },
  {
   "cell_type": "code",
   "execution_count": 17,
   "metadata": {},
   "outputs": [],
   "source": [
    "# Save to a new file:\n",
    "with open('processed_pd_HR_database.txt', 'w') as file:\n",
    "    for ex in splitted_exs:\n",
    "        print('#%% md\\n', file=file)\n",
    "        for line in ex:\n",
    "            print(line, file=file)\n",
    "        print(\"\", file=file)\n",
    "        print(\"#%%\\n\", file=file)"
   ]
  }
 ],
 "metadata": {
  "kernelspec": {
   "display_name": "Python 3",
   "language": "python",
   "name": "python3"
  },
  "language_info": {
   "codemirror_mode": {
    "name": "ipython",
    "version": 3
   },
   "file_extension": ".py",
   "mimetype": "text/x-python",
   "name": "python",
   "nbconvert_exporter": "python",
   "pygments_lexer": "ipython3",
   "version": "3.7.3"
  }
 },
 "nbformat": 4,
 "nbformat_minor": 2
}
