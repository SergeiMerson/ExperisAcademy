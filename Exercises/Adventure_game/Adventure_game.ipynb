{
 "cells": [
  {
   "cell_type": "code",
   "execution_count": 1,
   "metadata": {},
   "outputs": [],
   "source": [
    "from pprint import pprint"
   ]
  },
  {
   "cell_type": "markdown",
   "metadata": {},
   "source": [
    "# Places"
   ]
  },
  {
   "cell_type": "code",
   "execution_count": 2,
   "metadata": {},
   "outputs": [],
   "source": [
    "def create_place(name:str, type:str, description:str):\n",
    "    place = {'name': name, 'type': type, 'description': description,\n",
    "             'items': {}, 'objects':{}, 'connections': {}}\n",
    "    return place\n",
    "\n",
    "\n",
    "def get_dir_options():\n",
    "    dir_options = {'South':'North', 'North':'South', 'East':'West', 'West':'East'}\n",
    "    return dir_options\n",
    "\n",
    "    \n",
    "def connect_places(p1:dict, p2:dict, direction:str):\n",
    "    # Get direction options:\n",
    "    dir_options = get_dir_options()\n",
    "    \n",
    "    # Create connection only if the direciton is valid:\n",
    "    if direction in dir_options:\n",
    "        \n",
    "        # Check that p1 has no previous connection in that direction:\n",
    "        if p1['connections'].get(direction, False):\n",
    "            \n",
    "            # If there is existing connection, print message and do not change it:\n",
    "            print('{0} is already connected in this direction to {1}'\n",
    "                  .format(p1['name'], p1['connections'].get(direction)['name']))\n",
    "            \n",
    "        # Check that p2 has no previous connection in opposit direction:\n",
    "        elif p2['connections'].get(dir_options[direction], False):\n",
    "            \n",
    "            # If there is existing connection, print message and do not change it:\n",
    "            print('{0} is already connected in opposit direction to {1}'\n",
    "                  .format(p2['name'], p2['connections'].get(dir_options[direction])['name']))\n",
    "        \n",
    "        else:\n",
    "            # Create connection for both objects:\n",
    "            p1['connections'][direction] = p2\n",
    "            p2['connections'][dir_options[direction]] = p1\n",
    "\n",
    "\n",
    "def remove_connection(p1:dict, direction:str):\n",
    "    # Get direction options:\n",
    "    dir_options = get_dir_options()\n",
    "    \n",
    "    # Check that p1 has connection in specified direciton:\n",
    "    if p1['connections'].get(direction, False):\n",
    "        # Get the opposite place object:\n",
    "        p2 = p1['connections'][direction]\n",
    "        \n",
    "        # Remove connections in both directions:\n",
    "        del p1['connections'][direction]\n",
    "        del p2['connections'][dir_options[direction]]\n",
    "    \n",
    "    else:\n",
    "        print('{0} has no connection on {1}'.format(p1['name'], direction))"
   ]
  },
  {
   "cell_type": "markdown",
   "metadata": {},
   "source": [
    "# Items and Objects\n",
    "NPCs, Objects that coudn't be put into inventory"
   ]
  },
  {
   "cell_type": "code",
   "execution_count": 3,
   "metadata": {},
   "outputs": [],
   "source": [
    "def create_item(name:str, description:str):\n",
    "    item = {'name':name, 'description':description, 'place':{}, 'actions':set()}\n",
    "    return item\n",
    "\n",
    "    \n",
    "def create_object(name:str, description:str):\n",
    "    obj = {'name':name, 'description':description, 'place':{}, 'items': {}, 'reactions':{}}\n",
    "    return obj\n",
    "\n",
    "\n",
    "def move(item:dict, p2:dict):\n",
    "    # Check what is the current item|object location:\n",
    "    if item.get('place') != {}:\n",
    "        \n",
    "        # If item exists in some place, remove it from there:\n",
    "        del item['place']['items'][item['name']]\n",
    "        \n",
    "    # Place the item/object into new place:\n",
    "    p2['items'][item['name']] = item\n",
    "    \n",
    "    # Update the item/object location:\n",
    "    item['place'] = p2\n"
   ]
  },
  {
   "cell_type": "markdown",
   "metadata": {},
   "source": [
    "# <center> Integration </center>"
   ]
  },
  {
   "cell_type": "markdown",
   "metadata": {},
   "source": [
    "#### Create dict that will contain all the items:"
   ]
  },
  {
   "cell_type": "code",
   "execution_count": 4,
   "metadata": {},
   "outputs": [],
   "source": [
    "I = {'dagger': create_item('dagger','old daddy\\'s dagger'),\n",
    "     'ring'  : create_item('ring','The ring of Power'),\n",
    "     'potion': create_item('shield', 'The shield of Truth')}"
   ]
  },
  {
   "cell_type": "code",
   "execution_count": 5,
   "metadata": {},
   "outputs": [
    {
     "name": "stdout",
     "output_type": "stream",
     "text": [
      "{'dagger': {'actions': set(),\n",
      "            'description': \"old daddy's dagger\",\n",
      "            'name': 'dagger',\n",
      "            'place': {}},\n",
      " 'potion': {'actions': set(),\n",
      "            'description': 'The shield of Truth',\n",
      "            'name': 'shield',\n",
      "            'place': {}},\n",
      " 'ring': {'actions': set(),\n",
      "          'description': 'The ring of Power',\n",
      "          'name': 'ring',\n",
      "          'place': {}}}\n"
     ]
    }
   ],
   "source": [
    "pprint(I)"
   ]
  },
  {
   "cell_type": "markdown",
   "metadata": {},
   "source": [
    "#### Create dict that will contain all the objects:"
   ]
  },
  {
   "cell_type": "code",
   "execution_count": 6,
   "metadata": {},
   "outputs": [],
   "source": [
    "O = {'chest' : create_object('old chest','Old daddy\\'s chest'),\n",
    "     'door'  : create_object('west door','Heavy wooden door'),\n",
    "     'mutant': create_object('mutant','An ugly evil mutant')}"
   ]
  },
  {
   "cell_type": "code",
   "execution_count": 7,
   "metadata": {},
   "outputs": [
    {
     "name": "stdout",
     "output_type": "stream",
     "text": [
      "{'chest': {'description': \"Old daddy's chest\",\n",
      "           'items': {},\n",
      "           'name': 'old chest',\n",
      "           'place': {},\n",
      "           'reactions': {}},\n",
      " 'door': {'description': 'Heavy wooden door',\n",
      "          'items': {},\n",
      "          'name': 'west door',\n",
      "          'place': {},\n",
      "          'reactions': {}},\n",
      " 'mutant': {'description': 'An ugly evil mutant',\n",
      "            'items': {},\n",
      "            'name': 'mutant',\n",
      "            'place': {},\n",
      "            'reactions': {}}}\n"
     ]
    }
   ],
   "source": [
    "pprint(O)"
   ]
  },
  {
   "cell_type": "markdown",
   "metadata": {},
   "source": [
    "#### Create dict that will contain all the places:"
   ]
  },
  {
   "cell_type": "code",
   "execution_count": 8,
   "metadata": {},
   "outputs": [],
   "source": [
    "P = {'Inventory': create_place('Inventory', 'Inventory', 'Your personal inventory'),\n",
    "     'Mordor'   : create_place('Mordor','DevilLands','The resicense of Evil'),\n",
    "     'Hollyland': create_place('Hollyland','AngelHeights','Paradise')}"
   ]
  },
  {
   "cell_type": "code",
   "execution_count": 9,
   "metadata": {},
   "outputs": [
    {
     "name": "stdout",
     "output_type": "stream",
     "text": [
      "{'Hollyland': {'connections': {},\n",
      "               'description': 'Paradise',\n",
      "               'items': {},\n",
      "               'name': 'Hollyland',\n",
      "               'objects': {},\n",
      "               'type': 'AngelHeights'},\n",
      " 'Inventory': {'connections': {},\n",
      "               'description': 'Your personal inventory',\n",
      "               'items': {},\n",
      "               'name': 'Inventory',\n",
      "               'objects': {},\n",
      "               'type': 'Inventory'},\n",
      " 'Mordor': {'connections': {},\n",
      "            'description': 'The resicense of Evil',\n",
      "            'items': {},\n",
      "            'name': 'Mordor',\n",
      "            'objects': {},\n",
      "            'type': 'DevilLands'}}\n"
     ]
    }
   ],
   "source": [
    "pprint(P)"
   ]
  },
  {
   "cell_type": "markdown",
   "metadata": {},
   "source": [
    "#### Create connections between places:"
   ]
  },
  {
   "cell_type": "code",
   "execution_count": 10,
   "metadata": {},
   "outputs": [
    {
     "name": "stdout",
     "output_type": "stream",
     "text": [
      "{'name': 'Mordor', 'type': 'DevilLands', 'description': 'The resicense of Evil', 'items': {}, 'objects': {}, 'connections': {'South': {'name': 'Hollyland', 'type': 'AngelHeights', 'description': 'Paradise', 'items': {}, 'objects': {}, 'connections': {'North': {...}}}}}\n",
      "{'name': 'Hollyland', 'type': 'AngelHeights', 'description': 'Paradise', 'items': {}, 'objects': {}, 'connections': {'North': {'name': 'Mordor', 'type': 'DevilLands', 'description': 'The resicense of Evil', 'items': {}, 'objects': {}, 'connections': {'South': {...}}}}}\n"
     ]
    }
   ],
   "source": [
    "connect_places(P['Mordor'], P['Hollyland'], 'South')\n",
    "print(P['Mordor'], P['Hollyland'], sep='\\n')"
   ]
  },
  {
   "cell_type": "markdown",
   "metadata": {},
   "source": [
    "#### Place some objects:"
   ]
  },
  {
   "cell_type": "code",
   "execution_count": 11,
   "metadata": {},
   "outputs": [
    {
     "name": "stdout",
     "output_type": "stream",
     "text": [
      "{'name': 'old chest', 'description': \"Old daddy's chest\", 'place': {'name': 'Hollyland', 'type': 'AngelHeights', 'description': 'Paradise', 'items': {'old chest': {...}}, 'objects': {}, 'connections': {'North': {'name': 'Mordor', 'type': 'DevilLands', 'description': 'The resicense of Evil', 'items': {}, 'objects': {}, 'connections': {'South': {...}}}}}, 'items': {}, 'reactions': {}}\n",
      "\n",
      "{'name': 'Hollyland', 'type': 'AngelHeights', 'description': 'Paradise', 'items': {'old chest': {'name': 'old chest', 'description': \"Old daddy's chest\", 'place': {...}, 'items': {}, 'reactions': {}}}, 'objects': {}, 'connections': {'North': {'name': 'Mordor', 'type': 'DevilLands', 'description': 'The resicense of Evil', 'items': {}, 'objects': {}, 'connections': {'South': {...}}}}}\n"
     ]
    }
   ],
   "source": [
    "move(O['chest'], P['Hollyland'])\n",
    "print(O['chest'], P['Hollyland'], sep='\\n\\n')"
   ]
  },
  {
   "cell_type": "markdown",
   "metadata": {},
   "source": [
    "#### Place some items:"
   ]
  },
  {
   "cell_type": "code",
   "execution_count": 12,
   "metadata": {},
   "outputs": [
    {
     "name": "stdout",
     "output_type": "stream",
     "text": [
      "{'name': 'Hollyland', 'type': 'AngelHeights', 'description': 'Paradise', 'items': {'old chest': {'name': 'old chest', 'description': \"Old daddy's chest\", 'place': {...}, 'items': {'dagger': {'name': 'dagger', 'description': \"old daddy's dagger\", 'place': {...}, 'actions': set()}}, 'reactions': {}}}, 'objects': {}, 'connections': {'North': {'name': 'Mordor', 'type': 'DevilLands', 'description': 'The resicense of Evil', 'items': {}, 'objects': {}, 'connections': {'South': {...}}}}}\n",
      "\n",
      "{'name': 'old chest', 'description': \"Old daddy's chest\", 'place': {'name': 'Hollyland', 'type': 'AngelHeights', 'description': 'Paradise', 'items': {'old chest': {...}}, 'objects': {}, 'connections': {'North': {'name': 'Mordor', 'type': 'DevilLands', 'description': 'The resicense of Evil', 'items': {}, 'objects': {}, 'connections': {'South': {...}}}}}, 'items': {'dagger': {'name': 'dagger', 'description': \"old daddy's dagger\", 'place': {...}, 'actions': set()}}, 'reactions': {}}\n",
      "\n",
      "{'name': 'dagger', 'description': \"old daddy's dagger\", 'place': {'name': 'old chest', 'description': \"Old daddy's chest\", 'place': {'name': 'Hollyland', 'type': 'AngelHeights', 'description': 'Paradise', 'items': {'old chest': {...}}, 'objects': {}, 'connections': {'North': {'name': 'Mordor', 'type': 'DevilLands', 'description': 'The resicense of Evil', 'items': {}, 'objects': {}, 'connections': {'South': {...}}}}}, 'items': {'dagger': {...}}, 'reactions': {}}, 'actions': set()}\n"
     ]
    }
   ],
   "source": [
    "move(I['dagger'], O['chest'])\n",
    "print(P['Hollyland'], O['chest'], I['dagger'], sep='\\n\\n')"
   ]
  },
  {
   "cell_type": "markdown",
   "metadata": {},
   "source": [
    "# Language\n",
    "convert user commands into action words"
   ]
  },
  {
   "cell_type": "code",
   "execution_count": 13,
   "metadata": {},
   "outputs": [],
   "source": [
    "def create_vocabulary():\n",
    "    # Define dict where key is acceptable command and value is a list of synonims:\n",
    "    voc = {'take': ['take','get','pick up'],\n",
    "           'go'  : ['go','follow','run'],\n",
    "           'use' : ['use','apply']}\n",
    "    \n",
    "    # Save acceptable commands in a tuple:\n",
    "    commands = tuple(voc.keys())\n",
    "    \n",
    "    # Create empty dict to store invented key:value pairs:\n",
    "    inv_voc = {}\n",
    "    \n",
    "    # Invent original dict and store results in the new one:\n",
    "    for key, val in voc.items():\n",
    "        inv_voc = {**inv_voc, **{v: key for v in val}}\n",
    "    \n",
    "    return commands, inv_voc\n",
    "\n",
    "\n",
    "def check_command(keyword):\n",
    "    # Get command list:\n",
    "    command_list, _ = create_vocabulary()\n",
    "    \n",
    "    return keyword in command_list"
   ]
  },
  {
   "cell_type": "code",
   "execution_count": 14,
   "metadata": {
    "scrolled": true
   },
   "outputs": [
    {
     "name": "stdout",
     "output_type": "stream",
     "text": [
      "('take', 'go', 'use') {'take': 'take', 'get': 'take', 'pick up': 'take', 'go': 'go', 'follow': 'go', 'run': 'go', 'use': 'use', 'apply': 'use'}\n"
     ]
    }
   ],
   "source": [
    "commands, vocabulary = create_vocabulary()\n",
    "print(commands, vocabulary)"
   ]
  },
  {
   "cell_type": "markdown",
   "metadata": {},
   "source": [
    "# Actions and Reactons\n",
    "define actions available to every item and object"
   ]
  },
  {
   "cell_type": "code",
   "execution_count": 15,
   "metadata": {},
   "outputs": [],
   "source": [
    "def add_action(item:dict, keyword:str):\n",
    "    # Check that keyword is in command list:\n",
    "    if check_command(keyword):\n",
    "        item['actions'].add(keyword)\n",
    "    else:\n",
    "        print('Such action is not available')\n",
    "\n",
    "\n",
    "def remove_action(item:dict, keyword:str):\n",
    "    # Check that keyword is in item actions:\n",
    "    if keyword in item['actions']:\n",
    "        item['actions'].remove(keyword)\n",
    "    else:\n",
    "        print('{} has no such action'.format(item['name']))"
   ]
  },
  {
   "cell_type": "code",
   "execution_count": 75,
   "metadata": {},
   "outputs": [],
   "source": [
    "def add_reaction(obj:dict, action:str, reaction, args:tuple=()):\n",
    "    # Check that keyword is in command list:\n",
    "    if not check_command(action):\n",
    "        print('Such action is not available')\n",
    "    else:\n",
    "        obj['reactions'][action] = obj['reactions'].get(action, [])\n",
    "        obj['reactions'][action].append((reaction, args))\n",
    "        \n",
    "\n",
    "def remove_reaction(obj:dict, action:str, reaction_ind=-1, remove_all=False):\n",
    "    if remove_all:\n",
    "        try:\n",
    "            del obj['reactions'][action]\n",
    "        except(KeyError):\n",
    "            print('There is no reactons for such action')\n",
    "    else:\n",
    "        try:\n",
    "            obj['reactions'][action].pop(reaction_ind)\n",
    "        except:\n",
    "            print('There is no such reaciton index')\n",
    "\n",
    "\n",
    "def replace_reaction(obj:dict, action:str, reaction_ind, reaction_new, args:tuple=()):\n",
    "    try:\n",
    "        obj['reactions'][action][reaction_ind] = (reaction_new, args)\n",
    "    except:\n",
    "        print('There is no such reaction number')\n",
    "\n",
    "\n",
    "def print_reactions(obj:dict, action:str):\n",
    "    try:\n",
    "        # Print list of existing functions:\n",
    "        for i, reaction in enumerate(obj['reactions'][action]):\n",
    "            print('Reaction #{}: {}'.format(i, reaction))\n",
    "    except:\n",
    "        print('There is no reactons for such action')\n",
    "\n",
    "\n",
    "def apply_actions(obj:dict, action:str):\n",
    "    try:\n",
    "        for reaction in obj['reactions'][action]:\n",
    "            func = reaction[0]\n",
    "            args = reaction[1]\n",
    "            if len(args) == 0:\n",
    "                func()\n",
    "            else:\n",
    "                func(*args)\n",
    "    except:\n",
    "        print('There is no reaction for such action')    \n"
   ]
  },
  {
   "cell_type": "code",
   "execution_count": 76,
   "metadata": {},
   "outputs": [
    {
     "name": "stdout",
     "output_type": "stream",
     "text": [
      "There is no reactons for such action\n"
     ]
    }
   ],
   "source": [
    "print_reactions(O['chest'], 'take')"
   ]
  },
  {
   "cell_type": "code",
   "execution_count": 77,
   "metadata": {},
   "outputs": [
    {
     "name": "stdout",
     "output_type": "stream",
     "text": [
      "There is no reactons for such action\n",
      "There is no reactons for such action\n"
     ]
    }
   ],
   "source": [
    "remove_reaction(O['chest'],'take',remove_all=True)\n",
    "print_reactions(O['chest'], 'take')"
   ]
  },
  {
   "cell_type": "code",
   "execution_count": 78,
   "metadata": {},
   "outputs": [
    {
     "name": "stdout",
     "output_type": "stream",
     "text": [
      "Reaction #0: (<built-in function print>, (\"You can't just take this chest, you idiot!\",))\n"
     ]
    }
   ],
   "source": [
    "add_reaction(O['chest'],'take',print,('You can\\'t just take this chest, you idiot!',))\n",
    "print_reactions(O['chest'], 'take')"
   ]
  },
  {
   "cell_type": "code",
   "execution_count": 79,
   "metadata": {},
   "outputs": [
    {
     "name": "stdout",
     "output_type": "stream",
     "text": [
      "Reaction #0: (<built-in function print>, (\"You can't just take this chest, you idiot!\",))\n",
      "Reaction #1: (<built-in function print>, (\"Why don't you believe me??!\",))\n"
     ]
    }
   ],
   "source": [
    "add_reaction(O['chest'],'take',print,('Why don\\'t you believe me??!',))\n",
    "print_reactions(O['chest'], 'take')"
   ]
  },
  {
   "cell_type": "code",
   "execution_count": 80,
   "metadata": {},
   "outputs": [
    {
     "name": "stdout",
     "output_type": "stream",
     "text": [
      "You can't just take this chest, you idiot!\n",
      "Why don't you believe me??!\n"
     ]
    }
   ],
   "source": [
    "apply_actions(O['chest'], 'take')"
   ]
  },
  {
   "cell_type": "code",
   "execution_count": 83,
   "metadata": {},
   "outputs": [
    {
     "name": "stdout",
     "output_type": "stream",
     "text": [
      "Reaction #0: (<built-in function print>, (\"You can't just take this chest, you idiot!\",))\n",
      "Reaction #1: (<built-in function print>, ('OK, OK, just kidding, it is yours))',))\n"
     ]
    }
   ],
   "source": [
    "replace_reaction(O['chest'], 'take', 1, print, ('OK, OK, just kidding, it is yours))',))\n",
    "print_reactions(O['chest'], 'take')"
   ]
  },
  {
   "cell_type": "code",
   "execution_count": 84,
   "metadata": {},
   "outputs": [
    {
     "name": "stdout",
     "output_type": "stream",
     "text": [
      "You can't just take this chest, you idiot!\n",
      "OK, OK, just kidding, it is yours))\n"
     ]
    }
   ],
   "source": [
    "apply_actions(O['chest'], 'take')"
   ]
  },
  {
   "cell_type": "code",
   "execution_count": 85,
   "metadata": {
    "scrolled": true
   },
   "outputs": [
    {
     "name": "stdout",
     "output_type": "stream",
     "text": [
      "Reaction #0: (<built-in function print>, ('OK, OK, just kidding, it is yours))',))\n"
     ]
    }
   ],
   "source": [
    "remove_reaction(O['chest'], 'take', 0)\n",
    "print_reactions(O['chest'], 'take')"
   ]
  },
  {
   "cell_type": "code",
   "execution_count": null,
   "metadata": {},
   "outputs": [],
   "source": [
    "[i for i in range(2,101) if sum([i ])]"
   ]
  }
 ],
 "metadata": {
  "kernelspec": {
   "display_name": "Python 3",
   "language": "python",
   "name": "python3"
  },
  "language_info": {
   "codemirror_mode": {
    "name": "ipython",
    "version": 3
   },
   "file_extension": ".py",
   "mimetype": "text/x-python",
   "name": "python",
   "nbconvert_exporter": "python",
   "pygments_lexer": "ipython3",
   "version": "3.7.3"
  }
 },
 "nbformat": 4,
 "nbformat_minor": 2
}
